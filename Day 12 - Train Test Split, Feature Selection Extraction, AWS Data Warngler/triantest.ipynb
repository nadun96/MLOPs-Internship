{
 "cells": [
  {
   "cell_type": "code",
   "execution_count": 18,
   "metadata": {},
   "outputs": [],
   "source": [
    "import numpy as np\n",
    "import matplotlib.pyplot as plt\n",
    "import seaborn as sns\n",
    "import pandas as pd"
   ]
  },
  {
   "cell_type": "code",
   "execution_count": 19,
   "metadata": {},
   "outputs": [
    {
     "data": {
      "text/html": [
       "<div>\n",
       "<style scoped>\n",
       "    .dataframe tbody tr th:only-of-type {\n",
       "        vertical-align: middle;\n",
       "    }\n",
       "\n",
       "    .dataframe tbody tr th {\n",
       "        vertical-align: top;\n",
       "    }\n",
       "\n",
       "    .dataframe thead th {\n",
       "        text-align: right;\n",
       "    }\n",
       "</style>\n",
       "<table border=\"1\" class=\"dataframe\">\n",
       "  <thead>\n",
       "    <tr style=\"text-align: right;\">\n",
       "      <th></th>\n",
       "      <th>sepal_length</th>\n",
       "      <th>sepal_width</th>\n",
       "      <th>petal_length</th>\n",
       "      <th>petal_width</th>\n",
       "      <th>species</th>\n",
       "    </tr>\n",
       "  </thead>\n",
       "  <tbody>\n",
       "    <tr>\n",
       "      <th>0</th>\n",
       "      <td>5.1</td>\n",
       "      <td>3.5</td>\n",
       "      <td>1.4</td>\n",
       "      <td>0.2</td>\n",
       "      <td>setosa</td>\n",
       "    </tr>\n",
       "    <tr>\n",
       "      <th>1</th>\n",
       "      <td>4.9</td>\n",
       "      <td>3.0</td>\n",
       "      <td>1.4</td>\n",
       "      <td>0.2</td>\n",
       "      <td>setosa</td>\n",
       "    </tr>\n",
       "    <tr>\n",
       "      <th>2</th>\n",
       "      <td>4.7</td>\n",
       "      <td>3.2</td>\n",
       "      <td>1.3</td>\n",
       "      <td>0.2</td>\n",
       "      <td>setosa</td>\n",
       "    </tr>\n",
       "    <tr>\n",
       "      <th>3</th>\n",
       "      <td>4.6</td>\n",
       "      <td>3.1</td>\n",
       "      <td>1.5</td>\n",
       "      <td>0.2</td>\n",
       "      <td>setosa</td>\n",
       "    </tr>\n",
       "    <tr>\n",
       "      <th>4</th>\n",
       "      <td>5.0</td>\n",
       "      <td>3.6</td>\n",
       "      <td>1.4</td>\n",
       "      <td>0.2</td>\n",
       "      <td>setosa</td>\n",
       "    </tr>\n",
       "  </tbody>\n",
       "</table>\n",
       "</div>"
      ],
      "text/plain": [
       "   sepal_length  sepal_width  petal_length  petal_width species\n",
       "0           5.1          3.5           1.4          0.2  setosa\n",
       "1           4.9          3.0           1.4          0.2  setosa\n",
       "2           4.7          3.2           1.3          0.2  setosa\n",
       "3           4.6          3.1           1.5          0.2  setosa\n",
       "4           5.0          3.6           1.4          0.2  setosa"
      ]
     },
     "execution_count": 19,
     "metadata": {},
     "output_type": "execute_result"
    }
   ],
   "source": [
    "data = sns.load_dataset('iris')\n",
    "data.head()"
   ]
  },
  {
   "cell_type": "code",
   "execution_count": 20,
   "metadata": {},
   "outputs": [
    {
     "data": {
      "text/html": [
       "<div>\n",
       "<style scoped>\n",
       "    .dataframe tbody tr th:only-of-type {\n",
       "        vertical-align: middle;\n",
       "    }\n",
       "\n",
       "    .dataframe tbody tr th {\n",
       "        vertical-align: top;\n",
       "    }\n",
       "\n",
       "    .dataframe thead th {\n",
       "        text-align: right;\n",
       "    }\n",
       "</style>\n",
       "<table border=\"1\" class=\"dataframe\">\n",
       "  <thead>\n",
       "    <tr style=\"text-align: right;\">\n",
       "      <th></th>\n",
       "      <th>sepal_length</th>\n",
       "      <th>sepal_width</th>\n",
       "      <th>petal_length</th>\n",
       "      <th>petal_width</th>\n",
       "      <th>species</th>\n",
       "    </tr>\n",
       "  </thead>\n",
       "  <tbody>\n",
       "    <tr>\n",
       "      <th>0</th>\n",
       "      <td>5.1</td>\n",
       "      <td>3.5</td>\n",
       "      <td>1.4</td>\n",
       "      <td>0.2</td>\n",
       "      <td>0</td>\n",
       "    </tr>\n",
       "    <tr>\n",
       "      <th>1</th>\n",
       "      <td>4.9</td>\n",
       "      <td>3.0</td>\n",
       "      <td>1.4</td>\n",
       "      <td>0.2</td>\n",
       "      <td>0</td>\n",
       "    </tr>\n",
       "    <tr>\n",
       "      <th>2</th>\n",
       "      <td>4.7</td>\n",
       "      <td>3.2</td>\n",
       "      <td>1.3</td>\n",
       "      <td>0.2</td>\n",
       "      <td>0</td>\n",
       "    </tr>\n",
       "    <tr>\n",
       "      <th>3</th>\n",
       "      <td>4.6</td>\n",
       "      <td>3.1</td>\n",
       "      <td>1.5</td>\n",
       "      <td>0.2</td>\n",
       "      <td>0</td>\n",
       "    </tr>\n",
       "    <tr>\n",
       "      <th>4</th>\n",
       "      <td>5.0</td>\n",
       "      <td>3.6</td>\n",
       "      <td>1.4</td>\n",
       "      <td>0.2</td>\n",
       "      <td>0</td>\n",
       "    </tr>\n",
       "  </tbody>\n",
       "</table>\n",
       "</div>"
      ],
      "text/plain": [
       "   sepal_length  sepal_width  petal_length  petal_width  species\n",
       "0           5.1          3.5           1.4          0.2        0\n",
       "1           4.9          3.0           1.4          0.2        0\n",
       "2           4.7          3.2           1.3          0.2        0\n",
       "3           4.6          3.1           1.5          0.2        0\n",
       "4           5.0          3.6           1.4          0.2        0"
      ]
     },
     "execution_count": 20,
     "metadata": {},
     "output_type": "execute_result"
    }
   ],
   "source": [
    "from sklearn.preprocessing import LabelEncoder\n",
    "le = LabelEncoder()\n",
    "data['species'] = le.fit_transform(data['species'])\n",
    "data.head()"
   ]
  },
  {
   "cell_type": "code",
   "execution_count": 21,
   "metadata": {},
   "outputs": [],
   "source": [
    "x = data.drop(columns=['species'], axis=1)\n",
    "y = data.species"
   ]
  },
  {
   "cell_type": "code",
   "execution_count": 22,
   "metadata": {},
   "outputs": [],
   "source": [
    "from sklearn.model_selection import train_test_split\n",
    "x_train, x_test , y_train , y_test = train_test_split(x,y, test_size=0.2, random_state=42)\n"
   ]
  },
  {
   "cell_type": "code",
   "execution_count": 23,
   "metadata": {},
   "outputs": [
    {
     "data": {
      "text/plain": [
       "(120, 4)"
      ]
     },
     "execution_count": 23,
     "metadata": {},
     "output_type": "execute_result"
    }
   ],
   "source": [
    "x_train.shape"
   ]
  },
  {
   "cell_type": "code",
   "execution_count": 24,
   "metadata": {},
   "outputs": [
    {
     "data": {
      "text/plain": [
       "(120,)"
      ]
     },
     "execution_count": 24,
     "metadata": {},
     "output_type": "execute_result"
    }
   ],
   "source": [
    "y_train.shape"
   ]
  },
  {
   "cell_type": "code",
   "execution_count": 25,
   "metadata": {},
   "outputs": [
    {
     "data": {
      "text/plain": [
       "(30, 4)"
      ]
     },
     "execution_count": 25,
     "metadata": {},
     "output_type": "execute_result"
    }
   ],
   "source": [
    "x_test.shape"
   ]
  },
  {
   "cell_type": "code",
   "execution_count": 26,
   "metadata": {},
   "outputs": [
    {
     "data": {
      "text/plain": [
       "(30,)"
      ]
     },
     "execution_count": 26,
     "metadata": {},
     "output_type": "execute_result"
    }
   ],
   "source": [
    "y_test.shape"
   ]
  },
  {
   "cell_type": "markdown",
   "metadata": {},
   "source": [
    "# Feature Selection"
   ]
  },
  {
   "cell_type": "code",
   "execution_count": null,
   "metadata": {},
   "outputs": [],
   "source": [
    "# Chi Square\n",
    "\n",
    "from sklearn.feature_selection import chi2 , SelectKBest\n",
    "\n",
    "skb = SelectKBest(score_func=chi2, k=2)"
   ]
  },
  {
   "cell_type": "code",
   "execution_count": 27,
   "metadata": {},
   "outputs": [
    {
     "data": {
      "text/html": [
       "<style>#sk-container-id-1 {color: black;background-color: white;}#sk-container-id-1 pre{padding: 0;}#sk-container-id-1 div.sk-toggleable {background-color: white;}#sk-container-id-1 label.sk-toggleable__label {cursor: pointer;display: block;width: 100%;margin-bottom: 0;padding: 0.3em;box-sizing: border-box;text-align: center;}#sk-container-id-1 label.sk-toggleable__label-arrow:before {content: \"▸\";float: left;margin-right: 0.25em;color: #696969;}#sk-container-id-1 label.sk-toggleable__label-arrow:hover:before {color: black;}#sk-container-id-1 div.sk-estimator:hover label.sk-toggleable__label-arrow:before {color: black;}#sk-container-id-1 div.sk-toggleable__content {max-height: 0;max-width: 0;overflow: hidden;text-align: left;background-color: #f0f8ff;}#sk-container-id-1 div.sk-toggleable__content pre {margin: 0.2em;color: black;border-radius: 0.25em;background-color: #f0f8ff;}#sk-container-id-1 input.sk-toggleable__control:checked~div.sk-toggleable__content {max-height: 200px;max-width: 100%;overflow: auto;}#sk-container-id-1 input.sk-toggleable__control:checked~label.sk-toggleable__label-arrow:before {content: \"▾\";}#sk-container-id-1 div.sk-estimator input.sk-toggleable__control:checked~label.sk-toggleable__label {background-color: #d4ebff;}#sk-container-id-1 div.sk-label input.sk-toggleable__control:checked~label.sk-toggleable__label {background-color: #d4ebff;}#sk-container-id-1 input.sk-hidden--visually {border: 0;clip: rect(1px 1px 1px 1px);clip: rect(1px, 1px, 1px, 1px);height: 1px;margin: -1px;overflow: hidden;padding: 0;position: absolute;width: 1px;}#sk-container-id-1 div.sk-estimator {font-family: monospace;background-color: #f0f8ff;border: 1px dotted black;border-radius: 0.25em;box-sizing: border-box;margin-bottom: 0.5em;}#sk-container-id-1 div.sk-estimator:hover {background-color: #d4ebff;}#sk-container-id-1 div.sk-parallel-item::after {content: \"\";width: 100%;border-bottom: 1px solid gray;flex-grow: 1;}#sk-container-id-1 div.sk-label:hover label.sk-toggleable__label {background-color: #d4ebff;}#sk-container-id-1 div.sk-serial::before {content: \"\";position: absolute;border-left: 1px solid gray;box-sizing: border-box;top: 0;bottom: 0;left: 50%;z-index: 0;}#sk-container-id-1 div.sk-serial {display: flex;flex-direction: column;align-items: center;background-color: white;padding-right: 0.2em;padding-left: 0.2em;position: relative;}#sk-container-id-1 div.sk-item {position: relative;z-index: 1;}#sk-container-id-1 div.sk-parallel {display: flex;align-items: stretch;justify-content: center;background-color: white;position: relative;}#sk-container-id-1 div.sk-item::before, #sk-container-id-1 div.sk-parallel-item::before {content: \"\";position: absolute;border-left: 1px solid gray;box-sizing: border-box;top: 0;bottom: 0;left: 50%;z-index: -1;}#sk-container-id-1 div.sk-parallel-item {display: flex;flex-direction: column;z-index: 1;position: relative;background-color: white;}#sk-container-id-1 div.sk-parallel-item:first-child::after {align-self: flex-end;width: 50%;}#sk-container-id-1 div.sk-parallel-item:last-child::after {align-self: flex-start;width: 50%;}#sk-container-id-1 div.sk-parallel-item:only-child::after {width: 0;}#sk-container-id-1 div.sk-dashed-wrapped {border: 1px dashed gray;margin: 0 0.4em 0.5em 0.4em;box-sizing: border-box;padding-bottom: 0.4em;background-color: white;}#sk-container-id-1 div.sk-label label {font-family: monospace;font-weight: bold;display: inline-block;line-height: 1.2em;}#sk-container-id-1 div.sk-label-container {text-align: center;}#sk-container-id-1 div.sk-container {/* jupyter's `normalize.less` sets `[hidden] { display: none; }` but bootstrap.min.css set `[hidden] { display: none !important; }` so we also need the `!important` here to be able to override the default hidden behavior on the sphinx rendered scikit-learn.org. See: https://github.com/scikit-learn/scikit-learn/issues/21755 */display: inline-block !important;position: relative;}#sk-container-id-1 div.sk-text-repr-fallback {display: none;}</style><div id=\"sk-container-id-1\" class=\"sk-top-container\"><div class=\"sk-text-repr-fallback\"><pre>SelectKBest(k=3)</pre><b>In a Jupyter environment, please rerun this cell to show the HTML representation or trust the notebook. <br />On GitHub, the HTML representation is unable to render, please try loading this page with nbviewer.org.</b></div><div class=\"sk-container\" hidden><div class=\"sk-item\"><div class=\"sk-estimator sk-toggleable\"><input class=\"sk-toggleable__control sk-hidden--visually\" id=\"sk-estimator-id-1\" type=\"checkbox\" checked><label for=\"sk-estimator-id-1\" class=\"sk-toggleable__label sk-toggleable__label-arrow\">SelectKBest</label><div class=\"sk-toggleable__content\"><pre>SelectKBest(k=3)</pre></div></div></div></div></div>"
      ],
      "text/plain": [
       "SelectKBest(k=3)"
      ]
     },
     "execution_count": 27,
     "metadata": {},
     "output_type": "execute_result"
    }
   ],
   "source": [
    "# ANOVA TEST\n",
    "\n",
    "from sklearn.feature_selection import f_classif, SelectKBest\n",
    "\n",
    "skb = SelectKBest(score_func=f_classif, k=3)\n",
    "\n",
    "skb.fit(x_train, y_train)"
   ]
  },
  {
   "cell_type": "code",
   "execution_count": 28,
   "metadata": {},
   "outputs": [
    {
     "data": {
      "text/plain": [
       "array([ True, False,  True,  True])"
      ]
     },
     "execution_count": 28,
     "metadata": {},
     "output_type": "execute_result"
    }
   ],
   "source": [
    "skb.get_support()"
   ]
  },
  {
   "cell_type": "code",
   "execution_count": 29,
   "metadata": {},
   "outputs": [
    {
     "data": {
      "text/plain": [
       "Index(['sepal_length', 'petal_length', 'petal_width'], dtype='object')"
      ]
     },
     "execution_count": 29,
     "metadata": {},
     "output_type": "execute_result"
    }
   ],
   "source": [
    "x_train.columns[skb.get_support()]"
   ]
  },
  {
   "cell_type": "markdown",
   "metadata": {},
   "source": [
    "# PCA"
   ]
  },
  {
   "cell_type": "code",
   "execution_count": 31,
   "metadata": {},
   "outputs": [
    {
     "data": {
      "text/plain": [
       "array([[-3.17191553,  0.12945705],\n",
       "       [-2.34745821,  1.33781523],\n",
       "       [ 0.97152095,  0.4860442 ],\n",
       "       [-2.56753356,  0.01605229],\n",
       "       [-2.95088792, -0.34358788],\n",
       "       [ 1.573974  , -0.35628339],\n",
       "       [ 0.97631373,  0.33551654],\n",
       "       [-2.51851294,  0.36973844],\n",
       "       [-2.68502537,  0.3269913 ],\n",
       "       [-2.60734589,  0.81432125],\n",
       "       [ 1.46242806, -0.55791585],\n",
       "       [ 0.85051625,  0.20831394],\n",
       "       [ 1.2645487 ,  0.42764725],\n",
       "       [-2.58248688,  0.80943272],\n",
       "       [-2.46440403,  0.64730015],\n",
       "       [-0.1405803 , -0.66563826],\n",
       "       [ 1.49066461, -0.12152213],\n",
       "       [ 1.95006505,  0.07092837],\n",
       "       [ 0.94446649,  0.34726335],\n",
       "       [ 2.95729263,  0.80460035],\n",
       "       [ 0.42280726, -0.27838692],\n",
       "       [ 3.44068284,  0.58251815],\n",
       "       [ 0.70667176, -0.33847846],\n",
       "       [-2.64023548,  0.32035488],\n",
       "       [ 3.54451415,  0.49481544],\n",
       "       [ 0.28378454, -0.31605031],\n",
       "       [-2.59544559,  0.31371846],\n",
       "       [-2.72633137,  0.26264032],\n",
       "       [-2.1665835 ,  0.43837552],\n",
       "       [-0.45632104, -1.25345657],\n",
       "       [ 1.43481155, -0.18584647],\n",
       "       [-2.31013247, -0.03401366],\n",
       "       [-2.46021835, -0.14263781],\n",
       "       [-2.258219  ,  0.09987865],\n",
       "       [ 0.40462051, -0.4898764 ],\n",
       "       [-2.5455674 ,  0.23095759],\n",
       "       [ 0.37831289, -0.19734728],\n",
       "       [ 3.5270903 ,  1.20523979],\n",
       "       [-2.79324321, -0.2281321 ],\n",
       "       [ 0.68821849,  0.03528551],\n",
       "       [ 1.3940676 , -0.76104769],\n",
       "       [-2.55862079,  1.09360419],\n",
       "       [ 1.21464151, -0.14924856],\n",
       "       [ 1.46242806, -0.55791585],\n",
       "       [ 0.3141671 , -0.5307604 ],\n",
       "       [ 0.63482741, -0.47062289],\n",
       "       [ 1.94395045,  0.13194349],\n",
       "       [ 0.23256847, -0.81340585],\n",
       "       [-2.23928542,  0.74267811],\n",
       "       [-0.65452491, -1.00195336],\n",
       "       [ 1.84956184, -0.19485986],\n",
       "       [-2.65842223,  0.1088654 ],\n",
       "       [-2.82115524,  0.06953407],\n",
       "       [-0.01915328, -0.69065791],\n",
       "       [ 1.60207081,  0.28821065],\n",
       "       [-2.5908086 , -0.11931274],\n",
       "       [ 1.63169361, -0.52686223],\n",
       "       [-2.58148958,  0.16488538],\n",
       "       [-2.36205032,  0.18758135],\n",
       "       [ 1.16098391, -0.06990351],\n",
       "       [-0.85811261, -0.74872892],\n",
       "       [ 2.4705422 ,  0.39896577],\n",
       "       [ 1.42739245, -0.40077842],\n",
       "       [ 1.82993086, -0.47419609],\n",
       "       [ 3.11885649,  0.71537162],\n",
       "       [ 0.21483304, -0.66798858],\n",
       "       [-2.83848441, -0.57840244],\n",
       "       [-3.17630205, -0.51336906],\n",
       "       [ 1.35030401, -0.73930194],\n",
       "       [ 2.65757656,  0.58877147],\n",
       "       [-2.69857513, -0.31752939],\n",
       "       [-2.60460883,  0.31202388],\n",
       "       [-2.93315249, -0.48900515],\n",
       "       [ 1.34566703, -0.30627073],\n",
       "       [ 2.18710001,  0.1563074 ],\n",
       "       [-2.77535199, -0.09104584],\n",
       "       [ 2.20950142,  0.2375156 ],\n",
       "       [ 2.57479584,  0.00851315],\n",
       "       [-2.8431214 , -0.14537123],\n",
       "       [ 1.03112443, -0.10587232],\n",
       "       [ 1.13350713,  0.09406556],\n",
       "       [ 1.3042213 , -0.1625214 ],\n",
       "       [ 1.32782086,  0.70690353],\n",
       "       [ 1.94772987,  0.1353593 ],\n",
       "       [-2.4952379 ,  0.50510348],\n",
       "       [ 2.15075552,  0.3929851 ],\n",
       "       [ 0.55703719, -0.09019586],\n",
       "       [ 1.80870715,  0.09769591],\n",
       "       [-0.25807211, -0.35469925],\n",
       "       [ 0.03915737, -0.71243031],\n",
       "       [ 0.93645635, -0.01647503],\n",
       "       [-2.79952965, -0.94022438],\n",
       "       [ 1.08930829,  0.24950842],\n",
       "       [ 0.51354013, -0.65370356],\n",
       "       [-2.5003262 ,  0.58122793],\n",
       "       [ 0.292217  , -0.25506185],\n",
       "       [ 2.97750298,  0.38665183],\n",
       "       [ 2.31857683,  0.35619198],\n",
       "       [-2.50091724,  0.43242149],\n",
       "       [-0.6993148 , -0.99531694],\n",
       "       [ 2.46108344,  0.32286797],\n",
       "       [ 2.43245796,  0.49339351],\n",
       "       [-2.7565742 ,  0.26925009],\n",
       "       [ 2.35739186,  0.20247036],\n",
       "       [-2.66774125, -0.17533272],\n",
       "       [ 1.50799378,  0.52641437],\n",
       "       [ 2.88631879,  0.40506171],\n",
       "       [ 2.01767867, -0.15724977],\n",
       "       [ 0.34587461, -0.3344069 ],\n",
       "       [ 1.99485494,  0.06429195],\n",
       "       [ 0.86314733, -0.35158274],\n",
       "       [ 0.76006284,  0.16742994],\n",
       "       [ 1.24574192, -0.59230535],\n",
       "       [ 1.43612043, -0.26538673],\n",
       "       [-2.26620015,  0.39579694],\n",
       "       [ 0.40376294, -0.05342938],\n",
       "       [ 0.57080843, -1.18118915],\n",
       "       [-2.60471957,  1.17978087],\n",
       "       [ 0.2781052 , -0.3887323 ],\n",
       "       [ 2.66046941,  0.36897763]])"
      ]
     },
     "execution_count": 31,
     "metadata": {},
     "output_type": "execute_result"
    }
   ],
   "source": [
    "from sklearn.decomposition import PCA\n",
    "\n",
    "pca = PCA(n_components=2)\n",
    "\n",
    "pca.fit(x_train)\n",
    "\n",
    "transformed = pca.transform(x_train)\n",
    "\n",
    "transformed"
   ]
  },
  {
   "cell_type": "markdown",
   "metadata": {},
   "source": [
    "# Sage Maker Studio\n",
    "## Data Wrangler \n",
    "<p>extract dataset</p>\n",
    "<p>load dataset</p>\n",
    "<p>transform dataset</p>"
   ]
  },
  {
   "cell_type": "code",
   "execution_count": null,
   "metadata": {},
   "outputs": [],
   "source": [
    " "
   ]
  }
 ],
 "metadata": {
  "kernelspec": {
   "display_name": "base",
   "language": "python",
   "name": "python3"
  },
  "language_info": {
   "codemirror_mode": {
    "name": "ipython",
    "version": 3
   },
   "file_extension": ".py",
   "mimetype": "text/x-python",
   "name": "python",
   "nbconvert_exporter": "python",
   "pygments_lexer": "ipython3",
   "version": "3.11.7"
  }
 },
 "nbformat": 4,
 "nbformat_minor": 2
}
