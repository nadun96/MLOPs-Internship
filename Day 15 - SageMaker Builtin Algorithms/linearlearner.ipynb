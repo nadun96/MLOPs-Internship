{
 "cells": [
  {
   "cell_type": "code",
   "execution_count": 2,
   "id": "bbf56300-a8c1-4025-9392-bb2f52ed3b35",
   "metadata": {
    "tags": []
   },
   "outputs": [],
   "source": [
    "import boto3\n",
    "import sagemaker"
   ]
  },
  {
   "cell_type": "code",
   "execution_count": 3,
   "id": "6cc3e900-55a9-4ad8-bdbd-08cbb25a28e1",
   "metadata": {
    "tags": []
   },
   "outputs": [],
   "source": [
    "import warnings\n",
    "\n",
    "# Ignore all warnings\n",
    "warnings.filterwarnings(\"ignore\")\n"
   ]
  },
  {
   "cell_type": "code",
   "execution_count": 4,
   "id": "35b579e0-d974-4bb4-a7e1-fa146228cd7f",
   "metadata": {
    "tags": []
   },
   "outputs": [
    {
     "data": {
      "text/plain": [
       "'arn:aws:iam::257548842387:role/service-role/AmazonSageMaker-ExecutionRole-20230618T190858'"
      ]
     },
     "execution_count": 4,
     "metadata": {},
     "output_type": "execute_result"
    }
   ],
   "source": [
    "from sagemaker import get_execution_role\n",
    "role = get_execution_role()\n",
    "role"
   ]
  },
  {
   "cell_type": "code",
   "execution_count": 5,
   "id": "86088986-dffb-4ae0-b647-0633d1376b0b",
   "metadata": {
    "tags": []
   },
   "outputs": [
    {
     "data": {
      "text/plain": [
       "'ap-south-1'"
      ]
     },
     "execution_count": 5,
     "metadata": {},
     "output_type": "execute_result"
    }
   ],
   "source": [
    "region = boto3.session.Session().region_name\n",
    "region"
   ]
  },
  {
   "cell_type": "code",
   "execution_count": 6,
   "id": "6daede71-229d-49c6-84d5-411e7f43cc37",
   "metadata": {
    "tags": []
   },
   "outputs": [],
   "source": [
    "from sagemaker.sklearn.processing import SKLearnProcessor\n",
    "sklearn_processor = SKLearnProcessor(framework_version='0.20.0', role=role, instance_type='ml.m5.xlarge', instance_count=1)"
   ]
  },
  {
   "cell_type": "code",
   "execution_count": 7,
   "id": "0d68c9e5-64d4-4f08-aea0-a33bb34aeb47",
   "metadata": {
    "tags": []
   },
   "outputs": [],
   "source": [
    "from sagemaker.processing import ProcessingInput, ProcessingOutput"
   ]
  },
  {
   "cell_type": "code",
   "execution_count": 8,
   "id": "ed250a2d-120d-4bdf-b3e3-379c900b19f9",
   "metadata": {
    "tags": []
   },
   "outputs": [],
   "source": [
    "import pandas as pd\n",
    "d = pd.read_csv(\"s3://preprocessoroutputs/heart.csv\")"
   ]
  },
  {
   "cell_type": "code",
   "execution_count": null,
   "id": "ca11385e-744f-4c64-ae82-86f8feaede25",
   "metadata": {
    "tags": []
   },
   "outputs": [],
   "source": [
    "d.head()"
   ]
  },
  {
   "cell_type": "code",
   "execution_count": null,
   "id": "dd631a67-fd4d-43f1-9c50-08fcc9bc4e6b",
   "metadata": {
    "tags": []
   },
   "outputs": [],
   "source": [
    "d.to_csv(\"heart.csv\")"
   ]
  },
  {
   "cell_type": "code",
   "execution_count": null,
   "id": "10759ce7-530f-45c7-a753-455fc16dc426",
   "metadata": {
    "tags": []
   },
   "outputs": [],
   "source": [
    "input_data = \"s3://preprocessoroutputs/heart.csv\"\n",
    "\n",
    "sklearn_processor.run(\n",
    "    code='preprocessing.py',\n",
    "    inputs = [\n",
    "        ProcessingInput(source=input_data, \n",
    "                        destination = '/opt/ml/processing/input')],\n",
    "    outputs = [\n",
    "        ProcessingOutput(output_name = 'train_data',\n",
    "                         source = '/opt/ml/processing/train',\n",
    "                         destination = \"s3://preprocessoroutputs/\"),\n",
    "        \n",
    "        ProcessingOutput(output_name = 'test_data',\n",
    "                         source = '/opt/ml/processing/test',\n",
    "                         destination = \"s3://preprocessoroutputs/\")],\n",
    "    \n",
    "    arguments = ['--train-test-split-ratio','0.2']\n",
    ")"
   ]
  },
  {
   "cell_type": "code",
   "execution_count": null,
   "id": "b8ce5bf5-3535-4803-aacd-a7e5bff9dccb",
   "metadata": {
    "tags": []
   },
   "outputs": [],
   "source": [
    "preprocessing_job_description = sklearn_processor.jobs[-1].describe()"
   ]
  },
  {
   "cell_type": "code",
   "execution_count": null,
   "id": "016efa4a-9355-4824-9a23-84cbaecde988",
   "metadata": {
    "tags": []
   },
   "outputs": [],
   "source": [
    "preprocessing_job_description"
   ]
  },
  {
   "cell_type": "code",
   "execution_count": null,
   "id": "fc7fdfa4-b4ba-4776-81a2-8646c14d8489",
   "metadata": {
    "tags": []
   },
   "outputs": [],
   "source": [
    "output_config = preprocessing_job_description[\"ProcessingOutputConfig\"]"
   ]
  },
  {
   "cell_type": "code",
   "execution_count": null,
   "id": "b1e4f926-3834-47b8-a8be-f374b545f7ad",
   "metadata": {
    "tags": []
   },
   "outputs": [],
   "source": [
    "output_config"
   ]
  },
  {
   "cell_type": "code",
   "execution_count": null,
   "id": "54649f9f-cc2c-4270-ac03-e95bbde976ba",
   "metadata": {
    "tags": []
   },
   "outputs": [],
   "source": [
    "for output in output_config['Outputs']:\n",
    "    if output['OutputName'] == 'train_data':\n",
    "        preprocessed_training_data = output['S3Output']['S3Uri']\n",
    "    if output['OutputName'] == 'test_data':\n",
    "         preprocessed_test_data = output['S3Output']['S3Uri']"
   ]
  },
  {
   "cell_type": "code",
   "execution_count": null,
   "id": "b5934ac4-b76c-4094-9b68-ad8c1f55c4d2",
   "metadata": {
    "tags": []
   },
   "outputs": [],
   "source": [
    "preprocessed_training_data"
   ]
  },
  {
   "cell_type": "code",
   "execution_count": null,
   "id": "601a6474-db45-4b69-bbd4-063e69ed4af5",
   "metadata": {
    "tags": []
   },
   "outputs": [],
   "source": [
    "preprocessed_test_data"
   ]
  },
  {
   "cell_type": "code",
   "execution_count": null,
   "id": "2279323f-f11d-45ff-bbcb-1fa4b9175885",
   "metadata": {
    "tags": []
   },
   "outputs": [],
   "source": [
    "pd.read_csv(preprocessed_test_data+\"Xtest.csv\", header=None)"
   ]
  },
  {
   "cell_type": "code",
   "execution_count": 9,
   "id": "e8dec58b-2da8-4a87-a683-ca1099b804ab",
   "metadata": {
    "tags": []
   },
   "outputs": [],
   "source": [
    "x_train = pd.read_csv(\"s3://preprocessoroutputs/Xtrain.csv\", header=None)"
   ]
  },
  {
   "cell_type": "code",
   "execution_count": 10,
   "id": "2202bba4-94ce-42eb-9371-e9d70a90aa3b",
   "metadata": {
    "tags": []
   },
   "outputs": [],
   "source": [
    "y_train = pd.read_csv(\"s3://preprocessoroutputs/ytrain.csv\", header=None)"
   ]
  },
  {
   "cell_type": "code",
   "execution_count": 12,
   "id": "bfb32600-0daa-47e8-adca-617f99f2055b",
   "metadata": {
    "tags": []
   },
   "outputs": [
    {
     "data": {
      "text/html": [
       "<div>\n",
       "<style scoped>\n",
       "    .dataframe tbody tr th:only-of-type {\n",
       "        vertical-align: middle;\n",
       "    }\n",
       "\n",
       "    .dataframe tbody tr th {\n",
       "        vertical-align: top;\n",
       "    }\n",
       "\n",
       "    .dataframe thead th {\n",
       "        text-align: right;\n",
       "    }\n",
       "</style>\n",
       "<table border=\"1\" class=\"dataframe\">\n",
       "  <thead>\n",
       "    <tr style=\"text-align: right;\">\n",
       "      <th></th>\n",
       "      <th>0</th>\n",
       "      <th>1</th>\n",
       "      <th>2</th>\n",
       "      <th>3</th>\n",
       "      <th>4</th>\n",
       "      <th>5</th>\n",
       "      <th>6</th>\n",
       "      <th>7</th>\n",
       "      <th>8</th>\n",
       "      <th>9</th>\n",
       "      <th>10</th>\n",
       "      <th>11</th>\n",
       "      <th>12</th>\n",
       "    </tr>\n",
       "  </thead>\n",
       "  <tbody>\n",
       "    <tr>\n",
       "      <th>0</th>\n",
       "      <td>-0.599275</td>\n",
       "      <td>1</td>\n",
       "      <td>2</td>\n",
       "      <td>-0.777449</td>\n",
       "      <td>0.052511</td>\n",
       "      <td>0</td>\n",
       "      <td>0</td>\n",
       "      <td>0.419847</td>\n",
       "      <td>0</td>\n",
       "      <td>0.129032</td>\n",
       "      <td>2</td>\n",
       "      <td>3</td>\n",
       "      <td>2</td>\n",
       "    </tr>\n",
       "    <tr>\n",
       "      <th>1</th>\n",
       "      <td>1.054918</td>\n",
       "      <td>0</td>\n",
       "      <td>0</td>\n",
       "      <td>2.763755</td>\n",
       "      <td>0.454338</td>\n",
       "      <td>0</td>\n",
       "      <td>1</td>\n",
       "      <td>0.633588</td>\n",
       "      <td>1</td>\n",
       "      <td>0.000000</td>\n",
       "      <td>2</td>\n",
       "      <td>0</td>\n",
       "      <td>2</td>\n",
       "    </tr>\n",
       "    <tr>\n",
       "      <th>2</th>\n",
       "      <td>-0.047877</td>\n",
       "      <td>0</td>\n",
       "      <td>2</td>\n",
       "      <td>-1.348611</td>\n",
       "      <td>0.321918</td>\n",
       "      <td>0</td>\n",
       "      <td>0</td>\n",
       "      <td>0.732824</td>\n",
       "      <td>0</td>\n",
       "      <td>0.000000</td>\n",
       "      <td>2</td>\n",
       "      <td>0</td>\n",
       "      <td>2</td>\n",
       "    </tr>\n",
       "    <tr>\n",
       "      <th>3</th>\n",
       "      <td>0.503520</td>\n",
       "      <td>1</td>\n",
       "      <td>0</td>\n",
       "      <td>0.193526</td>\n",
       "      <td>0.246575</td>\n",
       "      <td>0</td>\n",
       "      <td>1</td>\n",
       "      <td>0.687023</td>\n",
       "      <td>0</td>\n",
       "      <td>0.080645</td>\n",
       "      <td>1</td>\n",
       "      <td>0</td>\n",
       "      <td>3</td>\n",
       "    </tr>\n",
       "    <tr>\n",
       "      <th>4</th>\n",
       "      <td>-0.378716</td>\n",
       "      <td>1</td>\n",
       "      <td>2</td>\n",
       "      <td>-0.377636</td>\n",
       "      <td>0.271689</td>\n",
       "      <td>1</td>\n",
       "      <td>0</td>\n",
       "      <td>0.725191</td>\n",
       "      <td>0</td>\n",
       "      <td>0.387097</td>\n",
       "      <td>1</td>\n",
       "      <td>0</td>\n",
       "      <td>2</td>\n",
       "    </tr>\n",
       "    <tr>\n",
       "      <th>...</th>\n",
       "      <td>...</td>\n",
       "      <td>...</td>\n",
       "      <td>...</td>\n",
       "      <td>...</td>\n",
       "      <td>...</td>\n",
       "      <td>...</td>\n",
       "      <td>...</td>\n",
       "      <td>...</td>\n",
       "      <td>...</td>\n",
       "      <td>...</td>\n",
       "      <td>...</td>\n",
       "      <td>...</td>\n",
       "      <td>...</td>\n",
       "    </tr>\n",
       "    <tr>\n",
       "      <th>815</th>\n",
       "      <td>-1.481512</td>\n",
       "      <td>1</td>\n",
       "      <td>2</td>\n",
       "      <td>-0.092055</td>\n",
       "      <td>0.200913</td>\n",
       "      <td>0</td>\n",
       "      <td>0</td>\n",
       "      <td>0.740458</td>\n",
       "      <td>0</td>\n",
       "      <td>0.322581</td>\n",
       "      <td>1</td>\n",
       "      <td>0</td>\n",
       "      <td>2</td>\n",
       "    </tr>\n",
       "    <tr>\n",
       "      <th>816</th>\n",
       "      <td>0.724079</td>\n",
       "      <td>1</td>\n",
       "      <td>0</td>\n",
       "      <td>0.479107</td>\n",
       "      <td>0.184932</td>\n",
       "      <td>0</td>\n",
       "      <td>0</td>\n",
       "      <td>0.511450</td>\n",
       "      <td>1</td>\n",
       "      <td>0.306452</td>\n",
       "      <td>2</td>\n",
       "      <td>1</td>\n",
       "      <td>3</td>\n",
       "    </tr>\n",
       "    <tr>\n",
       "      <th>817</th>\n",
       "      <td>-0.378716</td>\n",
       "      <td>1</td>\n",
       "      <td>0</td>\n",
       "      <td>0.479107</td>\n",
       "      <td>0.394977</td>\n",
       "      <td>0</td>\n",
       "      <td>1</td>\n",
       "      <td>0.778626</td>\n",
       "      <td>1</td>\n",
       "      <td>0.258065</td>\n",
       "      <td>2</td>\n",
       "      <td>0</td>\n",
       "      <td>3</td>\n",
       "    </tr>\n",
       "    <tr>\n",
       "      <th>818</th>\n",
       "      <td>-1.260953</td>\n",
       "      <td>1</td>\n",
       "      <td>0</td>\n",
       "      <td>-1.234378</td>\n",
       "      <td>0.194064</td>\n",
       "      <td>0</td>\n",
       "      <td>1</td>\n",
       "      <td>0.687023</td>\n",
       "      <td>0</td>\n",
       "      <td>0.000000</td>\n",
       "      <td>2</td>\n",
       "      <td>0</td>\n",
       "      <td>3</td>\n",
       "    </tr>\n",
       "    <tr>\n",
       "      <th>819</th>\n",
       "      <td>-0.268437</td>\n",
       "      <td>1</td>\n",
       "      <td>0</td>\n",
       "      <td>-1.120146</td>\n",
       "      <td>0.237443</td>\n",
       "      <td>0</td>\n",
       "      <td>1</td>\n",
       "      <td>0.679389</td>\n",
       "      <td>0</td>\n",
       "      <td>0.000000</td>\n",
       "      <td>2</td>\n",
       "      <td>1</td>\n",
       "      <td>2</td>\n",
       "    </tr>\n",
       "  </tbody>\n",
       "</table>\n",
       "<p>820 rows × 13 columns</p>\n",
       "</div>"
      ],
      "text/plain": [
       "           0   1   2         3         4   5   6         7   8         9   10  \\\n",
       "0   -0.599275   1   2 -0.777449  0.052511   0   0  0.419847   0  0.129032   2   \n",
       "1    1.054918   0   0  2.763755  0.454338   0   1  0.633588   1  0.000000   2   \n",
       "2   -0.047877   0   2 -1.348611  0.321918   0   0  0.732824   0  0.000000   2   \n",
       "3    0.503520   1   0  0.193526  0.246575   0   1  0.687023   0  0.080645   1   \n",
       "4   -0.378716   1   2 -0.377636  0.271689   1   0  0.725191   0  0.387097   1   \n",
       "..        ...  ..  ..       ...       ...  ..  ..       ...  ..       ...  ..   \n",
       "815 -1.481512   1   2 -0.092055  0.200913   0   0  0.740458   0  0.322581   1   \n",
       "816  0.724079   1   0  0.479107  0.184932   0   0  0.511450   1  0.306452   2   \n",
       "817 -0.378716   1   0  0.479107  0.394977   0   1  0.778626   1  0.258065   2   \n",
       "818 -1.260953   1   0 -1.234378  0.194064   0   1  0.687023   0  0.000000   2   \n",
       "819 -0.268437   1   0 -1.120146  0.237443   0   1  0.679389   0  0.000000   2   \n",
       "\n",
       "     11  12  \n",
       "0     3   2  \n",
       "1     0   2  \n",
       "2     0   2  \n",
       "3     0   3  \n",
       "4     0   2  \n",
       "..   ..  ..  \n",
       "815   0   2  \n",
       "816   1   3  \n",
       "817   0   3  \n",
       "818   0   3  \n",
       "819   1   2  \n",
       "\n",
       "[820 rows x 13 columns]"
      ]
     },
     "execution_count": 12,
     "metadata": {},
     "output_type": "execute_result"
    }
   ],
   "source": [
    "x_train"
   ]
  },
  {
   "cell_type": "code",
   "execution_count": 13,
   "id": "5555e1d2-bf92-431e-a0cc-54611c0cc038",
   "metadata": {
    "tags": []
   },
   "outputs": [
    {
     "data": {
      "text/html": [
       "<div>\n",
       "<style scoped>\n",
       "    .dataframe tbody tr th:only-of-type {\n",
       "        vertical-align: middle;\n",
       "    }\n",
       "\n",
       "    .dataframe tbody tr th {\n",
       "        vertical-align: top;\n",
       "    }\n",
       "\n",
       "    .dataframe thead th {\n",
       "        text-align: right;\n",
       "    }\n",
       "</style>\n",
       "<table border=\"1\" class=\"dataframe\">\n",
       "  <thead>\n",
       "    <tr style=\"text-align: right;\">\n",
       "      <th></th>\n",
       "      <th>0</th>\n",
       "      <th>1</th>\n",
       "      <th>2</th>\n",
       "      <th>3</th>\n",
       "      <th>4</th>\n",
       "      <th>5</th>\n",
       "      <th>6</th>\n",
       "      <th>7</th>\n",
       "      <th>8</th>\n",
       "      <th>9</th>\n",
       "      <th>10</th>\n",
       "      <th>11</th>\n",
       "      <th>12</th>\n",
       "    </tr>\n",
       "  </thead>\n",
       "  <tbody>\n",
       "    <tr>\n",
       "      <th>0</th>\n",
       "      <td>-0.599275</td>\n",
       "      <td>1</td>\n",
       "      <td>2</td>\n",
       "      <td>-0.777449</td>\n",
       "      <td>0.052511</td>\n",
       "      <td>0</td>\n",
       "      <td>0</td>\n",
       "      <td>0.419847</td>\n",
       "      <td>0</td>\n",
       "      <td>0.129032</td>\n",
       "      <td>2</td>\n",
       "      <td>3</td>\n",
       "      <td>2</td>\n",
       "    </tr>\n",
       "    <tr>\n",
       "      <th>1</th>\n",
       "      <td>1.054918</td>\n",
       "      <td>0</td>\n",
       "      <td>0</td>\n",
       "      <td>2.763755</td>\n",
       "      <td>0.454338</td>\n",
       "      <td>0</td>\n",
       "      <td>1</td>\n",
       "      <td>0.633588</td>\n",
       "      <td>1</td>\n",
       "      <td>0.000000</td>\n",
       "      <td>2</td>\n",
       "      <td>0</td>\n",
       "      <td>2</td>\n",
       "    </tr>\n",
       "    <tr>\n",
       "      <th>2</th>\n",
       "      <td>-0.047877</td>\n",
       "      <td>0</td>\n",
       "      <td>2</td>\n",
       "      <td>-1.348611</td>\n",
       "      <td>0.321918</td>\n",
       "      <td>0</td>\n",
       "      <td>0</td>\n",
       "      <td>0.732824</td>\n",
       "      <td>0</td>\n",
       "      <td>0.000000</td>\n",
       "      <td>2</td>\n",
       "      <td>0</td>\n",
       "      <td>2</td>\n",
       "    </tr>\n",
       "    <tr>\n",
       "      <th>3</th>\n",
       "      <td>0.503520</td>\n",
       "      <td>1</td>\n",
       "      <td>0</td>\n",
       "      <td>0.193526</td>\n",
       "      <td>0.246575</td>\n",
       "      <td>0</td>\n",
       "      <td>1</td>\n",
       "      <td>0.687023</td>\n",
       "      <td>0</td>\n",
       "      <td>0.080645</td>\n",
       "      <td>1</td>\n",
       "      <td>0</td>\n",
       "      <td>3</td>\n",
       "    </tr>\n",
       "    <tr>\n",
       "      <th>4</th>\n",
       "      <td>-0.378716</td>\n",
       "      <td>1</td>\n",
       "      <td>2</td>\n",
       "      <td>-0.377636</td>\n",
       "      <td>0.271689</td>\n",
       "      <td>1</td>\n",
       "      <td>0</td>\n",
       "      <td>0.725191</td>\n",
       "      <td>0</td>\n",
       "      <td>0.387097</td>\n",
       "      <td>1</td>\n",
       "      <td>0</td>\n",
       "      <td>2</td>\n",
       "    </tr>\n",
       "  </tbody>\n",
       "</table>\n",
       "</div>"
      ],
      "text/plain": [
       "         0   1   2         3         4   5   6         7   8         9   10  \\\n",
       "0 -0.599275   1   2 -0.777449  0.052511   0   0  0.419847   0  0.129032   2   \n",
       "1  1.054918   0   0  2.763755  0.454338   0   1  0.633588   1  0.000000   2   \n",
       "2 -0.047877   0   2 -1.348611  0.321918   0   0  0.732824   0  0.000000   2   \n",
       "3  0.503520   1   0  0.193526  0.246575   0   1  0.687023   0  0.080645   1   \n",
       "4 -0.378716   1   2 -0.377636  0.271689   1   0  0.725191   0  0.387097   1   \n",
       "\n",
       "   11  12  \n",
       "0   3   2  \n",
       "1   0   2  \n",
       "2   0   2  \n",
       "3   0   3  \n",
       "4   0   2  "
      ]
     },
     "execution_count": 13,
     "metadata": {},
     "output_type": "execute_result"
    }
   ],
   "source": [
    "x_train.head()"
   ]
  },
  {
   "cell_type": "code",
   "execution_count": 14,
   "id": "d50d04c1-2282-4696-899e-9a4f2a5792e5",
   "metadata": {
    "tags": []
   },
   "outputs": [
    {
     "data": {
      "text/plain": [
       "(820, 13)"
      ]
     },
     "execution_count": 14,
     "metadata": {},
     "output_type": "execute_result"
    }
   ],
   "source": [
    "x_train.shape"
   ]
  },
  {
   "cell_type": "code",
   "execution_count": 15,
   "id": "c6a450f6-cd8f-4c3e-969d-ec40f143be52",
   "metadata": {
    "tags": []
   },
   "outputs": [],
   "source": [
    "import io\n",
    "import numpy as np\n",
    "import sagemaker.amazon.common as smac"
   ]
  },
  {
   "cell_type": "code",
   "execution_count": 16,
   "id": "6a3b6379-62b1-428a-bc7b-c4c8f2ed16dd",
   "metadata": {
    "tags": []
   },
   "outputs": [],
   "source": [
    "vectors = np.array(x_train.values, dtype=\"float32\")\n",
    "labels = np.array(y_train.values, dtype=\"float32\")"
   ]
  },
  {
   "cell_type": "code",
   "execution_count": 19,
   "id": "d22bc4b9-2ee9-4488-a160-9183d9528d28",
   "metadata": {
    "tags": []
   },
   "outputs": [],
   "source": [
    "labels = labels.reshape(-1)"
   ]
  },
  {
   "cell_type": "code",
   "execution_count": 20,
   "id": "9829304b-b023-4615-8a29-93d848a760ef",
   "metadata": {
    "tags": []
   },
   "outputs": [],
   "source": [
    "buf = io.BytesIO()\n",
    "smac.write_numpy_to_dense_tensor(buf, vectors, labels)"
   ]
  },
  {
   "cell_type": "code",
   "execution_count": 21,
   "id": "5bd3838d-6b09-420f-a736-92ba533377da",
   "metadata": {
    "tags": []
   },
   "outputs": [
    {
     "data": {
      "text/plain": [
       "0"
      ]
     },
     "execution_count": 21,
     "metadata": {},
     "output_type": "execute_result"
    }
   ],
   "source": [
    "buf.seek(0)"
   ]
  },
  {
   "cell_type": "code",
   "execution_count": 22,
   "id": "974b079a-c387-423e-8cc8-06cae83e2a82",
   "metadata": {
    "tags": []
   },
   "outputs": [],
   "source": [
    "from sagemaker import get_execution_role\n",
    "bucket = 'preprocessoroutputs'\n",
    "prefix = 'linear-learner'\n",
    "role = get_execution_role()"
   ]
  },
  {
   "cell_type": "code",
   "execution_count": 23,
   "id": "9fada480-6631-4a4e-a204-cebefc98f89e",
   "metadata": {
    "tags": []
   },
   "outputs": [
    {
     "name": "stdout",
     "output_type": "stream",
     "text": [
      "uploaded training data location: s3://preprocessoroutputs/linear-learner/train/recordio-pb-data\n"
     ]
    }
   ],
   "source": [
    "import os\n",
    "key = 'recordio-pb-data'\n",
    "boto3.resource('s3').Bucket(bucket).Object(os.path.join(prefix, 'train', key)).upload_fileobj(buf)\n",
    "s3_train_data = 's3://{}/{}/train/{}'.format(bucket, prefix, key)\n",
    "print('uploaded training data location: {}'.format(s3_train_data))"
   ]
  },
  {
   "cell_type": "code",
   "execution_count": 24,
   "id": "0111cb7f-1fe2-418d-aff0-36137646dda2",
   "metadata": {
    "tags": []
   },
   "outputs": [],
   "source": [
    "from sagemaker.amazon.amazon_estimator import get_image_uri"
   ]
  },
  {
   "cell_type": "code",
   "execution_count": 25,
   "id": "2b800714-ba78-4be8-9944-80bd062ee0a3",
   "metadata": {
    "tags": []
   },
   "outputs": [
    {
     "name": "stderr",
     "output_type": "stream",
     "text": [
      "The method get_image_uri has been renamed in sagemaker>=2.\n",
      "See: https://sagemaker.readthedocs.io/en/stable/v2.html for details.\n"
     ]
    }
   ],
   "source": [
    "container = get_image_uri(boto3.Session().region_name, 'linear-learner')"
   ]
  },
  {
   "cell_type": "code",
   "execution_count": 26,
   "id": "a4998c94-1003-4015-8b42-05bcd4973a56",
   "metadata": {
    "tags": []
   },
   "outputs": [],
   "source": [
    "sess = sagemaker.Session()"
   ]
  },
  {
   "cell_type": "code",
   "execution_count": 27,
   "id": "8f855a69-7af5-41f7-81e6-ca2978b57c2f",
   "metadata": {
    "tags": []
   },
   "outputs": [
    {
     "name": "stderr",
     "output_type": "stream",
     "text": [
      "train_instance_count has been renamed in sagemaker>=2.\n",
      "See: https://sagemaker.readthedocs.io/en/stable/v2.html for details.\n",
      "train_instance_type has been renamed in sagemaker>=2.\n",
      "See: https://sagemaker.readthedocs.io/en/stable/v2.html for details.\n"
     ]
    }
   ],
   "source": [
    "linear = sagemaker.estimator.Estimator(container, role, train_instance_count=1, train_instance_type=\"ml.m4.xlarge\", output_path=\"s3://preprocessoroutputs/model/\", sagemaker_session=sess)"
   ]
  },
  {
   "cell_type": "code",
   "execution_count": 28,
   "id": "377c2d0a-76cd-40eb-9872-2b84e54e3c39",
   "metadata": {
    "tags": []
   },
   "outputs": [],
   "source": [
    "linear.set_hyperparameters(feature_dim=13,\n",
    " predictor_type='binary_classifier',\n",
    " mini_batch_size=100)"
   ]
  },
  {
   "cell_type": "code",
   "execution_count": 29,
   "id": "bde9d2b0-111c-4011-963f-41024b4ae76c",
   "metadata": {
    "tags": []
   },
   "outputs": [
    {
     "name": "stderr",
     "output_type": "stream",
     "text": [
      "INFO:sagemaker:Creating training-job with name: linear-learner-2023-06-22-06-50-50-257\n"
     ]
    },
    {
     "name": "stdout",
     "output_type": "stream",
     "text": [
      "2023-06-22 06:50:50 Starting - Starting the training job...\n",
      "2023-06-22 06:51:15 Starting - Preparing the instances for training.........\n",
      "2023-06-22 06:52:44 Downloading - Downloading input data\n",
      "2023-06-22 06:52:44 Training - Downloading the training image...............\n",
      "2023-06-22 06:55:20 Training - Training image download completed. Training in progress....\n",
      "2023-06-22 06:55:51 Uploading - Uploading generated training model\u001b[34mDocker entrypoint called with argument(s): train\u001b[0m\n",
      "\u001b[34mRunning default environment configuration script\u001b[0m\n",
      "\u001b[34m[06/22/2023 06:55:41 INFO 139895614142272] Reading default configuration from /opt/amazon/lib/python3.7/site-packages/algorithm/resources/default-input.json: {'mini_batch_size': '1000', 'epochs': '15', 'feature_dim': 'auto', 'use_bias': 'true', 'binary_classifier_model_selection_criteria': 'accuracy', 'f_beta': '1.0', 'target_recall': '0.8', 'target_precision': '0.8', 'num_models': 'auto', 'num_calibration_samples': '10000000', 'init_method': 'uniform', 'init_scale': '0.07', 'init_sigma': '0.01', 'init_bias': '0.0', 'optimizer': 'auto', 'loss': 'auto', 'margin': '1.0', 'quantile': '0.5', 'loss_insensitivity': '0.01', 'huber_delta': '1.0', 'num_classes': '1', 'accuracy_top_k': '3', 'wd': 'auto', 'l1': 'auto', 'momentum': 'auto', 'learning_rate': 'auto', 'beta_1': 'auto', 'beta_2': 'auto', 'bias_lr_mult': 'auto', 'bias_wd_mult': 'auto', 'use_lr_scheduler': 'true', 'lr_scheduler_step': 'auto', 'lr_scheduler_factor': 'auto', 'lr_scheduler_minimum_lr': 'auto', 'positive_example_weight_mult': '1.0', 'balance_multiclass_weights': 'false', 'normalize_data': 'true', 'normalize_label': 'auto', 'unbias_data': 'auto', 'unbias_label': 'auto', 'num_point_for_scaler': '10000', '_kvstore': 'auto', '_num_gpus': 'auto', '_num_kv_servers': 'auto', '_log_level': 'info', '_tuning_objective_metric': '', 'early_stopping_patience': '3', 'early_stopping_tolerance': '0.001', '_enable_profiler': 'false'}\u001b[0m\n",
      "\u001b[34m[06/22/2023 06:55:41 INFO 139895614142272] Merging with provided configuration from /opt/ml/input/config/hyperparameters.json: {'feature_dim': '13', 'mini_batch_size': '100', 'predictor_type': 'binary_classifier'}\u001b[0m\n",
      "\u001b[34m[06/22/2023 06:55:41 INFO 139895614142272] Final configuration: {'mini_batch_size': '100', 'epochs': '15', 'feature_dim': '13', 'use_bias': 'true', 'binary_classifier_model_selection_criteria': 'accuracy', 'f_beta': '1.0', 'target_recall': '0.8', 'target_precision': '0.8', 'num_models': 'auto', 'num_calibration_samples': '10000000', 'init_method': 'uniform', 'init_scale': '0.07', 'init_sigma': '0.01', 'init_bias': '0.0', 'optimizer': 'auto', 'loss': 'auto', 'margin': '1.0', 'quantile': '0.5', 'loss_insensitivity': '0.01', 'huber_delta': '1.0', 'num_classes': '1', 'accuracy_top_k': '3', 'wd': 'auto', 'l1': 'auto', 'momentum': 'auto', 'learning_rate': 'auto', 'beta_1': 'auto', 'beta_2': 'auto', 'bias_lr_mult': 'auto', 'bias_wd_mult': 'auto', 'use_lr_scheduler': 'true', 'lr_scheduler_step': 'auto', 'lr_scheduler_factor': 'auto', 'lr_scheduler_minimum_lr': 'auto', 'positive_example_weight_mult': '1.0', 'balance_multiclass_weights': 'false', 'normalize_data': 'true', 'normalize_label': 'auto', 'unbias_data': 'auto', 'unbias_label': 'auto', 'num_point_for_scaler': '10000', '_kvstore': 'auto', '_num_gpus': 'auto', '_num_kv_servers': 'auto', '_log_level': 'info', '_tuning_objective_metric': '', 'early_stopping_patience': '3', 'early_stopping_tolerance': '0.001', '_enable_profiler': 'false', 'predictor_type': 'binary_classifier'}\u001b[0m\n",
      "\u001b[34m[06/22/2023 06:55:44 WARNING 139895614142272] Loggers have already been setup.\u001b[0m\n",
      "\u001b[34m[06/22/2023 06:55:44 INFO 139895614142272] Final configuration: {'mini_batch_size': '100', 'epochs': '15', 'feature_dim': '13', 'use_bias': 'true', 'binary_classifier_model_selection_criteria': 'accuracy', 'f_beta': '1.0', 'target_recall': '0.8', 'target_precision': '0.8', 'num_models': 'auto', 'num_calibration_samples': '10000000', 'init_method': 'uniform', 'init_scale': '0.07', 'init_sigma': '0.01', 'init_bias': '0.0', 'optimizer': 'auto', 'loss': 'auto', 'margin': '1.0', 'quantile': '0.5', 'loss_insensitivity': '0.01', 'huber_delta': '1.0', 'num_classes': '1', 'accuracy_top_k': '3', 'wd': 'auto', 'l1': 'auto', 'momentum': 'auto', 'learning_rate': 'auto', 'beta_1': 'auto', 'beta_2': 'auto', 'bias_lr_mult': 'auto', 'bias_wd_mult': 'auto', 'use_lr_scheduler': 'true', 'lr_scheduler_step': 'auto', 'lr_scheduler_factor': 'auto', 'lr_scheduler_minimum_lr': 'auto', 'positive_example_weight_mult': '1.0', 'balance_multiclass_weights': 'false', 'normalize_data': 'true', 'normalize_label': 'auto', 'unbias_data': 'auto', 'unbias_label': 'auto', 'num_point_for_scaler': '10000', '_kvstore': 'auto', '_num_gpus': 'auto', '_num_kv_servers': 'auto', '_log_level': 'info', '_tuning_objective_metric': '', 'early_stopping_patience': '3', 'early_stopping_tolerance': '0.001', '_enable_profiler': 'false', 'predictor_type': 'binary_classifier'}\u001b[0m\n",
      "\u001b[34m[06/22/2023 06:55:44 WARNING 139895614142272] Loggers have already been setup.\u001b[0m\n",
      "\u001b[34mProcess 7 is a worker.\u001b[0m\n",
      "\u001b[34m[06/22/2023 06:55:44 INFO 139895614142272] Using default worker.\u001b[0m\n",
      "\u001b[34m[06/22/2023 06:55:44 INFO 139895614142272] Checkpoint loading and saving are disabled.\u001b[0m\n",
      "\u001b[34m[2023-06-22 06:55:44.948] [tensorio] [info] epoch_stats={\"data_pipeline\": \"/opt/ml/input/data/train\", \"epoch\": 0, \"duration\": 16, \"num_examples\": 1, \"num_bytes\": 9600}\u001b[0m\n",
      "\u001b[34m[06/22/2023 06:55:44 INFO 139895614142272] Create Store: local\u001b[0m\n",
      "\u001b[34m[2023-06-22 06:55:44.993] [tensorio] [info] epoch_stats={\"data_pipeline\": \"/opt/ml/input/data/train\", \"epoch\": 1, \"duration\": 44, \"num_examples\": 9, \"num_bytes\": 78720}\u001b[0m\n",
      "\u001b[34m[06/22/2023 06:55:44 INFO 139895614142272] Scaler algorithm parameters\n",
      " <algorithm.scaler.ScalerAlgorithmStable object at 0x7f3b6b862710>\u001b[0m\n",
      "\u001b[34m[06/22/2023 06:55:44 INFO 139895614142272] Scaling model computed with parameters:\n",
      " {'stdev_label': None, 'stdev_weight': \u001b[0m\n",
      "\u001b[34m[1.0082318  0.45771003 1.0393478  1.0065317  0.11358406 0.3558419\n",
      " 0.52422416 0.17542003 0.47617614 0.18361203 0.6063196  1.0397565\n",
      " 0.6026491 ]\u001b[0m\n",
      "\u001b[34m<NDArray 13 @cpu(0)>, 'mean_label': None, 'mean_weight': \u001b[0m\n",
      "\u001b[34m[-1.8155389e-04  7.0125002e-01  9.5249999e-01  8.6127026e-03\n",
      "  2.7205482e-01  1.4874999e-01  5.1375002e-01  5.9696567e-01\n",
      "  3.4750000e-01  1.6689515e-01  1.3887501e+00  7.6250005e-01\n",
      "  2.3362501e+00]\u001b[0m\n",
      "\u001b[34m<NDArray 13 @cpu(0)>}\u001b[0m\n",
      "\u001b[34m[06/22/2023 06:55:45 INFO 139895614142272] nvidia-smi: took 0.032 seconds to run.\u001b[0m\n",
      "\u001b[34m[06/22/2023 06:55:45 INFO 139895614142272] nvidia-smi identified 0 GPUs.\u001b[0m\n",
      "\u001b[34m[06/22/2023 06:55:45 INFO 139895614142272] Number of GPUs being used: 0\u001b[0m\n",
      "\u001b[34m#metrics {\"StartTime\": 1687416945.1058602, \"EndTime\": 1687416945.1059031, \"Dimensions\": {\"Algorithm\": \"Linear Learner\", \"Host\": \"algo-1\", \"Operation\": \"training\", \"Meta\": \"init_train_data_iter\"}, \"Metrics\": {\"Total Records Seen\": {\"sum\": 920.0, \"count\": 1, \"min\": 920, \"max\": 920}, \"Total Batches Seen\": {\"sum\": 10.0, \"count\": 1, \"min\": 10, \"max\": 10}, \"Max Records Seen Between Resets\": {\"sum\": 820.0, \"count\": 1, \"min\": 820, \"max\": 820}, \"Max Batches Seen Between Resets\": {\"sum\": 9.0, \"count\": 1, \"min\": 9, \"max\": 9}, \"Reset Count\": {\"sum\": 2.0, \"count\": 1, \"min\": 2, \"max\": 2}, \"Number of Records Since Last Reset\": {\"sum\": 0.0, \"count\": 1, \"min\": 0, \"max\": 0}, \"Number of Batches Since Last Reset\": {\"sum\": 0.0, \"count\": 1, \"min\": 0, \"max\": 0}}}\u001b[0m\n",
      "\u001b[34m[2023-06-22 06:55:45.389] [tensorio] [info] epoch_stats={\"data_pipeline\": \"/opt/ml/input/data/train\", \"epoch\": 4, \"duration\": 283, \"num_examples\": 9, \"num_bytes\": 78720}\u001b[0m\n",
      "\u001b[34m#metrics {\"StartTime\": 1687416945.3898535, \"EndTime\": 1687416945.3899431, \"Dimensions\": {\"Algorithm\": \"Linear Learner\", \"Host\": \"algo-1\", \"Operation\": \"training\", \"epoch\": 0, \"model\": 0}, \"Metrics\": {\"train_binary_classification_cross_entropy_objective\": {\"sum\": 0.6498265552520752, \"count\": 1, \"min\": 0.6498265552520752, \"max\": 0.6498265552520752}}}\u001b[0m\n",
      "\u001b[34m#metrics {\"StartTime\": 1687416945.3900316, \"EndTime\": 1687416945.3900518, \"Dimensions\": {\"Algorithm\": \"Linear Learner\", \"Host\": \"algo-1\", \"Operation\": \"training\", \"epoch\": 0, \"model\": 1}, \"Metrics\": {\"train_binary_classification_cross_entropy_objective\": {\"sum\": 0.6748357486724853, \"count\": 1, \"min\": 0.6748357486724853, \"max\": 0.6748357486724853}}}\u001b[0m\n",
      "\u001b[34m#metrics {\"StartTime\": 1687416945.3901067, \"EndTime\": 1687416945.3901181, \"Dimensions\": {\"Algorithm\": \"Linear Learner\", \"Host\": \"algo-1\", \"Operation\": \"training\", \"epoch\": 0, \"model\": 2}, \"Metrics\": {\"train_binary_classification_cross_entropy_objective\": {\"sum\": 0.6910217475891113, \"count\": 1, \"min\": 0.6910217475891113, \"max\": 0.6910217475891113}}}\u001b[0m\n",
      "\u001b[34m#metrics {\"StartTime\": 1687416945.3901725, \"EndTime\": 1687416945.3901832, \"Dimensions\": {\"Algorithm\": \"Linear Learner\", \"Host\": \"algo-1\", \"Operation\": \"training\", \"epoch\": 0, \"model\": 3}, \"Metrics\": {\"train_binary_classification_cross_entropy_objective\": {\"sum\": 0.6948471546173096, \"count\": 1, \"min\": 0.6948471546173096, \"max\": 0.6948471546173096}}}\u001b[0m\n",
      "\u001b[34m#metrics {\"StartTime\": 1687416945.3902247, \"EndTime\": 1687416945.3902404, \"Dimensions\": {\"Algorithm\": \"Linear Learner\", \"Host\": \"algo-1\", \"Operation\": \"training\", \"epoch\": 0, \"model\": 4}, \"Metrics\": {\"train_binary_classification_cross_entropy_objective\": {\"sum\": 0.49244330406188963, \"count\": 1, \"min\": 0.49244330406188963, \"max\": 0.49244330406188963}}}\u001b[0m\n",
      "\u001b[34m#metrics {\"StartTime\": 1687416945.3902984, \"EndTime\": 1687416945.3903155, \"Dimensions\": {\"Algorithm\": \"Linear Learner\", \"Host\": \"algo-1\", \"Operation\": \"training\", \"epoch\": 0, \"model\": 5}, \"Metrics\": {\"train_binary_classification_cross_entropy_objective\": {\"sum\": 0.5000489091873169, \"count\": 1, \"min\": 0.5000489091873169, \"max\": 0.5000489091873169}}}\u001b[0m\n",
      "\u001b[34m#metrics {\"StartTime\": 1687416945.3903708, \"EndTime\": 1687416945.3903873, \"Dimensions\": {\"Algorithm\": \"Linear Learner\", \"Host\": \"algo-1\", \"Operation\": \"training\", \"epoch\": 0, \"model\": 6}, \"Metrics\": {\"train_binary_classification_cross_entropy_objective\": {\"sum\": 0.5193260717391968, \"count\": 1, \"min\": 0.5193260717391968, \"max\": 0.5193260717391968}}}\u001b[0m\n",
      "\u001b[34m#metrics {\"StartTime\": 1687416945.3904405, \"EndTime\": 1687416945.3904572, \"Dimensions\": {\"Algorithm\": \"Linear Learner\", \"Host\": \"algo-1\", \"Operation\": \"training\", \"epoch\": 0, \"model\": 7}, \"Metrics\": {\"train_binary_classification_cross_entropy_objective\": {\"sum\": 0.5108168506622315, \"count\": 1, \"min\": 0.5108168506622315, \"max\": 0.5108168506622315}}}\u001b[0m\n",
      "\u001b[34m#metrics {\"StartTime\": 1687416945.3905137, \"EndTime\": 1687416945.3905296, \"Dimensions\": {\"Algorithm\": \"Linear Learner\", \"Host\": \"algo-1\", \"Operation\": \"training\", \"epoch\": 0, \"model\": 8}, \"Metrics\": {\"train_binary_classification_cross_entropy_objective\": {\"sum\": 0.7160440921783447, \"count\": 1, \"min\": 0.7160440921783447, \"max\": 0.7160440921783447}}}\u001b[0m\n",
      "\u001b[34m#metrics {\"StartTime\": 1687416945.3905826, \"EndTime\": 1687416945.390598, \"Dimensions\": {\"Algorithm\": \"Linear Learner\", \"Host\": \"algo-1\", \"Operation\": \"training\", \"epoch\": 0, \"model\": 9}, \"Metrics\": {\"train_binary_classification_cross_entropy_objective\": {\"sum\": 0.6913873100280762, \"count\": 1, \"min\": 0.6913873100280762, \"max\": 0.6913873100280762}}}\u001b[0m\n",
      "\u001b[34m#metrics {\"StartTime\": 1687416945.3906498, \"EndTime\": 1687416945.390666, \"Dimensions\": {\"Algorithm\": \"Linear Learner\", \"Host\": \"algo-1\", \"Operation\": \"training\", \"epoch\": 0, \"model\": 10}, \"Metrics\": {\"train_binary_classification_cross_entropy_objective\": {\"sum\": 0.6856764030456542, \"count\": 1, \"min\": 0.6856764030456542, \"max\": 0.6856764030456542}}}\u001b[0m\n",
      "\u001b[34m#metrics {\"StartTime\": 1687416945.3907206, \"EndTime\": 1687416945.3907366, \"Dimensions\": {\"Algorithm\": \"Linear Learner\", \"Host\": \"algo-1\", \"Operation\": \"training\", \"epoch\": 0, \"model\": 11}, \"Metrics\": {\"train_binary_classification_cross_entropy_objective\": {\"sum\": 0.713398609161377, \"count\": 1, \"min\": 0.713398609161377, \"max\": 0.713398609161377}}}\u001b[0m\n",
      "\u001b[34m#metrics {\"StartTime\": 1687416945.3907878, \"EndTime\": 1687416945.3908048, \"Dimensions\": {\"Algorithm\": \"Linear Learner\", \"Host\": \"algo-1\", \"Operation\": \"training\", \"epoch\": 0, \"model\": 12}, \"Metrics\": {\"train_binary_classification_cross_entropy_objective\": {\"sum\": 0.5075011730194092, \"count\": 1, \"min\": 0.5075011730194092, \"max\": 0.5075011730194092}}}\u001b[0m\n",
      "\u001b[34m#metrics {\"StartTime\": 1687416945.390868, \"EndTime\": 1687416945.3908863, \"Dimensions\": {\"Algorithm\": \"Linear Learner\", \"Host\": \"algo-1\", \"Operation\": \"training\", \"epoch\": 0, \"model\": 13}, \"Metrics\": {\"train_binary_classification_cross_entropy_objective\": {\"sum\": 0.49334261417388914, \"count\": 1, \"min\": 0.49334261417388914, \"max\": 0.49334261417388914}}}\u001b[0m\n",
      "\u001b[34m#metrics {\"StartTime\": 1687416945.3909483, \"EndTime\": 1687416945.3909647, \"Dimensions\": {\"Algorithm\": \"Linear Learner\", \"Host\": \"algo-1\", \"Operation\": \"training\", \"epoch\": 0, \"model\": 14}, \"Metrics\": {\"train_binary_classification_cross_entropy_objective\": {\"sum\": 0.5167792606353759, \"count\": 1, \"min\": 0.5167792606353759, \"max\": 0.5167792606353759}}}\u001b[0m\n",
      "\u001b[34m#metrics {\"StartTime\": 1687416945.3910227, \"EndTime\": 1687416945.3910375, \"Dimensions\": {\"Algorithm\": \"Linear Learner\", \"Host\": \"algo-1\", \"Operation\": \"training\", \"epoch\": 0, \"model\": 15}, \"Metrics\": {\"train_binary_classification_cross_entropy_objective\": {\"sum\": 0.5141339969635009, \"count\": 1, \"min\": 0.5141339969635009, \"max\": 0.5141339969635009}}}\u001b[0m\n",
      "\u001b[34m#metrics {\"StartTime\": 1687416945.3910892, \"EndTime\": 1687416945.3911052, \"Dimensions\": {\"Algorithm\": \"Linear Learner\", \"Host\": \"algo-1\", \"Operation\": \"training\", \"epoch\": 0, \"model\": 16}, \"Metrics\": {\"train_binary_classification_cross_entropy_objective\": {\"sum\": 0.6719334983825683, \"count\": 1, \"min\": 0.6719334983825683, \"max\": 0.6719334983825683}}}\u001b[0m\n",
      "\u001b[34m#metrics {\"StartTime\": 1687416945.3911655, \"EndTime\": 1687416945.391181, \"Dimensions\": {\"Algorithm\": \"Linear Learner\", \"Host\": \"algo-1\", \"Operation\": \"training\", \"epoch\": 0, \"model\": 17}, \"Metrics\": {\"train_binary_classification_cross_entropy_objective\": {\"sum\": 0.6913566017150878, \"count\": 1, \"min\": 0.6913566017150878, \"max\": 0.6913566017150878}}}\u001b[0m\n",
      "\u001b[34m#metrics {\"StartTime\": 1687416945.3912318, \"EndTime\": 1687416945.3912475, \"Dimensions\": {\"Algorithm\": \"Linear Learner\", \"Host\": \"algo-1\", \"Operation\": \"training\", \"epoch\": 0, \"model\": 18}, \"Metrics\": {\"train_binary_classification_cross_entropy_objective\": {\"sum\": 0.6323104810714721, \"count\": 1, \"min\": 0.6323104810714721, \"max\": 0.6323104810714721}}}\u001b[0m\n",
      "\u001b[34m#metrics {\"StartTime\": 1687416945.3912992, \"EndTime\": 1687416945.391315, \"Dimensions\": {\"Algorithm\": \"Linear Learner\", \"Host\": \"algo-1\", \"Operation\": \"training\", \"epoch\": 0, \"model\": 19}, \"Metrics\": {\"train_binary_classification_cross_entropy_objective\": {\"sum\": 0.649751033782959, \"count\": 1, \"min\": 0.649751033782959, \"max\": 0.649751033782959}}}\u001b[0m\n",
      "\u001b[34m#metrics {\"StartTime\": 1687416945.3913753, \"EndTime\": 1687416945.391393, \"Dimensions\": {\"Algorithm\": \"Linear Learner\", \"Host\": \"algo-1\", \"Operation\": \"training\", \"epoch\": 0, \"model\": 20}, \"Metrics\": {\"train_binary_classification_cross_entropy_objective\": {\"sum\": 0.5687330627441406, \"count\": 1, \"min\": 0.5687330627441406, \"max\": 0.5687330627441406}}}\u001b[0m\n",
      "\u001b[34m#metrics {\"StartTime\": 1687416945.3914473, \"EndTime\": 1687416945.391464, \"Dimensions\": {\"Algorithm\": \"Linear Learner\", \"Host\": \"algo-1\", \"Operation\": \"training\", \"epoch\": 0, \"model\": 21}, \"Metrics\": {\"train_binary_classification_cross_entropy_objective\": {\"sum\": 0.5651967430114746, \"count\": 1, \"min\": 0.5651967430114746, \"max\": 0.5651967430114746}}}\u001b[0m\n",
      "\u001b[34m#metrics {\"StartTime\": 1687416945.3915153, \"EndTime\": 1687416945.3915308, \"Dimensions\": {\"Algorithm\": \"Linear Learner\", \"Host\": \"algo-1\", \"Operation\": \"training\", \"epoch\": 0, \"model\": 22}, \"Metrics\": {\"train_binary_classification_cross_entropy_objective\": {\"sum\": 0.5680665159225464, \"count\": 1, \"min\": 0.5680665159225464, \"max\": 0.5680665159225464}}}\u001b[0m\n",
      "\u001b[34m#metrics {\"StartTime\": 1687416945.391583, \"EndTime\": 1687416945.3915994, \"Dimensions\": {\"Algorithm\": \"Linear Learner\", \"Host\": \"algo-1\", \"Operation\": \"training\", \"epoch\": 0, \"model\": 23}, \"Metrics\": {\"train_binary_classification_cross_entropy_objective\": {\"sum\": 0.5688717985153198, \"count\": 1, \"min\": 0.5688717985153198, \"max\": 0.5688717985153198}}}\u001b[0m\n",
      "\u001b[34m#metrics {\"StartTime\": 1687416945.391656, \"EndTime\": 1687416945.3916724, \"Dimensions\": {\"Algorithm\": \"Linear Learner\", \"Host\": \"algo-1\", \"Operation\": \"training\", \"epoch\": 0, \"model\": 24}, \"Metrics\": {\"train_binary_classification_cross_entropy_objective\": {\"sum\": 0.6909515476226806, \"count\": 1, \"min\": 0.6909515476226806, \"max\": 0.6909515476226806}}}\u001b[0m\n",
      "\u001b[34m#metrics {\"StartTime\": 1687416945.3917153, \"EndTime\": 1687416945.39173, \"Dimensions\": {\"Algorithm\": \"Linear Learner\", \"Host\": \"algo-1\", \"Operation\": \"training\", \"epoch\": 0, \"model\": 25}, \"Metrics\": {\"train_binary_classification_cross_entropy_objective\": {\"sum\": 0.6801699161529541, \"count\": 1, \"min\": 0.6801699161529541, \"max\": 0.6801699161529541}}}\u001b[0m\n",
      "\u001b[34m#metrics {\"StartTime\": 1687416945.3917801, \"EndTime\": 1687416945.391796, \"Dimensions\": {\"Algorithm\": \"Linear Learner\", \"Host\": \"algo-1\", \"Operation\": \"training\", \"epoch\": 0, \"model\": 26}, \"Metrics\": {\"train_binary_classification_cross_entropy_objective\": {\"sum\": 0.6749241542816162, \"count\": 1, \"min\": 0.6749241542816162, \"max\": 0.6749241542816162}}}\u001b[0m\n",
      "\u001b[34m#metrics {\"StartTime\": 1687416945.3918474, \"EndTime\": 1687416945.3918643, \"Dimensions\": {\"Algorithm\": \"Linear Learner\", \"Host\": \"algo-1\", \"Operation\": \"training\", \"epoch\": 0, \"model\": 27}, \"Metrics\": {\"train_binary_classification_cross_entropy_objective\": {\"sum\": 0.6983104133605957, \"count\": 1, \"min\": 0.6983104133605957, \"max\": 0.6983104133605957}}}\u001b[0m\n",
      "\u001b[34m#metrics {\"StartTime\": 1687416945.3919308, \"EndTime\": 1687416945.3919487, \"Dimensions\": {\"Algorithm\": \"Linear Learner\", \"Host\": \"algo-1\", \"Operation\": \"training\", \"epoch\": 0, \"model\": 28}, \"Metrics\": {\"train_binary_classification_cross_entropy_objective\": {\"sum\": 0.7595046901702881, \"count\": 1, \"min\": 0.7595046901702881, \"max\": 0.7595046901702881}}}\u001b[0m\n",
      "\u001b[34m#metrics {\"StartTime\": 1687416945.3920126, \"EndTime\": 1687416945.3920286, \"Dimensions\": {\"Algorithm\": \"Linear Learner\", \"Host\": \"algo-1\", \"Operation\": \"training\", \"epoch\": 0, \"model\": 29}, \"Metrics\": {\"train_binary_classification_cross_entropy_objective\": {\"sum\": 0.7450114059448242, \"count\": 1, \"min\": 0.7450114059448242, \"max\": 0.7450114059448242}}}\u001b[0m\n",
      "\u001b[34m#metrics {\"StartTime\": 1687416945.3920941, \"EndTime\": 1687416945.3921115, \"Dimensions\": {\"Algorithm\": \"Linear Learner\", \"Host\": \"algo-1\", \"Operation\": \"training\", \"epoch\": 0, \"model\": 30}, \"Metrics\": {\"train_binary_classification_cross_entropy_objective\": {\"sum\": 0.7508611392974853, \"count\": 1, \"min\": 0.7508611392974853, \"max\": 0.7508611392974853}}}\u001b[0m\n",
      "\u001b[34m#metrics {\"StartTime\": 1687416945.3921757, \"EndTime\": 1687416945.3921924, \"Dimensions\": {\"Algorithm\": \"Linear Learner\", \"Host\": \"algo-1\", \"Operation\": \"training\", \"epoch\": 0, \"model\": 31}, \"Metrics\": {\"train_binary_classification_cross_entropy_objective\": {\"sum\": 0.7450637340545654, \"count\": 1, \"min\": 0.7450637340545654, \"max\": 0.7450637340545654}}}\u001b[0m\n",
      "\u001b[34m[06/22/2023 06:55:45 INFO 139895614142272] #quality_metric: host=algo-1, epoch=0, train binary_classification_cross_entropy_objective <loss>=0.6498265552520752\u001b[0m\n",
      "\u001b[34m[06/22/2023 06:55:45 INFO 139895614142272] #early_stopping_criteria_metric: host=algo-1, epoch=0, criteria=binary_classification_cross_entropy_objective, value=0.49244330406188963\u001b[0m\n",
      "\u001b[34m[06/22/2023 06:55:45 INFO 139895614142272] Epoch 0: Loss improved. Updating best model\u001b[0m\n",
      "\u001b[34m[06/22/2023 06:55:45 INFO 139895614142272] Saving model for epoch: 0\u001b[0m\n",
      "\u001b[34m[06/22/2023 06:55:45 INFO 139895614142272] Saved checkpoint to \"/tmp/tmpavyih5jj/mx-mod-0000.params\"\u001b[0m\n",
      "\u001b[34m[06/22/2023 06:55:45 INFO 139895614142272] #progress_metric: host=algo-1, completed 6.666666666666667 % of epochs\u001b[0m\n",
      "\u001b[34m#metrics {\"StartTime\": 1687416945.1061952, \"EndTime\": 1687416945.4026365, \"Dimensions\": {\"Algorithm\": \"Linear Learner\", \"Host\": \"algo-1\", \"Operation\": \"training\", \"epoch\": 0, \"Meta\": \"training_data_iter\"}, \"Metrics\": {\"Total Records Seen\": {\"sum\": 1740.0, \"count\": 1, \"min\": 1740, \"max\": 1740}, \"Total Batches Seen\": {\"sum\": 19.0, \"count\": 1, \"min\": 19, \"max\": 19}, \"Max Records Seen Between Resets\": {\"sum\": 820.0, \"count\": 1, \"min\": 820, \"max\": 820}, \"Max Batches Seen Between Resets\": {\"sum\": 9.0, \"count\": 1, \"min\": 9, \"max\": 9}, \"Reset Count\": {\"sum\": 3.0, \"count\": 1, \"min\": 3, \"max\": 3}, \"Number of Records Since Last Reset\": {\"sum\": 820.0, \"count\": 1, \"min\": 820, \"max\": 820}, \"Number of Batches Since Last Reset\": {\"sum\": 9.0, \"count\": 1, \"min\": 9, \"max\": 9}}}\u001b[0m\n",
      "\u001b[34m[06/22/2023 06:55:45 INFO 139895614142272] #throughput_metric: host=algo-1, train throughput=2764.8830604220643 records/second\u001b[0m\n",
      "\u001b[34m[2023-06-22 06:55:45.672] [tensorio] [info] epoch_stats={\"data_pipeline\": \"/opt/ml/input/data/train\", \"epoch\": 6, \"duration\": 268, \"num_examples\": 9, \"num_bytes\": 78720}\u001b[0m\n",
      "\u001b[34m#metrics {\"StartTime\": 1687416945.672174, \"EndTime\": 1687416945.6722803, \"Dimensions\": {\"Algorithm\": \"Linear Learner\", \"Host\": \"algo-1\", \"Operation\": \"training\", \"epoch\": 1, \"model\": 0}, \"Metrics\": {\"train_binary_classification_cross_entropy_objective\": {\"sum\": 0.5889052534103394, \"count\": 1, \"min\": 0.5889052534103394, \"max\": 0.5889052534103394}}}\u001b[0m\n",
      "\u001b[34m#metrics {\"StartTime\": 1687416945.6723917, \"EndTime\": 1687416945.6724117, \"Dimensions\": {\"Algorithm\": \"Linear Learner\", \"Host\": \"algo-1\", \"Operation\": \"training\", \"epoch\": 1, \"model\": 1}, \"Metrics\": {\"train_binary_classification_cross_entropy_objective\": {\"sum\": 0.6111047887802123, \"count\": 1, \"min\": 0.6111047887802123, \"max\": 0.6111047887802123}}}\u001b[0m\n",
      "\u001b[34m#metrics {\"StartTime\": 1687416945.6724713, \"EndTime\": 1687416945.6724887, \"Dimensions\": {\"Algorithm\": \"Linear Learner\", \"Host\": \"algo-1\", \"Operation\": \"training\", \"epoch\": 1, \"model\": 2}, \"Metrics\": {\"train_binary_classification_cross_entropy_objective\": {\"sum\": 0.623658881187439, \"count\": 1, \"min\": 0.623658881187439, \"max\": 0.623658881187439}}}\u001b[0m\n",
      "\u001b[34m#metrics {\"StartTime\": 1687416945.6725338, \"EndTime\": 1687416945.6725485, \"Dimensions\": {\"Algorithm\": \"Linear Learner\", \"Host\": \"algo-1\", \"Operation\": \"training\", \"epoch\": 1, \"model\": 3}, \"Metrics\": {\"train_binary_classification_cross_entropy_objective\": {\"sum\": 0.629205322265625, \"count\": 1, \"min\": 0.629205322265625, \"max\": 0.629205322265625}}}\u001b[0m\n",
      "\u001b[34m#metrics {\"StartTime\": 1687416945.6726065, \"EndTime\": 1687416945.6726208, \"Dimensions\": {\"Algorithm\": \"Linear Learner\", \"Host\": \"algo-1\", \"Operation\": \"training\", \"epoch\": 1, \"model\": 4}, \"Metrics\": {\"train_binary_classification_cross_entropy_objective\": {\"sum\": 0.3611901760101318, \"count\": 1, \"min\": 0.3611901760101318, \"max\": 0.3611901760101318}}}\u001b[0m\n",
      "\u001b[34m#metrics {\"StartTime\": 1687416945.6726701, \"EndTime\": 1687416945.6726835, \"Dimensions\": {\"Algorithm\": \"Linear Learner\", \"Host\": \"algo-1\", \"Operation\": \"training\", \"epoch\": 1, \"model\": 5}, \"Metrics\": {\"train_binary_classification_cross_entropy_objective\": {\"sum\": 0.36131025314331056, \"count\": 1, \"min\": 0.36131025314331056, \"max\": 0.36131025314331056}}}\u001b[0m\n",
      "\u001b[34m#metrics {\"StartTime\": 1687416945.6727371, \"EndTime\": 1687416945.6727474, \"Dimensions\": {\"Algorithm\": \"Linear Learner\", \"Host\": \"algo-1\", \"Operation\": \"training\", \"epoch\": 1, \"model\": 6}, \"Metrics\": {\"train_binary_classification_cross_entropy_objective\": {\"sum\": 0.3614111685752869, \"count\": 1, \"min\": 0.3614111685752869, \"max\": 0.3614111685752869}}}\u001b[0m\n",
      "\u001b[34m#metrics {\"StartTime\": 1687416945.6727822, \"EndTime\": 1687416945.6727903, \"Dimensions\": {\"Algorithm\": \"Linear Learner\", \"Host\": \"algo-1\", \"Operation\": \"training\", \"epoch\": 1, \"model\": 7}, \"Metrics\": {\"train_binary_classification_cross_entropy_objective\": {\"sum\": 0.3628736996650696, \"count\": 1, \"min\": 0.3628736996650696, \"max\": 0.3628736996650696}}}\u001b[0m\n",
      "\u001b[34m#metrics {\"StartTime\": 1687416945.672846, \"EndTime\": 1687416945.6728632, \"Dimensions\": {\"Algorithm\": \"Linear Learner\", \"Host\": \"algo-1\", \"Operation\": \"training\", \"epoch\": 1, \"model\": 8}, \"Metrics\": {\"train_binary_classification_cross_entropy_objective\": {\"sum\": 0.6471611928939819, \"count\": 1, \"min\": 0.6471611928939819, \"max\": 0.6471611928939819}}}\u001b[0m\n",
      "\u001b[34m#metrics {\"StartTime\": 1687416945.672913, \"EndTime\": 1687416945.6729293, \"Dimensions\": {\"Algorithm\": \"Linear Learner\", \"Host\": \"algo-1\", \"Operation\": \"training\", \"epoch\": 1, \"model\": 9}, \"Metrics\": {\"train_binary_classification_cross_entropy_objective\": {\"sum\": 0.625665259361267, \"count\": 1, \"min\": 0.625665259361267, \"max\": 0.625665259361267}}}\u001b[0m\n",
      "\u001b[34m#metrics {\"StartTime\": 1687416945.6729848, \"EndTime\": 1687416945.673001, \"Dimensions\": {\"Algorithm\": \"Linear Learner\", \"Host\": \"algo-1\", \"Operation\": \"training\", \"epoch\": 1, \"model\": 10}, \"Metrics\": {\"train_binary_classification_cross_entropy_objective\": {\"sum\": 0.6214653873443603, \"count\": 1, \"min\": 0.6214653873443603, \"max\": 0.6214653873443603}}}\u001b[0m\n",
      "\u001b[34m#metrics {\"StartTime\": 1687416945.6730585, \"EndTime\": 1687416945.6730754, \"Dimensions\": {\"Algorithm\": \"Linear Learner\", \"Host\": \"algo-1\", \"Operation\": \"training\", \"epoch\": 1, \"model\": 11}, \"Metrics\": {\"train_binary_classification_cross_entropy_objective\": {\"sum\": 0.6444702911376953, \"count\": 1, \"min\": 0.6444702911376953, \"max\": 0.6444702911376953}}}\u001b[0m\n",
      "\u001b[34m#metrics {\"StartTime\": 1687416945.6731205, \"EndTime\": 1687416945.6731355, \"Dimensions\": {\"Algorithm\": \"Linear Learner\", \"Host\": \"algo-1\", \"Operation\": \"training\", \"epoch\": 1, \"model\": 12}, \"Metrics\": {\"train_binary_classification_cross_entropy_objective\": {\"sum\": 0.35862725019454955, \"count\": 1, \"min\": 0.35862725019454955, \"max\": 0.35862725019454955}}}\u001b[0m\n",
      "\u001b[34m#metrics {\"StartTime\": 1687416945.6731899, \"EndTime\": 1687416945.673206, \"Dimensions\": {\"Algorithm\": \"Linear Learner\", \"Host\": \"algo-1\", \"Operation\": \"training\", \"epoch\": 1, \"model\": 13}, \"Metrics\": {\"train_binary_classification_cross_entropy_objective\": {\"sum\": 0.3580181646347046, \"count\": 1, \"min\": 0.3580181646347046, \"max\": 0.3580181646347046}}}\u001b[0m\n",
      "\u001b[34m#metrics {\"StartTime\": 1687416945.6732605, \"EndTime\": 1687416945.6732771, \"Dimensions\": {\"Algorithm\": \"Linear Learner\", \"Host\": \"algo-1\", \"Operation\": \"training\", \"epoch\": 1, \"model\": 14}, \"Metrics\": {\"train_binary_classification_cross_entropy_objective\": {\"sum\": 0.361096510887146, \"count\": 1, \"min\": 0.361096510887146, \"max\": 0.361096510887146}}}\u001b[0m\n",
      "\u001b[34m#metrics {\"StartTime\": 1687416945.6733222, \"EndTime\": 1687416945.673337, \"Dimensions\": {\"Algorithm\": \"Linear Learner\", \"Host\": \"algo-1\", \"Operation\": \"training\", \"epoch\": 1, \"model\": 15}, \"Metrics\": {\"train_binary_classification_cross_entropy_objective\": {\"sum\": 0.3607998561859131, \"count\": 1, \"min\": 0.3607998561859131, \"max\": 0.3607998561859131}}}\u001b[0m\n",
      "\u001b[34m#metrics {\"StartTime\": 1687416945.6734111, \"EndTime\": 1687416945.6734285, \"Dimensions\": {\"Algorithm\": \"Linear Learner\", \"Host\": \"algo-1\", \"Operation\": \"training\", \"epoch\": 1, \"model\": 16}, \"Metrics\": {\"train_binary_classification_cross_entropy_objective\": {\"sum\": 0.6139345598220826, \"count\": 1, \"min\": 0.6139345598220826, \"max\": 0.6139345598220826}}}\u001b[0m\n",
      "\u001b[34m#metrics {\"StartTime\": 1687416945.6734803, \"EndTime\": 1687416945.6734967, \"Dimensions\": {\"Algorithm\": \"Linear Learner\", \"Host\": \"algo-1\", \"Operation\": \"training\", \"epoch\": 1, \"model\": 17}, \"Metrics\": {\"train_binary_classification_cross_entropy_objective\": {\"sum\": 0.6268962955474854, \"count\": 1, \"min\": 0.6268962955474854, \"max\": 0.6268962955474854}}}\u001b[0m\n",
      "\u001b[34m#metrics {\"StartTime\": 1687416945.6735494, \"EndTime\": 1687416945.6735668, \"Dimensions\": {\"Algorithm\": \"Linear Learner\", \"Host\": \"algo-1\", \"Operation\": \"training\", \"epoch\": 1, \"model\": 18}, \"Metrics\": {\"train_binary_classification_cross_entropy_objective\": {\"sum\": 0.581722617149353, \"count\": 1, \"min\": 0.581722617149353, \"max\": 0.581722617149353}}}\u001b[0m\n",
      "\u001b[34m#metrics {\"StartTime\": 1687416945.6736114, \"EndTime\": 1687416945.673627, \"Dimensions\": {\"Algorithm\": \"Linear Learner\", \"Host\": \"algo-1\", \"Operation\": \"training\", \"epoch\": 1, \"model\": 19}, \"Metrics\": {\"train_binary_classification_cross_entropy_objective\": {\"sum\": 0.5983427953720093, \"count\": 1, \"min\": 0.5983427953720093, \"max\": 0.5983427953720093}}}\u001b[0m\n",
      "\u001b[34m#metrics {\"StartTime\": 1687416945.6736856, \"EndTime\": 1687416945.673702, \"Dimensions\": {\"Algorithm\": \"Linear Learner\", \"Host\": \"algo-1\", \"Operation\": \"training\", \"epoch\": 1, \"model\": 20}, \"Metrics\": {\"train_binary_classification_cross_entropy_objective\": {\"sum\": 0.5633814334869385, \"count\": 1, \"min\": 0.5633814334869385, \"max\": 0.5633814334869385}}}\u001b[0m\n",
      "\u001b[34m#metrics {\"StartTime\": 1687416945.6737523, \"EndTime\": 1687416945.6737676, \"Dimensions\": {\"Algorithm\": \"Linear Learner\", \"Host\": \"algo-1\", \"Operation\": \"training\", \"epoch\": 1, \"model\": 21}, \"Metrics\": {\"train_binary_classification_cross_entropy_objective\": {\"sum\": 0.5715846061706543, \"count\": 1, \"min\": 0.5715846061706543, \"max\": 0.5715846061706543}}}\u001b[0m\n",
      "\u001b[34m#metrics {\"StartTime\": 1687416945.6738222, \"EndTime\": 1687416945.6738384, \"Dimensions\": {\"Algorithm\": \"Linear Learner\", \"Host\": \"algo-1\", \"Operation\": \"training\", \"epoch\": 1, \"model\": 22}, \"Metrics\": {\"train_binary_classification_cross_entropy_objective\": {\"sum\": 0.5672286319732666, \"count\": 1, \"min\": 0.5672286319732666, \"max\": 0.5672286319732666}}}\u001b[0m\n",
      "\u001b[34m#metrics {\"StartTime\": 1687416945.6738985, \"EndTime\": 1687416945.673915, \"Dimensions\": {\"Algorithm\": \"Linear Learner\", \"Host\": \"algo-1\", \"Operation\": \"training\", \"epoch\": 1, \"model\": 23}, \"Metrics\": {\"train_binary_classification_cross_entropy_objective\": {\"sum\": 0.5817927551269532, \"count\": 1, \"min\": 0.5817927551269532, \"max\": 0.5817927551269532}}}\u001b[0m\n",
      "\u001b[34m#metrics {\"StartTime\": 1687416945.673963, \"EndTime\": 1687416945.6739728, \"Dimensions\": {\"Algorithm\": \"Linear Learner\", \"Host\": \"algo-1\", \"Operation\": \"training\", \"epoch\": 1, \"model\": 24}, \"Metrics\": {\"train_binary_classification_cross_entropy_objective\": {\"sum\": 0.6895455837249755, \"count\": 1, \"min\": 0.6895455837249755, \"max\": 0.6895455837249755}}}\u001b[0m\n",
      "\u001b[34m#metrics {\"StartTime\": 1687416945.6740086, \"EndTime\": 1687416945.6740222, \"Dimensions\": {\"Algorithm\": \"Linear Learner\", \"Host\": \"algo-1\", \"Operation\": \"training\", \"epoch\": 1, \"model\": 25}, \"Metrics\": {\"train_binary_classification_cross_entropy_objective\": {\"sum\": 0.6912263298034668, \"count\": 1, \"min\": 0.6912263298034668, \"max\": 0.6912263298034668}}}\u001b[0m\n",
      "\u001b[34m#metrics {\"StartTime\": 1687416945.6740773, \"EndTime\": 1687416945.6740937, \"Dimensions\": {\"Algorithm\": \"Linear Learner\", \"Host\": \"algo-1\", \"Operation\": \"training\", \"epoch\": 1, \"model\": 26}, \"Metrics\": {\"train_binary_classification_cross_entropy_objective\": {\"sum\": 0.6917154598236084, \"count\": 1, \"min\": 0.6917154598236084, \"max\": 0.6917154598236084}}}\u001b[0m\n",
      "\u001b[34m#metrics {\"StartTime\": 1687416945.6741638, \"EndTime\": 1687416945.67418, \"Dimensions\": {\"Algorithm\": \"Linear Learner\", \"Host\": \"algo-1\", \"Operation\": \"training\", \"epoch\": 1, \"model\": 27}, \"Metrics\": {\"train_binary_classification_cross_entropy_objective\": {\"sum\": 0.6840244770050049, \"count\": 1, \"min\": 0.6840244770050049, \"max\": 0.6840244770050049}}}\u001b[0m\n",
      "\u001b[34m#metrics {\"StartTime\": 1687416945.6742249, \"EndTime\": 1687416945.6742392, \"Dimensions\": {\"Algorithm\": \"Linear Learner\", \"Host\": \"algo-1\", \"Operation\": \"training\", \"epoch\": 1, \"model\": 28}, \"Metrics\": {\"train_binary_classification_cross_entropy_objective\": {\"sum\": 0.6999555587768554, \"count\": 1, \"min\": 0.6999555587768554, \"max\": 0.6999555587768554}}}\u001b[0m\n",
      "\u001b[34m#metrics {\"StartTime\": 1687416945.6742995, \"EndTime\": 1687416945.6743166, \"Dimensions\": {\"Algorithm\": \"Linear Learner\", \"Host\": \"algo-1\", \"Operation\": \"training\", \"epoch\": 1, \"model\": 29}, \"Metrics\": {\"train_binary_classification_cross_entropy_objective\": {\"sum\": 0.7141323947906494, \"count\": 1, \"min\": 0.7141323947906494, \"max\": 0.7141323947906494}}}\u001b[0m\n",
      "\u001b[34m#metrics {\"StartTime\": 1687416945.6743689, \"EndTime\": 1687416945.6743846, \"Dimensions\": {\"Algorithm\": \"Linear Learner\", \"Host\": \"algo-1\", \"Operation\": \"training\", \"epoch\": 1, \"model\": 30}, \"Metrics\": {\"train_binary_classification_cross_entropy_objective\": {\"sum\": 0.7140117359161376, \"count\": 1, \"min\": 0.7140117359161376, \"max\": 0.7140117359161376}}}\u001b[0m\n",
      "\u001b[34m#metrics {\"StartTime\": 1687416945.6744459, \"EndTime\": 1687416945.6744642, \"Dimensions\": {\"Algorithm\": \"Linear Learner\", \"Host\": \"algo-1\", \"Operation\": \"training\", \"epoch\": 1, \"model\": 31}, \"Metrics\": {\"train_binary_classification_cross_entropy_objective\": {\"sum\": 0.7130312347412109, \"count\": 1, \"min\": 0.7130312347412109, \"max\": 0.7130312347412109}}}\u001b[0m\n",
      "\u001b[34m[06/22/2023 06:55:45 INFO 139895614142272] #quality_metric: host=algo-1, epoch=1, train binary_classification_cross_entropy_objective <loss>=0.5889052534103394\u001b[0m\n",
      "\u001b[34m[06/22/2023 06:55:45 INFO 139895614142272] #early_stopping_criteria_metric: host=algo-1, epoch=1, criteria=binary_classification_cross_entropy_objective, value=0.3580181646347046\u001b[0m\n",
      "\u001b[34m[06/22/2023 06:55:45 INFO 139895614142272] Epoch 1: Loss improved. Updating best model\u001b[0m\n",
      "\u001b[34m[06/22/2023 06:55:45 INFO 139895614142272] Saving model for epoch: 1\u001b[0m\n",
      "\u001b[34m[06/22/2023 06:55:45 INFO 139895614142272] Saved checkpoint to \"/tmp/tmp6i3hf9nd/mx-mod-0000.params\"\u001b[0m\n",
      "\u001b[34m[06/22/2023 06:55:45 INFO 139895614142272] #progress_metric: host=algo-1, completed 13.333333333333334 % of epochs\u001b[0m\n",
      "\u001b[34m#metrics {\"StartTime\": 1687416945.4029684, \"EndTime\": 1687416945.6842191, \"Dimensions\": {\"Algorithm\": \"Linear Learner\", \"Host\": \"algo-1\", \"Operation\": \"training\", \"epoch\": 1, \"Meta\": \"training_data_iter\"}, \"Metrics\": {\"Total Records Seen\": {\"sum\": 2560.0, \"count\": 1, \"min\": 2560, \"max\": 2560}, \"Total Batches Seen\": {\"sum\": 28.0, \"count\": 1, \"min\": 28, \"max\": 28}, \"Max Records Seen Between Resets\": {\"sum\": 820.0, \"count\": 1, \"min\": 820, \"max\": 820}, \"Max Batches Seen Between Resets\": {\"sum\": 9.0, \"count\": 1, \"min\": 9, \"max\": 9}, \"Reset Count\": {\"sum\": 4.0, \"count\": 1, \"min\": 4, \"max\": 4}, \"Number of Records Since Last Reset\": {\"sum\": 820.0, \"count\": 1, \"min\": 820, \"max\": 820}, \"Number of Batches Since Last Reset\": {\"sum\": 9.0, \"count\": 1, \"min\": 9, \"max\": 9}}}\u001b[0m\n",
      "\u001b[34m[06/22/2023 06:55:45 INFO 139895614142272] #throughput_metric: host=algo-1, train throughput=2913.8709343997016 records/second\u001b[0m\n",
      "\u001b[34m[2023-06-22 06:55:46.010] [tensorio] [info] epoch_stats={\"data_pipeline\": \"/opt/ml/input/data/train\", \"epoch\": 8, \"duration\": 325, \"num_examples\": 9, \"num_bytes\": 78720}\u001b[0m\n",
      "\u001b[34m#metrics {\"StartTime\": 1687416946.0101643, \"EndTime\": 1687416946.0102696, \"Dimensions\": {\"Algorithm\": \"Linear Learner\", \"Host\": \"algo-1\", \"Operation\": \"training\", \"epoch\": 2, \"model\": 0}, \"Metrics\": {\"train_binary_classification_cross_entropy_objective\": {\"sum\": 0.541429500579834, \"count\": 1, \"min\": 0.541429500579834, \"max\": 0.541429500579834}}}\u001b[0m\n",
      "\u001b[34m#metrics {\"StartTime\": 1687416946.0103862, \"EndTime\": 1687416946.0104094, \"Dimensions\": {\"Algorithm\": \"Linear Learner\", \"Host\": \"algo-1\", \"Operation\": \"training\", \"epoch\": 2, \"model\": 1}, \"Metrics\": {\"train_binary_classification_cross_entropy_objective\": {\"sum\": 0.5606313514709472, \"count\": 1, \"min\": 0.5606313514709472, \"max\": 0.5606313514709472}}}\u001b[0m\n",
      "\u001b[34m#metrics {\"StartTime\": 1687416946.0104723, \"EndTime\": 1687416946.0104902, \"Dimensions\": {\"Algorithm\": \"Linear Learner\", \"Host\": \"algo-1\", \"Operation\": \"training\", \"epoch\": 2, \"model\": 2}, \"Metrics\": {\"train_binary_classification_cross_entropy_objective\": {\"sum\": 0.570274224281311, \"count\": 1, \"min\": 0.570274224281311, \"max\": 0.570274224281311}}}\u001b[0m\n",
      "\u001b[34m#metrics {\"StartTime\": 1687416946.0105488, \"EndTime\": 1687416946.0105703, \"Dimensions\": {\"Algorithm\": \"Linear Learner\", \"Host\": \"algo-1\", \"Operation\": \"training\", \"epoch\": 2, \"model\": 3}, \"Metrics\": {\"train_binary_classification_cross_entropy_objective\": {\"sum\": 0.5768318414688111, \"count\": 1, \"min\": 0.5768318414688111, \"max\": 0.5768318414688111}}}\u001b[0m\n",
      "\u001b[34m#metrics {\"StartTime\": 1687416946.010626, \"EndTime\": 1687416946.0106413, \"Dimensions\": {\"Algorithm\": \"Linear Learner\", \"Host\": \"algo-1\", \"Operation\": \"training\", \"epoch\": 2, \"model\": 4}, \"Metrics\": {\"train_binary_classification_cross_entropy_objective\": {\"sum\": 0.348827919960022, \"count\": 1, \"min\": 0.348827919960022, \"max\": 0.348827919960022}}}\u001b[0m\n",
      "\u001b[34m#metrics {\"StartTime\": 1687416946.010693, \"EndTime\": 1687416946.0107088, \"Dimensions\": {\"Algorithm\": \"Linear Learner\", \"Host\": \"algo-1\", \"Operation\": \"training\", \"epoch\": 2, \"model\": 5}, \"Metrics\": {\"train_binary_classification_cross_entropy_objective\": {\"sum\": 0.3520969343185425, \"count\": 1, \"min\": 0.3520969343185425, \"max\": 0.3520969343185425}}}\u001b[0m\n",
      "\u001b[34m#metrics {\"StartTime\": 1687416946.010759, \"EndTime\": 1687416946.0107749, \"Dimensions\": {\"Algorithm\": \"Linear Learner\", \"Host\": \"algo-1\", \"Operation\": \"training\", \"epoch\": 2, \"model\": 6}, \"Metrics\": {\"train_binary_classification_cross_entropy_objective\": {\"sum\": 0.3511913299560547, \"count\": 1, \"min\": 0.3511913299560547, \"max\": 0.3511913299560547}}}\u001b[0m\n",
      "\u001b[34m#metrics {\"StartTime\": 1687416946.010834, \"EndTime\": 1687416946.010851, \"Dimensions\": {\"Algorithm\": \"Linear Learner\", \"Host\": \"algo-1\", \"Operation\": \"training\", \"epoch\": 2, \"model\": 7}, \"Metrics\": {\"train_binary_classification_cross_entropy_objective\": {\"sum\": 0.3524097657203674, \"count\": 1, \"min\": 0.3524097657203674, \"max\": 0.3524097657203674}}}\u001b[0m\n",
      "\u001b[34m#metrics {\"StartTime\": 1687416946.010903, \"EndTime\": 1687416946.0109181, \"Dimensions\": {\"Algorithm\": \"Linear Learner\", \"Host\": \"algo-1\", \"Operation\": \"training\", \"epoch\": 2, \"model\": 8}, \"Metrics\": {\"train_binary_classification_cross_entropy_objective\": {\"sum\": 0.5920435857772827, \"count\": 1, \"min\": 0.5920435857772827, \"max\": 0.5920435857772827}}}\u001b[0m\n",
      "\u001b[34m#metrics {\"StartTime\": 1687416946.0109694, \"EndTime\": 1687416946.010985, \"Dimensions\": {\"Algorithm\": \"Linear Learner\", \"Host\": \"algo-1\", \"Operation\": \"training\", \"epoch\": 2, \"model\": 9}, \"Metrics\": {\"train_binary_classification_cross_entropy_objective\": {\"sum\": 0.5729820442199707, \"count\": 1, \"min\": 0.5729820442199707, \"max\": 0.5729820442199707}}}\u001b[0m\n",
      "\u001b[34m#metrics {\"StartTime\": 1687416946.0110512, \"EndTime\": 1687416946.0110767, \"Dimensions\": {\"Algorithm\": \"Linear Learner\", \"Host\": \"algo-1\", \"Operation\": \"training\", \"epoch\": 2, \"model\": 10}, \"Metrics\": {\"train_binary_classification_cross_entropy_objective\": {\"sum\": 0.5706948804855346, \"count\": 1, \"min\": 0.5706948804855346, \"max\": 0.5706948804855346}}}\u001b[0m\n",
      "\u001b[34m#metrics {\"StartTime\": 1687416946.0111291, \"EndTime\": 1687416946.0111454, \"Dimensions\": {\"Algorithm\": \"Linear Learner\", \"Host\": \"algo-1\", \"Operation\": \"training\", \"epoch\": 2, \"model\": 11}, \"Metrics\": {\"train_binary_classification_cross_entropy_objective\": {\"sum\": 0.5890502595901489, \"count\": 1, \"min\": 0.5890502595901489, \"max\": 0.5890502595901489}}}\u001b[0m\n",
      "\u001b[34m#metrics {\"StartTime\": 1687416946.0111969, \"EndTime\": 1687416946.0112126, \"Dimensions\": {\"Algorithm\": \"Linear Learner\", \"Host\": \"algo-1\", \"Operation\": \"training\", \"epoch\": 2, \"model\": 12}, \"Metrics\": {\"train_binary_classification_cross_entropy_objective\": {\"sum\": 0.3440651226043701, \"count\": 1, \"min\": 0.3440651226043701, \"max\": 0.3440651226043701}}}\u001b[0m\n",
      "\u001b[34m#metrics {\"StartTime\": 1687416946.0112767, \"EndTime\": 1687416946.0113003, \"Dimensions\": {\"Algorithm\": \"Linear Learner\", \"Host\": \"algo-1\", \"Operation\": \"training\", \"epoch\": 2, \"model\": 13}, \"Metrics\": {\"train_binary_classification_cross_entropy_objective\": {\"sum\": 0.34239218473434446, \"count\": 1, \"min\": 0.34239218473434446, \"max\": 0.34239218473434446}}}\u001b[0m\n",
      "\u001b[34m#metrics {\"StartTime\": 1687416946.0113528, \"EndTime\": 1687416946.0113688, \"Dimensions\": {\"Algorithm\": \"Linear Learner\", \"Host\": \"algo-1\", \"Operation\": \"training\", \"epoch\": 2, \"model\": 14}, \"Metrics\": {\"train_binary_classification_cross_entropy_objective\": {\"sum\": 0.3439250683784485, \"count\": 1, \"min\": 0.3439250683784485, \"max\": 0.3439250683784485}}}\u001b[0m\n",
      "\u001b[34m#metrics {\"StartTime\": 1687416946.0114193, \"EndTime\": 1687416946.0114357, \"Dimensions\": {\"Algorithm\": \"Linear Learner\", \"Host\": \"algo-1\", \"Operation\": \"training\", \"epoch\": 2, \"model\": 15}, \"Metrics\": {\"train_binary_classification_cross_entropy_objective\": {\"sum\": 0.34482598543167114, \"count\": 1, \"min\": 0.34482598543167114, \"max\": 0.34482598543167114}}}\u001b[0m\n",
      "\u001b[34m#metrics {\"StartTime\": 1687416946.0114915, \"EndTime\": 1687416946.0115082, \"Dimensions\": {\"Algorithm\": \"Linear Learner\", \"Host\": \"algo-1\", \"Operation\": \"training\", \"epoch\": 2, \"model\": 16}, \"Metrics\": {\"train_binary_classification_cross_entropy_objective\": {\"sum\": 0.5730025434494018, \"count\": 1, \"min\": 0.5730025434494018, \"max\": 0.5730025434494018}}}\u001b[0m\n",
      "\u001b[34m#metrics {\"StartTime\": 1687416946.0115588, \"EndTime\": 1687416946.0115738, \"Dimensions\": {\"Algorithm\": \"Linear Learner\", \"Host\": \"algo-1\", \"Operation\": \"training\", \"epoch\": 2, \"model\": 17}, \"Metrics\": {\"train_binary_classification_cross_entropy_objective\": {\"sum\": 0.5798233795166016, \"count\": 1, \"min\": 0.5798233795166016, \"max\": 0.5798233795166016}}}\u001b[0m\n",
      "\u001b[34m#metrics {\"StartTime\": 1687416946.0116208, \"EndTime\": 1687416946.0116355, \"Dimensions\": {\"Algorithm\": \"Linear Learner\", \"Host\": \"algo-1\", \"Operation\": \"training\", \"epoch\": 2, \"model\": 18}, \"Metrics\": {\"train_binary_classification_cross_entropy_objective\": {\"sum\": 0.5485167837142945, \"count\": 1, \"min\": 0.5485167837142945, \"max\": 0.5485167837142945}}}\u001b[0m\n",
      "\u001b[34m#metrics {\"StartTime\": 1687416946.011691, \"EndTime\": 1687416946.011707, \"Dimensions\": {\"Algorithm\": \"Linear Learner\", \"Host\": \"algo-1\", \"Operation\": \"training\", \"epoch\": 2, \"model\": 19}, \"Metrics\": {\"train_binary_classification_cross_entropy_objective\": {\"sum\": 0.5624137878417969, \"count\": 1, \"min\": 0.5624137878417969, \"max\": 0.5624137878417969}}}\u001b[0m\n",
      "\u001b[34m#metrics {\"StartTime\": 1687416946.0117567, \"EndTime\": 1687416946.0117714, \"Dimensions\": {\"Algorithm\": \"Linear Learner\", \"Host\": \"algo-1\", \"Operation\": \"training\", \"epoch\": 2, \"model\": 20}, \"Metrics\": {\"train_binary_classification_cross_entropy_objective\": {\"sum\": 0.530453109741211, \"count\": 1, \"min\": 0.530453109741211, \"max\": 0.530453109741211}}}\u001b[0m\n",
      "\u001b[34m#metrics {\"StartTime\": 1687416946.0118349, \"EndTime\": 1687416946.011851, \"Dimensions\": {\"Algorithm\": \"Linear Learner\", \"Host\": \"algo-1\", \"Operation\": \"training\", \"epoch\": 2, \"model\": 21}, \"Metrics\": {\"train_binary_classification_cross_entropy_objective\": {\"sum\": 0.5212701845169068, \"count\": 1, \"min\": 0.5212701845169068, \"max\": 0.5212701845169068}}}\u001b[0m\n",
      "\u001b[34m#metrics {\"StartTime\": 1687416946.0119019, \"EndTime\": 1687416946.0119169, \"Dimensions\": {\"Algorithm\": \"Linear Learner\", \"Host\": \"algo-1\", \"Operation\": \"training\", \"epoch\": 2, \"model\": 22}, \"Metrics\": {\"train_binary_classification_cross_entropy_objective\": {\"sum\": 0.5261075878143311, \"count\": 1, \"min\": 0.5261075878143311, \"max\": 0.5261075878143311}}}\u001b[0m\n",
      "\u001b[34m#metrics {\"StartTime\": 1687416946.0119689, \"EndTime\": 1687416946.0119846, \"Dimensions\": {\"Algorithm\": \"Linear Learner\", \"Host\": \"algo-1\", \"Operation\": \"training\", \"epoch\": 2, \"model\": 23}, \"Metrics\": {\"train_binary_classification_cross_entropy_objective\": {\"sum\": 0.5145998859405517, \"count\": 1, \"min\": 0.5145998859405517, \"max\": 0.5145998859405517}}}\u001b[0m\n",
      "\u001b[34m#metrics {\"StartTime\": 1687416946.012033, \"EndTime\": 1687416946.0120468, \"Dimensions\": {\"Algorithm\": \"Linear Learner\", \"Host\": \"algo-1\", \"Operation\": \"training\", \"epoch\": 2, \"model\": 24}, \"Metrics\": {\"train_binary_classification_cross_entropy_objective\": {\"sum\": 0.689231653213501, \"count\": 1, \"min\": 0.689231653213501, \"max\": 0.689231653213501}}}\u001b[0m\n",
      "\u001b[34m#metrics {\"StartTime\": 1687416946.0120928, \"EndTime\": 1687416946.0121078, \"Dimensions\": {\"Algorithm\": \"Linear Learner\", \"Host\": \"algo-1\", \"Operation\": \"training\", \"epoch\": 2, \"model\": 25}, \"Metrics\": {\"train_binary_classification_cross_entropy_objective\": {\"sum\": 0.6920374965667725, \"count\": 1, \"min\": 0.6920374965667725, \"max\": 0.6920374965667725}}}\u001b[0m\n",
      "\u001b[34m#metrics {\"StartTime\": 1687416946.0121598, \"EndTime\": 1687416946.0121746, \"Dimensions\": {\"Algorithm\": \"Linear Learner\", \"Host\": \"algo-1\", \"Operation\": \"training\", \"epoch\": 2, \"model\": 26}, \"Metrics\": {\"train_binary_classification_cross_entropy_objective\": {\"sum\": 0.6948422241210938, \"count\": 1, \"min\": 0.6948422241210938, \"max\": 0.6948422241210938}}}\u001b[0m\n",
      "\u001b[34m#metrics {\"StartTime\": 1687416946.0122223, \"EndTime\": 1687416946.0122359, \"Dimensions\": {\"Algorithm\": \"Linear Learner\", \"Host\": \"algo-1\", \"Operation\": \"training\", \"epoch\": 2, \"model\": 27}, \"Metrics\": {\"train_binary_classification_cross_entropy_objective\": {\"sum\": 0.6872921085357666, \"count\": 1, \"min\": 0.6872921085357666, \"max\": 0.6872921085357666}}}\u001b[0m\n",
      "\u001b[34m#metrics {\"StartTime\": 1687416946.0122871, \"EndTime\": 1687416946.0123026, \"Dimensions\": {\"Algorithm\": \"Linear Learner\", \"Host\": \"algo-1\", \"Operation\": \"training\", \"epoch\": 2, \"model\": 28}, \"Metrics\": {\"train_binary_classification_cross_entropy_objective\": {\"sum\": 0.6909865856170654, \"count\": 1, \"min\": 0.6909865856170654, \"max\": 0.6909865856170654}}}\u001b[0m\n",
      "\u001b[34m#metrics {\"StartTime\": 1687416946.0123515, \"EndTime\": 1687416946.012366, \"Dimensions\": {\"Algorithm\": \"Linear Learner\", \"Host\": \"algo-1\", \"Operation\": \"training\", \"epoch\": 2, \"model\": 29}, \"Metrics\": {\"train_binary_classification_cross_entropy_objective\": {\"sum\": 0.7020073127746582, \"count\": 1, \"min\": 0.7020073127746582, \"max\": 0.7020073127746582}}}\u001b[0m\n",
      "\u001b[34m#metrics {\"StartTime\": 1687416946.0124197, \"EndTime\": 1687416946.012435, \"Dimensions\": {\"Algorithm\": \"Linear Learner\", \"Host\": \"algo-1\", \"Operation\": \"training\", \"epoch\": 2, \"model\": 30}, \"Metrics\": {\"train_binary_classification_cross_entropy_objective\": {\"sum\": 0.7006087207794189, \"count\": 1, \"min\": 0.7006087207794189, \"max\": 0.7006087207794189}}}\u001b[0m\n",
      "\u001b[34m#metrics {\"StartTime\": 1687416946.012483, \"EndTime\": 1687416946.012497, \"Dimensions\": {\"Algorithm\": \"Linear Learner\", \"Host\": \"algo-1\", \"Operation\": \"training\", \"epoch\": 2, \"model\": 31}, \"Metrics\": {\"train_binary_classification_cross_entropy_objective\": {\"sum\": 0.7002494144439697, \"count\": 1, \"min\": 0.7002494144439697, \"max\": 0.7002494144439697}}}\u001b[0m\n",
      "\u001b[34m[06/22/2023 06:55:46 INFO 139895614142272] #quality_metric: host=algo-1, epoch=2, train binary_classification_cross_entropy_objective <loss>=0.541429500579834\u001b[0m\n",
      "\u001b[34m[06/22/2023 06:55:46 INFO 139895614142272] #early_stopping_criteria_metric: host=algo-1, epoch=2, criteria=binary_classification_cross_entropy_objective, value=0.34239218473434446\u001b[0m\n",
      "\u001b[34m[06/22/2023 06:55:46 INFO 139895614142272] Epoch 2: Loss improved. Updating best model\u001b[0m\n",
      "\u001b[34m[06/22/2023 06:55:46 INFO 139895614142272] Saving model for epoch: 2\u001b[0m\n",
      "\u001b[34m[06/22/2023 06:55:46 INFO 139895614142272] Saved checkpoint to \"/tmp/tmpfddtu22n/mx-mod-0000.params\"\u001b[0m\n",
      "\u001b[34m[06/22/2023 06:55:46 INFO 139895614142272] #progress_metric: host=algo-1, completed 20.0 % of epochs\u001b[0m\n",
      "\u001b[34m#metrics {\"StartTime\": 1687416945.6845474, \"EndTime\": 1687416946.0335724, \"Dimensions\": {\"Algorithm\": \"Linear Learner\", \"Host\": \"algo-1\", \"Operation\": \"training\", \"epoch\": 2, \"Meta\": \"training_data_iter\"}, \"Metrics\": {\"Total Records Seen\": {\"sum\": 3380.0, \"count\": 1, \"min\": 3380, \"max\": 3380}, \"Total Batches Seen\": {\"sum\": 37.0, \"count\": 1, \"min\": 37, \"max\": 37}, \"Max Records Seen Between Resets\": {\"sum\": 820.0, \"count\": 1, \"min\": 820, \"max\": 820}, \"Max Batches Seen Between Resets\": {\"sum\": 9.0, \"count\": 1, \"min\": 9, \"max\": 9}, \"Reset Count\": {\"sum\": 5.0, \"count\": 1, \"min\": 5, \"max\": 5}, \"Number of Records Since Last Reset\": {\"sum\": 820.0, \"count\": 1, \"min\": 820, \"max\": 820}, \"Number of Batches Since Last Reset\": {\"sum\": 9.0, \"count\": 1, \"min\": 9, \"max\": 9}}}\u001b[0m\n",
      "\u001b[34m[06/22/2023 06:55:46 INFO 139895614142272] #throughput_metric: host=algo-1, train throughput=2348.1923790393885 records/second\u001b[0m\n",
      "\u001b[34m[2023-06-22 06:55:46.387] [tensorio] [info] epoch_stats={\"data_pipeline\": \"/opt/ml/input/data/train\", \"epoch\": 10, \"duration\": 353, \"num_examples\": 9, \"num_bytes\": 78720}\u001b[0m\n",
      "\u001b[34m#metrics {\"StartTime\": 1687416946.3878736, \"EndTime\": 1687416946.3879917, \"Dimensions\": {\"Algorithm\": \"Linear Learner\", \"Host\": \"algo-1\", \"Operation\": \"training\", \"epoch\": 3, \"model\": 0}, \"Metrics\": {\"train_binary_classification_cross_entropy_objective\": {\"sum\": 0.5045841884613037, \"count\": 1, \"min\": 0.5045841884613037, \"max\": 0.5045841884613037}}}\u001b[0m\n",
      "\u001b[34m#metrics {\"StartTime\": 1687416946.3881216, \"EndTime\": 1687416946.3881438, \"Dimensions\": {\"Algorithm\": \"Linear Learner\", \"Host\": \"algo-1\", \"Operation\": \"training\", \"epoch\": 3, \"model\": 1}, \"Metrics\": {\"train_binary_classification_cross_entropy_objective\": {\"sum\": 0.5208608818054199, \"count\": 1, \"min\": 0.5208608818054199, \"max\": 0.5208608818054199}}}\u001b[0m\n",
      "\u001b[34m#metrics {\"StartTime\": 1687416946.3882082, \"EndTime\": 1687416946.3882246, \"Dimensions\": {\"Algorithm\": \"Linear Learner\", \"Host\": \"algo-1\", \"Operation\": \"training\", \"epoch\": 3, \"model\": 2}, \"Metrics\": {\"train_binary_classification_cross_entropy_objective\": {\"sum\": 0.5282317066192627, \"count\": 1, \"min\": 0.5282317066192627, \"max\": 0.5282317066192627}}}\u001b[0m\n",
      "\u001b[34m#metrics {\"StartTime\": 1687416946.3882794, \"EndTime\": 1687416946.388298, \"Dimensions\": {\"Algorithm\": \"Linear Learner\", \"Host\": \"algo-1\", \"Operation\": \"training\", \"epoch\": 3, \"model\": 3}, \"Metrics\": {\"train_binary_classification_cross_entropy_objective\": {\"sum\": 0.5353105401992798, \"count\": 1, \"min\": 0.5353105401992798, \"max\": 0.5353105401992798}}}\u001b[0m\n",
      "\u001b[34m#metrics {\"StartTime\": 1687416946.3883548, \"EndTime\": 1687416946.3883703, \"Dimensions\": {\"Algorithm\": \"Linear Learner\", \"Host\": \"algo-1\", \"Operation\": \"training\", \"epoch\": 3, \"model\": 4}, \"Metrics\": {\"train_binary_classification_cross_entropy_objective\": {\"sum\": 0.34163044691085814, \"count\": 1, \"min\": 0.34163044691085814, \"max\": 0.34163044691085814}}}\u001b[0m\n",
      "\u001b[34m#metrics {\"StartTime\": 1687416946.3884215, \"EndTime\": 1687416946.3884373, \"Dimensions\": {\"Algorithm\": \"Linear Learner\", \"Host\": \"algo-1\", \"Operation\": \"training\", \"epoch\": 3, \"model\": 5}, \"Metrics\": {\"train_binary_classification_cross_entropy_objective\": {\"sum\": 0.3433170604705811, \"count\": 1, \"min\": 0.3433170604705811, \"max\": 0.3433170604705811}}}\u001b[0m\n",
      "\u001b[34m#metrics {\"StartTime\": 1687416946.3884943, \"EndTime\": 1687416946.3885102, \"Dimensions\": {\"Algorithm\": \"Linear Learner\", \"Host\": \"algo-1\", \"Operation\": \"training\", \"epoch\": 3, \"model\": 6}, \"Metrics\": {\"train_binary_classification_cross_entropy_objective\": {\"sum\": 0.34383243799209595, \"count\": 1, \"min\": 0.34383243799209595, \"max\": 0.34383243799209595}}}\u001b[0m\n",
      "\u001b[34m#metrics {\"StartTime\": 1687416946.3885624, \"EndTime\": 1687416946.3885775, \"Dimensions\": {\"Algorithm\": \"Linear Learner\", \"Host\": \"algo-1\", \"Operation\": \"training\", \"epoch\": 3, \"model\": 7}, \"Metrics\": {\"train_binary_classification_cross_entropy_objective\": {\"sum\": 0.3431244945526123, \"count\": 1, \"min\": 0.3431244945526123, \"max\": 0.3431244945526123}}}\u001b[0m\n",
      "\u001b[34m#metrics {\"StartTime\": 1687416946.3886359, \"EndTime\": 1687416946.388652, \"Dimensions\": {\"Algorithm\": \"Linear Learner\", \"Host\": \"algo-1\", \"Operation\": \"training\", \"epoch\": 3, \"model\": 8}, \"Metrics\": {\"train_binary_classification_cross_entropy_objective\": {\"sum\": 0.5481949377059937, \"count\": 1, \"min\": 0.5481949377059937, \"max\": 0.5481949377059937}}}\u001b[0m\n",
      "\u001b[34m#metrics {\"StartTime\": 1687416946.3887045, \"EndTime\": 1687416946.3887203, \"Dimensions\": {\"Algorithm\": \"Linear Learner\", \"Host\": \"algo-1\", \"Operation\": \"training\", \"epoch\": 3, \"model\": 9}, \"Metrics\": {\"train_binary_classification_cross_entropy_objective\": {\"sum\": 0.5308838748931884, \"count\": 1, \"min\": 0.5308838748931884, \"max\": 0.5308838748931884}}}\u001b[0m\n",
      "\u001b[34m#metrics {\"StartTime\": 1687416946.388773, \"EndTime\": 1687416946.388787, \"Dimensions\": {\"Algorithm\": \"Linear Learner\", \"Host\": \"algo-1\", \"Operation\": \"training\", \"epoch\": 3, \"model\": 10}, \"Metrics\": {\"train_binary_classification_cross_entropy_objective\": {\"sum\": 0.5306498861312866, \"count\": 1, \"min\": 0.5306498861312866, \"max\": 0.5306498861312866}}}\u001b[0m\n",
      "\u001b[34m#metrics {\"StartTime\": 1687416946.3888347, \"EndTime\": 1687416946.3888488, \"Dimensions\": {\"Algorithm\": \"Linear Learner\", \"Host\": \"algo-1\", \"Operation\": \"training\", \"epoch\": 3, \"model\": 11}, \"Metrics\": {\"train_binary_classification_cross_entropy_objective\": {\"sum\": 0.5448068761825562, \"count\": 1, \"min\": 0.5448068761825562, \"max\": 0.5448068761825562}}}\u001b[0m\n",
      "\u001b[34m#metrics {\"StartTime\": 1687416946.3889027, \"EndTime\": 1687416946.3889182, \"Dimensions\": {\"Algorithm\": \"Linear Learner\", \"Host\": \"algo-1\", \"Operation\": \"training\", \"epoch\": 3, \"model\": 12}, \"Metrics\": {\"train_binary_classification_cross_entropy_objective\": {\"sum\": 0.33518559217453003, \"count\": 1, \"min\": 0.33518559217453003, \"max\": 0.33518559217453003}}}\u001b[0m\n",
      "\u001b[34m#metrics {\"StartTime\": 1687416946.3889728, \"EndTime\": 1687416946.3889847, \"Dimensions\": {\"Algorithm\": \"Linear Learner\", \"Host\": \"algo-1\", \"Operation\": \"training\", \"epoch\": 3, \"model\": 13}, \"Metrics\": {\"train_binary_classification_cross_entropy_objective\": {\"sum\": 0.33452953815460207, \"count\": 1, \"min\": 0.33452953815460207, \"max\": 0.33452953815460207}}}\u001b[0m\n",
      "\u001b[34m#metrics {\"StartTime\": 1687416946.389029, \"EndTime\": 1687416946.3890424, \"Dimensions\": {\"Algorithm\": \"Linear Learner\", \"Host\": \"algo-1\", \"Operation\": \"training\", \"epoch\": 3, \"model\": 14}, \"Metrics\": {\"train_binary_classification_cross_entropy_objective\": {\"sum\": 0.3353049945831299, \"count\": 1, \"min\": 0.3353049945831299, \"max\": 0.3353049945831299}}}\u001b[0m\n",
      "\u001b[34m#metrics {\"StartTime\": 1687416946.3890872, \"EndTime\": 1687416946.389102, \"Dimensions\": {\"Algorithm\": \"Linear Learner\", \"Host\": \"algo-1\", \"Operation\": \"training\", \"epoch\": 3, \"model\": 15}, \"Metrics\": {\"train_binary_classification_cross_entropy_objective\": {\"sum\": 0.3348049998283386, \"count\": 1, \"min\": 0.3348049998283386, \"max\": 0.3348049998283386}}}\u001b[0m\n",
      "\u001b[34m#metrics {\"StartTime\": 1687416946.38915, \"EndTime\": 1687416946.3891647, \"Dimensions\": {\"Algorithm\": \"Linear Learner\", \"Host\": \"algo-1\", \"Operation\": \"training\", \"epoch\": 3, \"model\": 16}, \"Metrics\": {\"train_binary_classification_cross_entropy_objective\": {\"sum\": 0.5460339784622192, \"count\": 1, \"min\": 0.5460339784622192, \"max\": 0.5460339784622192}}}\u001b[0m\n",
      "\u001b[34m#metrics {\"StartTime\": 1687416946.3892126, \"EndTime\": 1687416946.389228, \"Dimensions\": {\"Algorithm\": \"Linear Learner\", \"Host\": \"algo-1\", \"Operation\": \"training\", \"epoch\": 3, \"model\": 17}, \"Metrics\": {\"train_binary_classification_cross_entropy_objective\": {\"sum\": 0.5485795497894287, \"count\": 1, \"min\": 0.5485795497894287, \"max\": 0.5485795497894287}}}\u001b[0m\n",
      "\u001b[34m#metrics {\"StartTime\": 1687416946.389272, \"EndTime\": 1687416946.3892922, \"Dimensions\": {\"Algorithm\": \"Linear Learner\", \"Host\": \"algo-1\", \"Operation\": \"training\", \"epoch\": 3, \"model\": 18}, \"Metrics\": {\"train_binary_classification_cross_entropy_objective\": {\"sum\": 0.530136432647705, \"count\": 1, \"min\": 0.530136432647705, \"max\": 0.530136432647705}}}\u001b[0m\n",
      "\u001b[34m#metrics {\"StartTime\": 1687416946.3893423, \"EndTime\": 1687416946.389382, \"Dimensions\": {\"Algorithm\": \"Linear Learner\", \"Host\": \"algo-1\", \"Operation\": \"training\", \"epoch\": 3, \"model\": 19}, \"Metrics\": {\"train_binary_classification_cross_entropy_objective\": {\"sum\": 0.5402527570724487, \"count\": 1, \"min\": 0.5402527570724487, \"max\": 0.5402527570724487}}}\u001b[0m\n",
      "\u001b[34m#metrics {\"StartTime\": 1687416946.389448, \"EndTime\": 1687416946.3894646, \"Dimensions\": {\"Algorithm\": \"Linear Learner\", \"Host\": \"algo-1\", \"Operation\": \"training\", \"epoch\": 3, \"model\": 20}, \"Metrics\": {\"train_binary_classification_cross_entropy_objective\": {\"sum\": 0.531543402671814, \"count\": 1, \"min\": 0.531543402671814, \"max\": 0.531543402671814}}}\u001b[0m\n",
      "\u001b[34m#metrics {\"StartTime\": 1687416946.3895168, \"EndTime\": 1687416946.3895345, \"Dimensions\": {\"Algorithm\": \"Linear Learner\", \"Host\": \"algo-1\", \"Operation\": \"training\", \"epoch\": 3, \"model\": 21}, \"Metrics\": {\"train_binary_classification_cross_entropy_objective\": {\"sum\": 0.5393283033370971, \"count\": 1, \"min\": 0.5393283033370971, \"max\": 0.5393283033370971}}}\u001b[0m\n",
      "\u001b[34m#metrics {\"StartTime\": 1687416946.38958, \"EndTime\": 1687416946.3895934, \"Dimensions\": {\"Algorithm\": \"Linear Learner\", \"Host\": \"algo-1\", \"Operation\": \"training\", \"epoch\": 3, \"model\": 22}, \"Metrics\": {\"train_binary_classification_cross_entropy_objective\": {\"sum\": 0.5345208692550659, \"count\": 1, \"min\": 0.5345208692550659, \"max\": 0.5345208692550659}}}\u001b[0m\n",
      "\u001b[34m#metrics {\"StartTime\": 1687416946.389646, \"EndTime\": 1687416946.389662, \"Dimensions\": {\"Algorithm\": \"Linear Learner\", \"Host\": \"algo-1\", \"Operation\": \"training\", \"epoch\": 3, \"model\": 23}, \"Metrics\": {\"train_binary_classification_cross_entropy_objective\": {\"sum\": 0.5419537019729614, \"count\": 1, \"min\": 0.5419537019729614, \"max\": 0.5419537019729614}}}\u001b[0m\n",
      "\u001b[34m#metrics {\"StartTime\": 1687416946.389695, \"EndTime\": 1687416946.3897028, \"Dimensions\": {\"Algorithm\": \"Linear Learner\", \"Host\": \"algo-1\", \"Operation\": \"training\", \"epoch\": 3, \"model\": 24}, \"Metrics\": {\"train_binary_classification_cross_entropy_objective\": {\"sum\": 0.6895494365692139, \"count\": 1, \"min\": 0.6895494365692139, \"max\": 0.6895494365692139}}}\u001b[0m\n",
      "\u001b[34m#metrics {\"StartTime\": 1687416946.3897429, \"EndTime\": 1687416946.3897576, \"Dimensions\": {\"Algorithm\": \"Linear Learner\", \"Host\": \"algo-1\", \"Operation\": \"training\", \"epoch\": 3, \"model\": 25}, \"Metrics\": {\"train_binary_classification_cross_entropy_objective\": {\"sum\": 0.6892553997039795, \"count\": 1, \"min\": 0.6892553997039795, \"max\": 0.6892553997039795}}}\u001b[0m\n",
      "\u001b[34m#metrics {\"StartTime\": 1687416946.3898182, \"EndTime\": 1687416946.3898351, \"Dimensions\": {\"Algorithm\": \"Linear Learner\", \"Host\": \"algo-1\", \"Operation\": \"training\", \"epoch\": 3, \"model\": 26}, \"Metrics\": {\"train_binary_classification_cross_entropy_objective\": {\"sum\": 0.6910546112060547, \"count\": 1, \"min\": 0.6910546112060547, \"max\": 0.6910546112060547}}}\u001b[0m\n",
      "\u001b[34m#metrics {\"StartTime\": 1687416946.3898969, \"EndTime\": 1687416946.389914, \"Dimensions\": {\"Algorithm\": \"Linear Learner\", \"Host\": \"algo-1\", \"Operation\": \"training\", \"epoch\": 3, \"model\": 27}, \"Metrics\": {\"train_binary_classification_cross_entropy_objective\": {\"sum\": 0.6929411602020263, \"count\": 1, \"min\": 0.6929411602020263, \"max\": 0.6929411602020263}}}\u001b[0m\n",
      "\u001b[34m#metrics {\"StartTime\": 1687416946.389976, \"EndTime\": 1687416946.3899932, \"Dimensions\": {\"Algorithm\": \"Linear Learner\", \"Host\": \"algo-1\", \"Operation\": \"training\", \"epoch\": 3, \"model\": 28}, \"Metrics\": {\"train_binary_classification_cross_entropy_objective\": {\"sum\": 0.7010245800018311, \"count\": 1, \"min\": 0.7010245800018311, \"max\": 0.7010245800018311}}}\u001b[0m\n",
      "\u001b[34m#metrics {\"StartTime\": 1687416946.3900576, \"EndTime\": 1687416946.3900762, \"Dimensions\": {\"Algorithm\": \"Linear Learner\", \"Host\": \"algo-1\", \"Operation\": \"training\", \"epoch\": 3, \"model\": 29}, \"Metrics\": {\"train_binary_classification_cross_entropy_objective\": {\"sum\": 0.6961127376556396, \"count\": 1, \"min\": 0.6961127376556396, \"max\": 0.6961127376556396}}}\u001b[0m\n",
      "\u001b[34m#metrics {\"StartTime\": 1687416946.3901372, \"EndTime\": 1687416946.390154, \"Dimensions\": {\"Algorithm\": \"Linear Learner\", \"Host\": \"algo-1\", \"Operation\": \"training\", \"epoch\": 3, \"model\": 30}, \"Metrics\": {\"train_binary_classification_cross_entropy_objective\": {\"sum\": 0.6956820678710938, \"count\": 1, \"min\": 0.6956820678710938, \"max\": 0.6956820678710938}}}\u001b[0m\n",
      "\u001b[34m#metrics {\"StartTime\": 1687416946.3902152, \"EndTime\": 1687416946.390232, \"Dimensions\": {\"Algorithm\": \"Linear Learner\", \"Host\": \"algo-1\", \"Operation\": \"training\", \"epoch\": 3, \"model\": 31}, \"Metrics\": {\"train_binary_classification_cross_entropy_objective\": {\"sum\": 0.6929763412475586, \"count\": 1, \"min\": 0.6929763412475586, \"max\": 0.6929763412475586}}}\u001b[0m\n",
      "\u001b[34m[06/22/2023 06:55:46 INFO 139895614142272] #quality_metric: host=algo-1, epoch=3, train binary_classification_cross_entropy_objective <loss>=0.5045841884613037\u001b[0m\n",
      "\u001b[34m[06/22/2023 06:55:46 INFO 139895614142272] #early_stopping_criteria_metric: host=algo-1, epoch=3, criteria=binary_classification_cross_entropy_objective, value=0.33452953815460207\u001b[0m\n",
      "\u001b[34m[06/22/2023 06:55:46 INFO 139895614142272] Epoch 3: Loss improved. Updating best model\u001b[0m\n",
      "\u001b[34m[06/22/2023 06:55:46 INFO 139895614142272] Saving model for epoch: 3\u001b[0m\n",
      "\u001b[34m[06/22/2023 06:55:46 INFO 139895614142272] Saved checkpoint to \"/tmp/tmp5k664roa/mx-mod-0000.params\"\u001b[0m\n",
      "\u001b[34m[06/22/2023 06:55:46 INFO 139895614142272] #progress_metric: host=algo-1, completed 26.666666666666668 % of epochs\u001b[0m\n",
      "\u001b[34m#metrics {\"StartTime\": 1687416946.0339472, \"EndTime\": 1687416946.4055352, \"Dimensions\": {\"Algorithm\": \"Linear Learner\", \"Host\": \"algo-1\", \"Operation\": \"training\", \"epoch\": 3, \"Meta\": \"training_data_iter\"}, \"Metrics\": {\"Total Records Seen\": {\"sum\": 4200.0, \"count\": 1, \"min\": 4200, \"max\": 4200}, \"Total Batches Seen\": {\"sum\": 46.0, \"count\": 1, \"min\": 46, \"max\": 46}, \"Max Records Seen Between Resets\": {\"sum\": 820.0, \"count\": 1, \"min\": 820, \"max\": 820}, \"Max Batches Seen Between Resets\": {\"sum\": 9.0, \"count\": 1, \"min\": 9, \"max\": 9}, \"Reset Count\": {\"sum\": 6.0, \"count\": 1, \"min\": 6, \"max\": 6}, \"Number of Records Since Last Reset\": {\"sum\": 820.0, \"count\": 1, \"min\": 820, \"max\": 820}, \"Number of Batches Since Last Reset\": {\"sum\": 9.0, \"count\": 1, \"min\": 9, \"max\": 9}}}\u001b[0m\n",
      "\u001b[34m[06/22/2023 06:55:46 INFO 139895614142272] #throughput_metric: host=algo-1, train throughput=2205.649796354453 records/second\u001b[0m\n",
      "\u001b[34m[2023-06-22 06:55:46.772] [tensorio] [info] epoch_stats={\"data_pipeline\": \"/opt/ml/input/data/train\", \"epoch\": 12, \"duration\": 365, \"num_examples\": 9, \"num_bytes\": 78720}\u001b[0m\n",
      "\u001b[34m#metrics {\"StartTime\": 1687416946.7722056, \"EndTime\": 1687416946.7723334, \"Dimensions\": {\"Algorithm\": \"Linear Learner\", \"Host\": \"algo-1\", \"Operation\": \"training\", \"epoch\": 4, \"model\": 0}, \"Metrics\": {\"train_binary_classification_cross_entropy_objective\": {\"sum\": 0.4762362289428711, \"count\": 1, \"min\": 0.4762362289428711, \"max\": 0.4762362289428711}}}\u001b[0m\n",
      "\u001b[34m#metrics {\"StartTime\": 1687416946.7725368, \"EndTime\": 1687416946.7725654, \"Dimensions\": {\"Algorithm\": \"Linear Learner\", \"Host\": \"algo-1\", \"Operation\": \"training\", \"epoch\": 4, \"model\": 1}, \"Metrics\": {\"train_binary_classification_cross_entropy_objective\": {\"sum\": 0.4898978090286255, \"count\": 1, \"min\": 0.4898978090286255, \"max\": 0.4898978090286255}}}\u001b[0m\n",
      "\u001b[34m#metrics {\"StartTime\": 1687416946.7727015, \"EndTime\": 1687416946.772726, \"Dimensions\": {\"Algorithm\": \"Linear Learner\", \"Host\": \"algo-1\", \"Operation\": \"training\", \"epoch\": 4, \"model\": 2}, \"Metrics\": {\"train_binary_classification_cross_entropy_objective\": {\"sum\": 0.49559244632720945, \"count\": 1, \"min\": 0.49559244632720945, \"max\": 0.49559244632720945}}}\u001b[0m\n",
      "\u001b[34m#metrics {\"StartTime\": 1687416946.772858, \"EndTime\": 1687416946.7728825, \"Dimensions\": {\"Algorithm\": \"Linear Learner\", \"Host\": \"algo-1\", \"Operation\": \"training\", \"epoch\": 4, \"model\": 3}, \"Metrics\": {\"train_binary_classification_cross_entropy_objective\": {\"sum\": 0.502737774848938, \"count\": 1, \"min\": 0.502737774848938, \"max\": 0.502737774848938}}}\u001b[0m\n",
      "\u001b[34m#metrics {\"StartTime\": 1687416946.7730129, \"EndTime\": 1687416946.773036, \"Dimensions\": {\"Algorithm\": \"Linear Learner\", \"Host\": \"algo-1\", \"Operation\": \"training\", \"epoch\": 4, \"model\": 4}, \"Metrics\": {\"train_binary_classification_cross_entropy_objective\": {\"sum\": 0.33674044370651246, \"count\": 1, \"min\": 0.33674044370651246, \"max\": 0.33674044370651246}}}\u001b[0m\n",
      "\u001b[34m#metrics {\"StartTime\": 1687416946.773235, \"EndTime\": 1687416946.773266, \"Dimensions\": {\"Algorithm\": \"Linear Learner\", \"Host\": \"algo-1\", \"Operation\": \"training\", \"epoch\": 4, \"model\": 5}, \"Metrics\": {\"train_binary_classification_cross_entropy_objective\": {\"sum\": 0.33738357543945313, \"count\": 1, \"min\": 0.33738357543945313, \"max\": 0.33738357543945313}}}\u001b[0m\n",
      "\u001b[34m#metrics {\"StartTime\": 1687416946.7734306, \"EndTime\": 1687416946.7734535, \"Dimensions\": {\"Algorithm\": \"Linear Learner\", \"Host\": \"algo-1\", \"Operation\": \"training\", \"epoch\": 4, \"model\": 6}, \"Metrics\": {\"train_binary_classification_cross_entropy_objective\": {\"sum\": 0.3383290195465088, \"count\": 1, \"min\": 0.3383290195465088, \"max\": 0.3383290195465088}}}\u001b[0m\n",
      "\u001b[34m#metrics {\"StartTime\": 1687416946.773564, \"EndTime\": 1687416946.7735834, \"Dimensions\": {\"Algorithm\": \"Linear Learner\", \"Host\": \"algo-1\", \"Operation\": \"training\", \"epoch\": 4, \"model\": 7}, \"Metrics\": {\"train_binary_classification_cross_entropy_objective\": {\"sum\": 0.33766008138656617, \"count\": 1, \"min\": 0.33766008138656617, \"max\": 0.33766008138656617}}}\u001b[0m\n",
      "\u001b[34m#metrics {\"StartTime\": 1687416946.7736912, \"EndTime\": 1687416946.7737098, \"Dimensions\": {\"Algorithm\": \"Linear Learner\", \"Host\": \"algo-1\", \"Operation\": \"training\", \"epoch\": 4, \"model\": 8}, \"Metrics\": {\"train_binary_classification_cross_entropy_objective\": {\"sum\": 0.5137831163406372, \"count\": 1, \"min\": 0.5137831163406372, \"max\": 0.5137831163406372}}}\u001b[0m\n",
      "\u001b[34m#metrics {\"StartTime\": 1687416946.7738173, \"EndTime\": 1687416946.7738354, \"Dimensions\": {\"Algorithm\": \"Linear Learner\", \"Host\": \"algo-1\", \"Operation\": \"training\", \"epoch\": 4, \"model\": 9}, \"Metrics\": {\"train_binary_classification_cross_entropy_objective\": {\"sum\": 0.49773444652557375, \"count\": 1, \"min\": 0.49773444652557375, \"max\": 0.49773444652557375}}}\u001b[0m\n",
      "\u001b[34m#metrics {\"StartTime\": 1687416946.7739406, \"EndTime\": 1687416946.773959, \"Dimensions\": {\"Algorithm\": \"Linear Learner\", \"Host\": \"algo-1\", \"Operation\": \"training\", \"epoch\": 4, \"model\": 10}, \"Metrics\": {\"train_binary_classification_cross_entropy_objective\": {\"sum\": 0.49937088012695313, \"count\": 1, \"min\": 0.49937088012695313, \"max\": 0.49937088012695313}}}\u001b[0m\n",
      "\u001b[34m#metrics {\"StartTime\": 1687416946.7740617, \"EndTime\": 1687416946.7740796, \"Dimensions\": {\"Algorithm\": \"Linear Learner\", \"Host\": \"algo-1\", \"Operation\": \"training\", \"epoch\": 4, \"model\": 11}, \"Metrics\": {\"train_binary_classification_cross_entropy_objective\": {\"sum\": 0.5099927568435669, \"count\": 1, \"min\": 0.5099927568435669, \"max\": 0.5099927568435669}}}\u001b[0m\n",
      "\u001b[34m#metrics {\"StartTime\": 1687416946.774181, \"EndTime\": 1687416946.7741983, \"Dimensions\": {\"Algorithm\": \"Linear Learner\", \"Host\": \"algo-1\", \"Operation\": \"training\", \"epoch\": 4, \"model\": 12}, \"Metrics\": {\"train_binary_classification_cross_entropy_objective\": {\"sum\": 0.33236525774002074, \"count\": 1, \"min\": 0.33236525774002074, \"max\": 0.33236525774002074}}}\u001b[0m\n",
      "\u001b[34m#metrics {\"StartTime\": 1687416946.7743194, \"EndTime\": 1687416946.7743406, \"Dimensions\": {\"Algorithm\": \"Linear Learner\", \"Host\": \"algo-1\", \"Operation\": \"training\", \"epoch\": 4, \"model\": 13}, \"Metrics\": {\"train_binary_classification_cross_entropy_objective\": {\"sum\": 0.3333148217201233, \"count\": 1, \"min\": 0.3333148217201233, \"max\": 0.3333148217201233}}}\u001b[0m\n",
      "\u001b[34m#metrics {\"StartTime\": 1687416946.774465, \"EndTime\": 1687416946.7744868, \"Dimensions\": {\"Algorithm\": \"Linear Learner\", \"Host\": \"algo-1\", \"Operation\": \"training\", \"epoch\": 4, \"model\": 14}, \"Metrics\": {\"train_binary_classification_cross_entropy_objective\": {\"sum\": 0.3325290870666504, \"count\": 1, \"min\": 0.3325290870666504, \"max\": 0.3325290870666504}}}\u001b[0m\n",
      "\u001b[34m#metrics {\"StartTime\": 1687416946.7745888, \"EndTime\": 1687416946.7746081, \"Dimensions\": {\"Algorithm\": \"Linear Learner\", \"Host\": \"algo-1\", \"Operation\": \"training\", \"epoch\": 4, \"model\": 15}, \"Metrics\": {\"train_binary_classification_cross_entropy_objective\": {\"sum\": 0.3326801085472107, \"count\": 1, \"min\": 0.3326801085472107, \"max\": 0.3326801085472107}}}\u001b[0m\n",
      "\u001b[34m#metrics {\"StartTime\": 1687416946.7747152, \"EndTime\": 1687416946.774736, \"Dimensions\": {\"Algorithm\": \"Linear Learner\", \"Host\": \"algo-1\", \"Operation\": \"training\", \"epoch\": 4, \"model\": 16}, \"Metrics\": {\"train_binary_classification_cross_entropy_objective\": {\"sum\": 0.5303234291076661, \"count\": 1, \"min\": 0.5303234291076661, \"max\": 0.5303234291076661}}}\u001b[0m\n",
      "\u001b[34m#metrics {\"StartTime\": 1687416946.7748451, \"EndTime\": 1687416946.7748654, \"Dimensions\": {\"Algorithm\": \"Linear Learner\", \"Host\": \"algo-1\", \"Operation\": \"training\", \"epoch\": 4, \"model\": 17}, \"Metrics\": {\"train_binary_classification_cross_entropy_objective\": {\"sum\": 0.5306396150588989, \"count\": 1, \"min\": 0.5306396150588989, \"max\": 0.5306396150588989}}}\u001b[0m\n",
      "\u001b[34m#metrics {\"StartTime\": 1687416946.7749903, \"EndTime\": 1687416946.7750149, \"Dimensions\": {\"Algorithm\": \"Linear Learner\", \"Host\": \"algo-1\", \"Operation\": \"training\", \"epoch\": 4, \"model\": 18}, \"Metrics\": {\"train_binary_classification_cross_entropy_objective\": {\"sum\": 0.5227817726135254, \"count\": 1, \"min\": 0.5227817726135254, \"max\": 0.5227817726135254}}}\u001b[0m\n",
      "\u001b[34m#metrics {\"StartTime\": 1687416946.7751288, \"EndTime\": 1687416946.7751496, \"Dimensions\": {\"Algorithm\": \"Linear Learner\", \"Host\": \"algo-1\", \"Operation\": \"training\", \"epoch\": 4, \"model\": 19}, \"Metrics\": {\"train_binary_classification_cross_entropy_objective\": {\"sum\": 0.528866844177246, \"count\": 1, \"min\": 0.528866844177246, \"max\": 0.528866844177246}}}\u001b[0m\n",
      "\u001b[34m#metrics {\"StartTime\": 1687416946.7752643, \"EndTime\": 1687416946.7752852, \"Dimensions\": {\"Algorithm\": \"Linear Learner\", \"Host\": \"algo-1\", \"Operation\": \"training\", \"epoch\": 4, \"model\": 20}, \"Metrics\": {\"train_binary_classification_cross_entropy_objective\": {\"sum\": 0.5298662042617798, \"count\": 1, \"min\": 0.5298662042617798, \"max\": 0.5298662042617798}}}\u001b[0m\n",
      "\u001b[34m#metrics {\"StartTime\": 1687416946.7753928, \"EndTime\": 1687416946.7754133, \"Dimensions\": {\"Algorithm\": \"Linear Learner\", \"Host\": \"algo-1\", \"Operation\": \"training\", \"epoch\": 4, \"model\": 21}, \"Metrics\": {\"train_binary_classification_cross_entropy_objective\": {\"sum\": 0.5258360481262208, \"count\": 1, \"min\": 0.5258360481262208, \"max\": 0.5258360481262208}}}\u001b[0m\n",
      "\u001b[34m#metrics {\"StartTime\": 1687416946.7755296, \"EndTime\": 1687416946.7755532, \"Dimensions\": {\"Algorithm\": \"Linear Learner\", \"Host\": \"algo-1\", \"Operation\": \"training\", \"epoch\": 4, \"model\": 22}, \"Metrics\": {\"train_binary_classification_cross_entropy_objective\": {\"sum\": 0.52865083694458, \"count\": 1, \"min\": 0.52865083694458, \"max\": 0.52865083694458}}}\u001b[0m\n",
      "\u001b[34m#metrics {\"StartTime\": 1687416946.7756648, \"EndTime\": 1687416946.7756836, \"Dimensions\": {\"Algorithm\": \"Linear Learner\", \"Host\": \"algo-1\", \"Operation\": \"training\", \"epoch\": 4, \"model\": 23}, \"Metrics\": {\"train_binary_classification_cross_entropy_objective\": {\"sum\": 0.5249400758743286, \"count\": 1, \"min\": 0.5249400758743286, \"max\": 0.5249400758743286}}}\u001b[0m\n",
      "\u001b[34m#metrics {\"StartTime\": 1687416946.775774, \"EndTime\": 1687416946.7757936, \"Dimensions\": {\"Algorithm\": \"Linear Learner\", \"Host\": \"algo-1\", \"Operation\": \"training\", \"epoch\": 4, \"model\": 24}, \"Metrics\": {\"train_binary_classification_cross_entropy_objective\": {\"sum\": 0.6890890026092529, \"count\": 1, \"min\": 0.6890890026092529, \"max\": 0.6890890026092529}}}\u001b[0m\n",
      "\u001b[34m#metrics {\"StartTime\": 1687416946.7759, \"EndTime\": 1687416946.7759209, \"Dimensions\": {\"Algorithm\": \"Linear Learner\", \"Host\": \"algo-1\", \"Operation\": \"training\", \"epoch\": 4, \"model\": 25}, \"Metrics\": {\"train_binary_classification_cross_entropy_objective\": {\"sum\": 0.6895830535888672, \"count\": 1, \"min\": 0.6895830535888672, \"max\": 0.6895830535888672}}}\u001b[0m\n",
      "\u001b[34m#metrics {\"StartTime\": 1687416946.7760293, \"EndTime\": 1687416946.7760491, \"Dimensions\": {\"Algorithm\": \"Linear Learner\", \"Host\": \"algo-1\", \"Operation\": \"training\", \"epoch\": 4, \"model\": 26}, \"Metrics\": {\"train_binary_classification_cross_entropy_objective\": {\"sum\": 0.6885802268981933, \"count\": 1, \"min\": 0.6885802268981933, \"max\": 0.6885802268981933}}}\u001b[0m\n",
      "\u001b[34m#metrics {\"StartTime\": 1687416946.7761648, \"EndTime\": 1687416946.7761865, \"Dimensions\": {\"Algorithm\": \"Linear Learner\", \"Host\": \"algo-1\", \"Operation\": \"training\", \"epoch\": 4, \"model\": 27}, \"Metrics\": {\"train_binary_classification_cross_entropy_objective\": {\"sum\": 0.6894115829467773, \"count\": 1, \"min\": 0.6894115829467773, \"max\": 0.6894115829467773}}}\u001b[0m\n",
      "\u001b[34m#metrics {\"StartTime\": 1687416946.7762926, \"EndTime\": 1687416946.776313, \"Dimensions\": {\"Algorithm\": \"Linear Learner\", \"Host\": \"algo-1\", \"Operation\": \"training\", \"epoch\": 4, \"model\": 28}, \"Metrics\": {\"train_binary_classification_cross_entropy_objective\": {\"sum\": 0.6937099647521973, \"count\": 1, \"min\": 0.6937099647521973, \"max\": 0.6937099647521973}}}\u001b[0m\n",
      "\u001b[34m#metrics {\"StartTime\": 1687416946.7764344, \"EndTime\": 1687416946.776458, \"Dimensions\": {\"Algorithm\": \"Linear Learner\", \"Host\": \"algo-1\", \"Operation\": \"training\", \"epoch\": 4, \"model\": 29}, \"Metrics\": {\"train_binary_classification_cross_entropy_objective\": {\"sum\": 0.6904801845550537, \"count\": 1, \"min\": 0.6904801845550537, \"max\": 0.6904801845550537}}}\u001b[0m\n",
      "\u001b[34m#metrics {\"StartTime\": 1687416946.7765875, \"EndTime\": 1687416946.7766109, \"Dimensions\": {\"Algorithm\": \"Linear Learner\", \"Host\": \"algo-1\", \"Operation\": \"training\", \"epoch\": 4, \"model\": 30}, \"Metrics\": {\"train_binary_classification_cross_entropy_objective\": {\"sum\": 0.6908331394195557, \"count\": 1, \"min\": 0.6908331394195557, \"max\": 0.6908331394195557}}}\u001b[0m\n",
      "\u001b[34m#metrics {\"StartTime\": 1687416946.776733, \"EndTime\": 1687416946.7767546, \"Dimensions\": {\"Algorithm\": \"Linear Learner\", \"Host\": \"algo-1\", \"Operation\": \"training\", \"epoch\": 4, \"model\": 31}, \"Metrics\": {\"train_binary_classification_cross_entropy_objective\": {\"sum\": 0.6896342086791992, \"count\": 1, \"min\": 0.6896342086791992, \"max\": 0.6896342086791992}}}\u001b[0m\n",
      "\u001b[34m[06/22/2023 06:55:46 INFO 139895614142272] #quality_metric: host=algo-1, epoch=4, train binary_classification_cross_entropy_objective <loss>=0.4762362289428711\u001b[0m\n",
      "\u001b[34m[06/22/2023 06:55:46 INFO 139895614142272] #early_stopping_criteria_metric: host=algo-1, epoch=4, criteria=binary_classification_cross_entropy_objective, value=0.33236525774002074\u001b[0m\n",
      "\u001b[34m[06/22/2023 06:55:46 INFO 139895614142272] Epoch 4: Loss improved. Updating best model\u001b[0m\n",
      "\u001b[34m[06/22/2023 06:55:46 INFO 139895614142272] Saving model for epoch: 4\u001b[0m\n",
      "\u001b[34m[06/22/2023 06:55:46 INFO 139895614142272] Saved checkpoint to \"/tmp/tmp1bzk5l6d/mx-mod-0000.params\"\u001b[0m\n",
      "\u001b[34m[06/22/2023 06:55:46 INFO 139895614142272] #progress_metric: host=algo-1, completed 33.333333333333336 % of epochs\u001b[0m\n",
      "\u001b[34m#metrics {\"StartTime\": 1687416946.4059079, \"EndTime\": 1687416946.7913234, \"Dimensions\": {\"Algorithm\": \"Linear Learner\", \"Host\": \"algo-1\", \"Operation\": \"training\", \"epoch\": 4, \"Meta\": \"training_data_iter\"}, \"Metrics\": {\"Total Records Seen\": {\"sum\": 5020.0, \"count\": 1, \"min\": 5020, \"max\": 5020}, \"Total Batches Seen\": {\"sum\": 55.0, \"count\": 1, \"min\": 55, \"max\": 55}, \"Max Records Seen Between Resets\": {\"sum\": 820.0, \"count\": 1, \"min\": 820, \"max\": 820}, \"Max Batches Seen Between Resets\": {\"sum\": 9.0, \"count\": 1, \"min\": 9, \"max\": 9}, \"Reset Count\": {\"sum\": 7.0, \"count\": 1, \"min\": 7, \"max\": 7}, \"Number of Records Since Last Reset\": {\"sum\": 820.0, \"count\": 1, \"min\": 820, \"max\": 820}, \"Number of Batches Since Last Reset\": {\"sum\": 9.0, \"count\": 1, \"min\": 9, \"max\": 9}}}\u001b[0m\n",
      "\u001b[34m[06/22/2023 06:55:46 INFO 139895614142272] #throughput_metric: host=algo-1, train throughput=2126.1821652711906 records/second\u001b[0m\n",
      "\u001b[34m[2023-06-22 06:55:47.174] [tensorio] [info] epoch_stats={\"data_pipeline\": \"/opt/ml/input/data/train\", \"epoch\": 14, \"duration\": 382, \"num_examples\": 9, \"num_bytes\": 78720}\u001b[0m\n",
      "\u001b[34m#metrics {\"StartTime\": 1687416947.1750088, \"EndTime\": 1687416947.175117, \"Dimensions\": {\"Algorithm\": \"Linear Learner\", \"Host\": \"algo-1\", \"Operation\": \"training\", \"epoch\": 5, \"model\": 0}, \"Metrics\": {\"train_binary_classification_cross_entropy_objective\": {\"sum\": 0.45420405864715574, \"count\": 1, \"min\": 0.45420405864715574, \"max\": 0.45420405864715574}}}\u001b[0m\n",
      "\u001b[34m#metrics {\"StartTime\": 1687416947.1752365, \"EndTime\": 1687416947.1752787, \"Dimensions\": {\"Algorithm\": \"Linear Learner\", \"Host\": \"algo-1\", \"Operation\": \"training\", \"epoch\": 5, \"model\": 1}, \"Metrics\": {\"train_binary_classification_cross_entropy_objective\": {\"sum\": 0.46563307285308836, \"count\": 1, \"min\": 0.46563307285308836, \"max\": 0.46563307285308836}}}\u001b[0m\n",
      "\u001b[34m#metrics {\"StartTime\": 1687416947.1753554, \"EndTime\": 1687416947.1753736, \"Dimensions\": {\"Algorithm\": \"Linear Learner\", \"Host\": \"algo-1\", \"Operation\": \"training\", \"epoch\": 5, \"model\": 2}, \"Metrics\": {\"train_binary_classification_cross_entropy_objective\": {\"sum\": 0.47014024257659914, \"count\": 1, \"min\": 0.47014024257659914, \"max\": 0.47014024257659914}}}\u001b[0m\n",
      "\u001b[34m#metrics {\"StartTime\": 1687416947.175428, \"EndTime\": 1687416947.1754436, \"Dimensions\": {\"Algorithm\": \"Linear Learner\", \"Host\": \"algo-1\", \"Operation\": \"training\", \"epoch\": 5, \"model\": 3}, \"Metrics\": {\"train_binary_classification_cross_entropy_objective\": {\"sum\": 0.47701115608215333, \"count\": 1, \"min\": 0.47701115608215333, \"max\": 0.47701115608215333}}}\u001b[0m\n",
      "\u001b[34m#metrics {\"StartTime\": 1687416947.1755118, \"EndTime\": 1687416947.1755295, \"Dimensions\": {\"Algorithm\": \"Linear Learner\", \"Host\": \"algo-1\", \"Operation\": \"training\", \"epoch\": 5, \"model\": 4}, \"Metrics\": {\"train_binary_classification_cross_entropy_objective\": {\"sum\": 0.3337061762809753, \"count\": 1, \"min\": 0.3337061762809753, \"max\": 0.3337061762809753}}}\u001b[0m\n",
      "\u001b[34m#metrics {\"StartTime\": 1687416947.1755798, \"EndTime\": 1687416947.1755948, \"Dimensions\": {\"Algorithm\": \"Linear Learner\", \"Host\": \"algo-1\", \"Operation\": \"training\", \"epoch\": 5, \"model\": 5}, \"Metrics\": {\"train_binary_classification_cross_entropy_objective\": {\"sum\": 0.3333915615081787, \"count\": 1, \"min\": 0.3333915615081787, \"max\": 0.3333915615081787}}}\u001b[0m\n",
      "\u001b[34m#metrics {\"StartTime\": 1687416947.1756546, \"EndTime\": 1687416947.1756663, \"Dimensions\": {\"Algorithm\": \"Linear Learner\", \"Host\": \"algo-1\", \"Operation\": \"training\", \"epoch\": 5, \"model\": 6}, \"Metrics\": {\"train_binary_classification_cross_entropy_objective\": {\"sum\": 0.3337866973876953, \"count\": 1, \"min\": 0.3337866973876953, \"max\": 0.3337866973876953}}}\u001b[0m\n",
      "\u001b[34m#metrics {\"StartTime\": 1687416947.1756988, \"EndTime\": 1687416947.1757627, \"Dimensions\": {\"Algorithm\": \"Linear Learner\", \"Host\": \"algo-1\", \"Operation\": \"training\", \"epoch\": 5, \"model\": 7}, \"Metrics\": {\"train_binary_classification_cross_entropy_objective\": {\"sum\": 0.33372098445892334, \"count\": 1, \"min\": 0.33372098445892334, \"max\": 0.33372098445892334}}}\u001b[0m\n",
      "\u001b[34m#metrics {\"StartTime\": 1687416947.1758218, \"EndTime\": 1687416947.175834, \"Dimensions\": {\"Algorithm\": \"Linear Learner\", \"Host\": \"algo-1\", \"Operation\": \"training\", \"epoch\": 5, \"model\": 8}, \"Metrics\": {\"train_binary_classification_cross_entropy_objective\": {\"sum\": 0.4866727018356323, \"count\": 1, \"min\": 0.4866727018356323, \"max\": 0.4866727018356323}}}\u001b[0m\n",
      "\u001b[34m#metrics {\"StartTime\": 1687416947.175862, \"EndTime\": 1687416947.1758747, \"Dimensions\": {\"Algorithm\": \"Linear Learner\", \"Host\": \"algo-1\", \"Operation\": \"training\", \"epoch\": 5, \"model\": 9}, \"Metrics\": {\"train_binary_classification_cross_entropy_objective\": {\"sum\": 0.4715654706954956, \"count\": 1, \"min\": 0.4715654706954956, \"max\": 0.4715654706954956}}}\u001b[0m\n",
      "\u001b[34m#metrics {\"StartTime\": 1687416947.175927, \"EndTime\": 1687416947.1759377, \"Dimensions\": {\"Algorithm\": \"Linear Learner\", \"Host\": \"algo-1\", \"Operation\": \"training\", \"epoch\": 5, \"model\": 10}, \"Metrics\": {\"train_binary_classification_cross_entropy_objective\": {\"sum\": 0.4747444009780884, \"count\": 1, \"min\": 0.4747444009780884, \"max\": 0.4747444009780884}}}\u001b[0m\n",
      "\u001b[34m#metrics {\"StartTime\": 1687416947.1759787, \"EndTime\": 1687416947.1759942, \"Dimensions\": {\"Algorithm\": \"Linear Learner\", \"Host\": \"algo-1\", \"Operation\": \"training\", \"epoch\": 5, \"model\": 11}, \"Metrics\": {\"train_binary_classification_cross_entropy_objective\": {\"sum\": 0.4825181150436401, \"count\": 1, \"min\": 0.4825181150436401, \"max\": 0.4825181150436401}}}\u001b[0m\n",
      "\u001b[34m#metrics {\"StartTime\": 1687416947.1760268, \"EndTime\": 1687416947.17604, \"Dimensions\": {\"Algorithm\": \"Linear Learner\", \"Host\": \"algo-1\", \"Operation\": \"training\", \"epoch\": 5, \"model\": 12}, \"Metrics\": {\"train_binary_classification_cross_entropy_objective\": {\"sum\": 0.3353010630607605, \"count\": 1, \"min\": 0.3353010630607605, \"max\": 0.3353010630607605}}}\u001b[0m\n",
      "\u001b[34m#metrics {\"StartTime\": 1687416947.1761148, \"EndTime\": 1687416947.1761336, \"Dimensions\": {\"Algorithm\": \"Linear Learner\", \"Host\": \"algo-1\", \"Operation\": \"training\", \"epoch\": 5, \"model\": 13}, \"Metrics\": {\"train_binary_classification_cross_entropy_objective\": {\"sum\": 0.33635472536087035, \"count\": 1, \"min\": 0.33635472536087035, \"max\": 0.33635472536087035}}}\u001b[0m\n",
      "\u001b[34m#metrics {\"StartTime\": 1687416947.1761901, \"EndTime\": 1687416947.176212, \"Dimensions\": {\"Algorithm\": \"Linear Learner\", \"Host\": \"algo-1\", \"Operation\": \"training\", \"epoch\": 5, \"model\": 14}, \"Metrics\": {\"train_binary_classification_cross_entropy_objective\": {\"sum\": 0.33494345664978026, \"count\": 1, \"min\": 0.33494345664978026, \"max\": 0.33494345664978026}}}\u001b[0m\n",
      "\u001b[34m#metrics {\"StartTime\": 1687416947.1762757, \"EndTime\": 1687416947.1762924, \"Dimensions\": {\"Algorithm\": \"Linear Learner\", \"Host\": \"algo-1\", \"Operation\": \"training\", \"epoch\": 5, \"model\": 15}, \"Metrics\": {\"train_binary_classification_cross_entropy_objective\": {\"sum\": 0.33552133798599243, \"count\": 1, \"min\": 0.33552133798599243, \"max\": 0.33552133798599243}}}\u001b[0m\n",
      "\u001b[34m#metrics {\"StartTime\": 1687416947.176346, \"EndTime\": 1687416947.1763618, \"Dimensions\": {\"Algorithm\": \"Linear Learner\", \"Host\": \"algo-1\", \"Operation\": \"training\", \"epoch\": 5, \"model\": 16}, \"Metrics\": {\"train_binary_classification_cross_entropy_objective\": {\"sum\": 0.5226016044616699, \"count\": 1, \"min\": 0.5226016044616699, \"max\": 0.5226016044616699}}}\u001b[0m\n",
      "\u001b[34m#metrics {\"StartTime\": 1687416947.1764123, \"EndTime\": 1687416947.1764283, \"Dimensions\": {\"Algorithm\": \"Linear Learner\", \"Host\": \"algo-1\", \"Operation\": \"training\", \"epoch\": 5, \"model\": 17}, \"Metrics\": {\"train_binary_classification_cross_entropy_objective\": {\"sum\": 0.5223699569702148, \"count\": 1, \"min\": 0.5223699569702148, \"max\": 0.5223699569702148}}}\u001b[0m\n",
      "\u001b[34m#metrics {\"StartTime\": 1687416947.1764863, \"EndTime\": 1687416947.1765018, \"Dimensions\": {\"Algorithm\": \"Linear Learner\", \"Host\": \"algo-1\", \"Operation\": \"training\", \"epoch\": 5, \"model\": 18}, \"Metrics\": {\"train_binary_classification_cross_entropy_objective\": {\"sum\": 0.5216871500015259, \"count\": 1, \"min\": 0.5216871500015259, \"max\": 0.5216871500015259}}}\u001b[0m\n",
      "\u001b[34m#metrics {\"StartTime\": 1687416947.1765516, \"EndTime\": 1687416947.1765683, \"Dimensions\": {\"Algorithm\": \"Linear Learner\", \"Host\": \"algo-1\", \"Operation\": \"training\", \"epoch\": 5, \"model\": 19}, \"Metrics\": {\"train_binary_classification_cross_entropy_objective\": {\"sum\": 0.5243827438354492, \"count\": 1, \"min\": 0.5243827438354492, \"max\": 0.5243827438354492}}}\u001b[0m\n",
      "\u001b[34m#metrics {\"StartTime\": 1687416947.176628, \"EndTime\": 1687416947.1766446, \"Dimensions\": {\"Algorithm\": \"Linear Learner\", \"Host\": \"algo-1\", \"Operation\": \"training\", \"epoch\": 5, \"model\": 20}, \"Metrics\": {\"train_binary_classification_cross_entropy_objective\": {\"sum\": 0.5283250761032104, \"count\": 1, \"min\": 0.5283250761032104, \"max\": 0.5283250761032104}}}\u001b[0m\n",
      "\u001b[34m#metrics {\"StartTime\": 1687416947.1766934, \"EndTime\": 1687416947.17671, \"Dimensions\": {\"Algorithm\": \"Linear Learner\", \"Host\": \"algo-1\", \"Operation\": \"training\", \"epoch\": 5, \"model\": 21}, \"Metrics\": {\"train_binary_classification_cross_entropy_objective\": {\"sum\": 0.529441237449646, \"count\": 1, \"min\": 0.529441237449646, \"max\": 0.529441237449646}}}\u001b[0m\n",
      "\u001b[34m#metrics {\"StartTime\": 1687416947.1767719, \"EndTime\": 1687416947.1767876, \"Dimensions\": {\"Algorithm\": \"Linear Learner\", \"Host\": \"algo-1\", \"Operation\": \"training\", \"epoch\": 5, \"model\": 22}, \"Metrics\": {\"train_binary_classification_cross_entropy_objective\": {\"sum\": 0.5276772975921631, \"count\": 1, \"min\": 0.5276772975921631, \"max\": 0.5276772975921631}}}\u001b[0m\n",
      "\u001b[34m#metrics {\"StartTime\": 1687416947.176838, \"EndTime\": 1687416947.1768546, \"Dimensions\": {\"Algorithm\": \"Linear Learner\", \"Host\": \"algo-1\", \"Operation\": \"training\", \"epoch\": 5, \"model\": 23}, \"Metrics\": {\"train_binary_classification_cross_entropy_objective\": {\"sum\": 0.528819694519043, \"count\": 1, \"min\": 0.528819694519043, \"max\": 0.528819694519043}}}\u001b[0m\n",
      "\u001b[34m#metrics {\"StartTime\": 1687416947.1769137, \"EndTime\": 1687416947.1769307, \"Dimensions\": {\"Algorithm\": \"Linear Learner\", \"Host\": \"algo-1\", \"Operation\": \"training\", \"epoch\": 5, \"model\": 24}, \"Metrics\": {\"train_binary_classification_cross_entropy_objective\": {\"sum\": 0.6898732471466065, \"count\": 1, \"min\": 0.6898732471466065, \"max\": 0.6898732471466065}}}\u001b[0m\n",
      "\u001b[34m#metrics {\"StartTime\": 1687416947.1769834, \"EndTime\": 1687416947.1770005, \"Dimensions\": {\"Algorithm\": \"Linear Learner\", \"Host\": \"algo-1\", \"Operation\": \"training\", \"epoch\": 5, \"model\": 25}, \"Metrics\": {\"train_binary_classification_cross_entropy_objective\": {\"sum\": 0.6900314235687256, \"count\": 1, \"min\": 0.6900314235687256, \"max\": 0.6900314235687256}}}\u001b[0m\n",
      "\u001b[34m#metrics {\"StartTime\": 1687416947.177061, \"EndTime\": 1687416947.177077, \"Dimensions\": {\"Algorithm\": \"Linear Learner\", \"Host\": \"algo-1\", \"Operation\": \"training\", \"epoch\": 5, \"model\": 26}, \"Metrics\": {\"train_binary_classification_cross_entropy_objective\": {\"sum\": 0.68833909034729, \"count\": 1, \"min\": 0.68833909034729, \"max\": 0.68833909034729}}}\u001b[0m\n",
      "\u001b[34m#metrics {\"StartTime\": 1687416947.1771278, \"EndTime\": 1687416947.1771436, \"Dimensions\": {\"Algorithm\": \"Linear Learner\", \"Host\": \"algo-1\", \"Operation\": \"training\", \"epoch\": 5, \"model\": 27}, \"Metrics\": {\"train_binary_classification_cross_entropy_objective\": {\"sum\": 0.6887634086608887, \"count\": 1, \"min\": 0.6887634086608887, \"max\": 0.6887634086608887}}}\u001b[0m\n",
      "\u001b[34m#metrics {\"StartTime\": 1687416947.1772068, \"EndTime\": 1687416947.177224, \"Dimensions\": {\"Algorithm\": \"Linear Learner\", \"Host\": \"algo-1\", \"Operation\": \"training\", \"epoch\": 5, \"model\": 28}, \"Metrics\": {\"train_binary_classification_cross_entropy_objective\": {\"sum\": 0.6906285762786866, \"count\": 1, \"min\": 0.6906285762786866, \"max\": 0.6906285762786866}}}\u001b[0m\n",
      "\u001b[34m#metrics {\"StartTime\": 1687416947.1772747, \"EndTime\": 1687416947.1772916, \"Dimensions\": {\"Algorithm\": \"Linear Learner\", \"Host\": \"algo-1\", \"Operation\": \"training\", \"epoch\": 5, \"model\": 29}, \"Metrics\": {\"train_binary_classification_cross_entropy_objective\": {\"sum\": 0.6917204666137695, \"count\": 1, \"min\": 0.6917204666137695, \"max\": 0.6917204666137695}}}\u001b[0m\n",
      "\u001b[34m#metrics {\"StartTime\": 1687416947.177418, \"EndTime\": 1687416947.1774387, \"Dimensions\": {\"Algorithm\": \"Linear Learner\", \"Host\": \"algo-1\", \"Operation\": \"training\", \"epoch\": 5, \"model\": 30}, \"Metrics\": {\"train_binary_classification_cross_entropy_objective\": {\"sum\": 0.6918371677398681, \"count\": 1, \"min\": 0.6918371677398681, \"max\": 0.6918371677398681}}}\u001b[0m\n",
      "\u001b[34m#metrics {\"StartTime\": 1687416947.1775055, \"EndTime\": 1687416947.1775231, \"Dimensions\": {\"Algorithm\": \"Linear Learner\", \"Host\": \"algo-1\", \"Operation\": \"training\", \"epoch\": 5, \"model\": 31}, \"Metrics\": {\"train_binary_classification_cross_entropy_objective\": {\"sum\": 0.692110595703125, \"count\": 1, \"min\": 0.692110595703125, \"max\": 0.692110595703125}}}\u001b[0m\n",
      "\u001b[34m[06/22/2023 06:55:47 INFO 139895614142272] #quality_metric: host=algo-1, epoch=5, train binary_classification_cross_entropy_objective <loss>=0.45420405864715574\u001b[0m\n",
      "\u001b[34m[06/22/2023 06:55:47 INFO 139895614142272] #early_stopping_criteria_metric: host=algo-1, epoch=5, criteria=binary_classification_cross_entropy_objective, value=0.3333915615081787\u001b[0m\n",
      "\u001b[34m[06/22/2023 06:55:47 INFO 139895614142272] Saving model for epoch: 5\u001b[0m\n",
      "\u001b[34m[06/22/2023 06:55:47 INFO 139895614142272] Saved checkpoint to \"/tmp/tmpag56dejm/mx-mod-0000.params\"\u001b[0m\n",
      "\u001b[34m[06/22/2023 06:55:47 INFO 139895614142272] #progress_metric: host=algo-1, completed 40.0 % of epochs\u001b[0m\n",
      "\u001b[34m#metrics {\"StartTime\": 1687416946.7918022, \"EndTime\": 1687416947.1893497, \"Dimensions\": {\"Algorithm\": \"Linear Learner\", \"Host\": \"algo-1\", \"Operation\": \"training\", \"epoch\": 5, \"Meta\": \"training_data_iter\"}, \"Metrics\": {\"Total Records Seen\": {\"sum\": 5840.0, \"count\": 1, \"min\": 5840, \"max\": 5840}, \"Total Batches Seen\": {\"sum\": 64.0, \"count\": 1, \"min\": 64, \"max\": 64}, \"Max Records Seen Between Resets\": {\"sum\": 820.0, \"count\": 1, \"min\": 820, \"max\": 820}, \"Max Batches Seen Between Resets\": {\"sum\": 9.0, \"count\": 1, \"min\": 9, \"max\": 9}, \"Reset Count\": {\"sum\": 8.0, \"count\": 1, \"min\": 8, \"max\": 8}, \"Number of Records Since Last Reset\": {\"sum\": 820.0, \"count\": 1, \"min\": 820, \"max\": 820}, \"Number of Batches Since Last Reset\": {\"sum\": 9.0, \"count\": 1, \"min\": 9, \"max\": 9}}}\u001b[0m\n",
      "\u001b[34m[06/22/2023 06:55:47 INFO 139895614142272] #throughput_metric: host=algo-1, train throughput=2061.6958597389767 records/second\u001b[0m\n",
      "\u001b[34m[2023-06-22 06:55:47.475] [tensorio] [info] epoch_stats={\"data_pipeline\": \"/opt/ml/input/data/train\", \"epoch\": 16, \"duration\": 285, \"num_examples\": 9, \"num_bytes\": 78720}\u001b[0m\n",
      "\u001b[34m#metrics {\"StartTime\": 1687416947.475554, \"EndTime\": 1687416947.4756289, \"Dimensions\": {\"Algorithm\": \"Linear Learner\", \"Host\": \"algo-1\", \"Operation\": \"training\", \"epoch\": 6, \"model\": 0}, \"Metrics\": {\"train_binary_classification_cross_entropy_objective\": {\"sum\": 0.43684139251708987, \"count\": 1, \"min\": 0.43684139251708987, \"max\": 0.43684139251708987}}}\u001b[0m\n",
      "\u001b[34m#metrics {\"StartTime\": 1687416947.475727, \"EndTime\": 1687416947.4757426, \"Dimensions\": {\"Algorithm\": \"Linear Learner\", \"Host\": \"algo-1\", \"Operation\": \"training\", \"epoch\": 6, \"model\": 1}, \"Metrics\": {\"train_binary_classification_cross_entropy_objective\": {\"sum\": 0.4463960838317871, \"count\": 1, \"min\": 0.4463960838317871, \"max\": 0.4463960838317871}}}\u001b[0m\n",
      "\u001b[34m#metrics {\"StartTime\": 1687416947.4757829, \"EndTime\": 1687416947.4757974, \"Dimensions\": {\"Algorithm\": \"Linear Learner\", \"Host\": \"algo-1\", \"Operation\": \"training\", \"epoch\": 6, \"model\": 2}, \"Metrics\": {\"train_binary_classification_cross_entropy_objective\": {\"sum\": 0.4500945806503296, \"count\": 1, \"min\": 0.4500945806503296, \"max\": 0.4500945806503296}}}\u001b[0m\n",
      "\u001b[34m#metrics {\"StartTime\": 1687416947.475858, \"EndTime\": 1687416947.4758754, \"Dimensions\": {\"Algorithm\": \"Linear Learner\", \"Host\": \"algo-1\", \"Operation\": \"training\", \"epoch\": 6, \"model\": 3}, \"Metrics\": {\"train_binary_classification_cross_entropy_objective\": {\"sum\": 0.4564639186859131, \"count\": 1, \"min\": 0.4564639186859131, \"max\": 0.4564639186859131}}}\u001b[0m\n",
      "\u001b[34m#metrics {\"StartTime\": 1687416947.475936, \"EndTime\": 1687416947.475953, \"Dimensions\": {\"Algorithm\": \"Linear Learner\", \"Host\": \"algo-1\", \"Operation\": \"training\", \"epoch\": 6, \"model\": 4}, \"Metrics\": {\"train_binary_classification_cross_entropy_objective\": {\"sum\": 0.33312454462051394, \"count\": 1, \"min\": 0.33312454462051394, \"max\": 0.33312454462051394}}}\u001b[0m\n",
      "\u001b[34m#metrics {\"StartTime\": 1687416947.4760149, \"EndTime\": 1687416947.4760332, \"Dimensions\": {\"Algorithm\": \"Linear Learner\", \"Host\": \"algo-1\", \"Operation\": \"training\", \"epoch\": 6, \"model\": 5}, \"Metrics\": {\"train_binary_classification_cross_entropy_objective\": {\"sum\": 0.333196120262146, \"count\": 1, \"min\": 0.333196120262146, \"max\": 0.333196120262146}}}\u001b[0m\n",
      "\u001b[34m#metrics {\"StartTime\": 1687416947.476071, \"EndTime\": 1687416947.476081, \"Dimensions\": {\"Algorithm\": \"Linear Learner\", \"Host\": \"algo-1\", \"Operation\": \"training\", \"epoch\": 6, \"model\": 6}, \"Metrics\": {\"train_binary_classification_cross_entropy_objective\": {\"sum\": 0.33285157442092894, \"count\": 1, \"min\": 0.33285157442092894, \"max\": 0.33285157442092894}}}\u001b[0m\n",
      "\u001b[34m#metrics {\"StartTime\": 1687416947.476135, \"EndTime\": 1687416947.4761517, \"Dimensions\": {\"Algorithm\": \"Linear Learner\", \"Host\": \"algo-1\", \"Operation\": \"training\", \"epoch\": 6, \"model\": 7}, \"Metrics\": {\"train_binary_classification_cross_entropy_objective\": {\"sum\": 0.33320763587951663, \"count\": 1, \"min\": 0.33320763587951663, \"max\": 0.33320763587951663}}}\u001b[0m\n",
      "\u001b[34m#metrics {\"StartTime\": 1687416947.4761865, \"EndTime\": 1687416947.4761953, \"Dimensions\": {\"Algorithm\": \"Linear Learner\", \"Host\": \"algo-1\", \"Operation\": \"training\", \"epoch\": 6, \"model\": 8}, \"Metrics\": {\"train_binary_classification_cross_entropy_objective\": {\"sum\": 0.4651425790786743, \"count\": 1, \"min\": 0.4651425790786743, \"max\": 0.4651425790786743}}}\u001b[0m\n",
      "\u001b[34m#metrics {\"StartTime\": 1687416947.4762242, \"EndTime\": 1687416947.4762325, \"Dimensions\": {\"Algorithm\": \"Linear Learner\", \"Host\": \"algo-1\", \"Operation\": \"training\", \"epoch\": 6, \"model\": 9}, \"Metrics\": {\"train_binary_classification_cross_entropy_objective\": {\"sum\": 0.45076502799987794, \"count\": 1, \"min\": 0.45076502799987794, \"max\": 0.45076502799987794}}}\u001b[0m\n",
      "\u001b[34m#metrics {\"StartTime\": 1687416947.4762678, \"EndTime\": 1687416947.4762769, \"Dimensions\": {\"Algorithm\": \"Linear Learner\", \"Host\": \"algo-1\", \"Operation\": \"training\", \"epoch\": 6, \"model\": 10}, \"Metrics\": {\"train_binary_classification_cross_entropy_objective\": {\"sum\": 0.4551397228240967, \"count\": 1, \"min\": 0.4551397228240967, \"max\": 0.4551397228240967}}}\u001b[0m\n",
      "\u001b[34m#metrics {\"StartTime\": 1687416947.476325, \"EndTime\": 1687416947.476339, \"Dimensions\": {\"Algorithm\": \"Linear Learner\", \"Host\": \"algo-1\", \"Operation\": \"training\", \"epoch\": 6, \"model\": 11}, \"Metrics\": {\"train_binary_classification_cross_entropy_objective\": {\"sum\": 0.46066587448120117, \"count\": 1, \"min\": 0.46066587448120117, \"max\": 0.46066587448120117}}}\u001b[0m\n",
      "\u001b[34m#metrics {\"StartTime\": 1687416947.4763722, \"EndTime\": 1687416947.4763806, \"Dimensions\": {\"Algorithm\": \"Linear Learner\", \"Host\": \"algo-1\", \"Operation\": \"training\", \"epoch\": 6, \"model\": 12}, \"Metrics\": {\"train_binary_classification_cross_entropy_objective\": {\"sum\": 0.33767500400543216, \"count\": 1, \"min\": 0.33767500400543216, \"max\": 0.33767500400543216}}}\u001b[0m\n",
      "\u001b[34m#metrics {\"StartTime\": 1687416947.4764097, \"EndTime\": 1687416947.4764175, \"Dimensions\": {\"Algorithm\": \"Linear Learner\", \"Host\": \"algo-1\", \"Operation\": \"training\", \"epoch\": 6, \"model\": 13}, \"Metrics\": {\"train_binary_classification_cross_entropy_objective\": {\"sum\": 0.33778788805007937, \"count\": 1, \"min\": 0.33778788805007937, \"max\": 0.33778788805007937}}}\u001b[0m\n",
      "\u001b[34m#metrics {\"StartTime\": 1687416947.4764462, \"EndTime\": 1687416947.4764593, \"Dimensions\": {\"Algorithm\": \"Linear Learner\", \"Host\": \"algo-1\", \"Operation\": \"training\", \"epoch\": 6, \"model\": 14}, \"Metrics\": {\"train_binary_classification_cross_entropy_objective\": {\"sum\": 0.33723119020462033, \"count\": 1, \"min\": 0.33723119020462033, \"max\": 0.33723119020462033}}}\u001b[0m\n",
      "\u001b[34m#metrics {\"StartTime\": 1687416947.476511, \"EndTime\": 1687416947.476521, \"Dimensions\": {\"Algorithm\": \"Linear Learner\", \"Host\": \"algo-1\", \"Operation\": \"training\", \"epoch\": 6, \"model\": 15}, \"Metrics\": {\"train_binary_classification_cross_entropy_objective\": {\"sum\": 0.337784640789032, \"count\": 1, \"min\": 0.337784640789032, \"max\": 0.337784640789032}}}\u001b[0m\n",
      "\u001b[34m#metrics {\"StartTime\": 1687416947.476549, \"EndTime\": 1687416947.4765565, \"Dimensions\": {\"Algorithm\": \"Linear Learner\", \"Host\": \"algo-1\", \"Operation\": \"training\", \"epoch\": 6, \"model\": 16}, \"Metrics\": {\"train_binary_classification_cross_entropy_objective\": {\"sum\": 0.5199924993515015, \"count\": 1, \"min\": 0.5199924993515015, \"max\": 0.5199924993515015}}}\u001b[0m\n",
      "\u001b[34m#metrics {\"StartTime\": 1687416947.4765973, \"EndTime\": 1687416947.476612, \"Dimensions\": {\"Algorithm\": \"Linear Learner\", \"Host\": \"algo-1\", \"Operation\": \"training\", \"epoch\": 6, \"model\": 17}, \"Metrics\": {\"train_binary_classification_cross_entropy_objective\": {\"sum\": 0.5201985931396484, \"count\": 1, \"min\": 0.5201985931396484, \"max\": 0.5201985931396484}}}\u001b[0m\n",
      "\u001b[34m#metrics {\"StartTime\": 1687416947.4766567, \"EndTime\": 1687416947.4766712, \"Dimensions\": {\"Algorithm\": \"Linear Learner\", \"Host\": \"algo-1\", \"Operation\": \"training\", \"epoch\": 6, \"model\": 18}, \"Metrics\": {\"train_binary_classification_cross_entropy_objective\": {\"sum\": 0.5229748725891114, \"count\": 1, \"min\": 0.5229748725891114, \"max\": 0.5229748725891114}}}\u001b[0m\n",
      "\u001b[34m#metrics {\"StartTime\": 1687416947.4767065, \"EndTime\": 1687416947.476715, \"Dimensions\": {\"Algorithm\": \"Linear Learner\", \"Host\": \"algo-1\", \"Operation\": \"training\", \"epoch\": 6, \"model\": 19}, \"Metrics\": {\"train_binary_classification_cross_entropy_objective\": {\"sum\": 0.523459529876709, \"count\": 1, \"min\": 0.523459529876709, \"max\": 0.523459529876709}}}\u001b[0m\n",
      "\u001b[34m#metrics {\"StartTime\": 1687416947.4767497, \"EndTime\": 1687416947.4767582, \"Dimensions\": {\"Algorithm\": \"Linear Learner\", \"Host\": \"algo-1\", \"Operation\": \"training\", \"epoch\": 6, \"model\": 20}, \"Metrics\": {\"train_binary_classification_cross_entropy_objective\": {\"sum\": 0.528059892654419, \"count\": 1, \"min\": 0.528059892654419, \"max\": 0.528059892654419}}}\u001b[0m\n",
      "\u001b[34m#metrics {\"StartTime\": 1687416947.4767923, \"EndTime\": 1687416947.4768007, \"Dimensions\": {\"Algorithm\": \"Linear Learner\", \"Host\": \"algo-1\", \"Operation\": \"training\", \"epoch\": 6, \"model\": 21}, \"Metrics\": {\"train_binary_classification_cross_entropy_objective\": {\"sum\": 0.5296475458145141, \"count\": 1, \"min\": 0.5296475458145141, \"max\": 0.5296475458145141}}}\u001b[0m\n",
      "\u001b[34m#metrics {\"StartTime\": 1687416947.4768515, \"EndTime\": 1687416947.4768693, \"Dimensions\": {\"Algorithm\": \"Linear Learner\", \"Host\": \"algo-1\", \"Operation\": \"training\", \"epoch\": 6, \"model\": 22}, \"Metrics\": {\"train_binary_classification_cross_entropy_objective\": {\"sum\": 0.5297937536239624, \"count\": 1, \"min\": 0.5297937536239624, \"max\": 0.5297937536239624}}}\u001b[0m\n",
      "\u001b[34m#metrics {\"StartTime\": 1687416947.476912, \"EndTime\": 1687416947.4769218, \"Dimensions\": {\"Algorithm\": \"Linear Learner\", \"Host\": \"algo-1\", \"Operation\": \"training\", \"epoch\": 6, \"model\": 23}, \"Metrics\": {\"train_binary_classification_cross_entropy_objective\": {\"sum\": 0.5299804925918579, \"count\": 1, \"min\": 0.5299804925918579, \"max\": 0.5299804925918579}}}\u001b[0m\n",
      "\u001b[34m#metrics {\"StartTime\": 1687416947.4769564, \"EndTime\": 1687416947.4769654, \"Dimensions\": {\"Algorithm\": \"Linear Learner\", \"Host\": \"algo-1\", \"Operation\": \"training\", \"epoch\": 6, \"model\": 24}, \"Metrics\": {\"train_binary_classification_cross_entropy_objective\": {\"sum\": 0.6900059700012207, \"count\": 1, \"min\": 0.6900059700012207, \"max\": 0.6900059700012207}}}\u001b[0m\n",
      "\u001b[34m#metrics {\"StartTime\": 1687416947.4769928, \"EndTime\": 1687416947.4770002, \"Dimensions\": {\"Algorithm\": \"Linear Learner\", \"Host\": \"algo-1\", \"Operation\": \"training\", \"epoch\": 6, \"model\": 25}, \"Metrics\": {\"train_binary_classification_cross_entropy_objective\": {\"sum\": 0.6894087028503418, \"count\": 1, \"min\": 0.6894087028503418, \"max\": 0.6894087028503418}}}\u001b[0m\n",
      "\u001b[34m#metrics {\"StartTime\": 1687416947.4770498, \"EndTime\": 1687416947.4770668, \"Dimensions\": {\"Algorithm\": \"Linear Learner\", \"Host\": \"algo-1\", \"Operation\": \"training\", \"epoch\": 6, \"model\": 26}, \"Metrics\": {\"train_binary_classification_cross_entropy_objective\": {\"sum\": 0.6896250629425049, \"count\": 1, \"min\": 0.6896250629425049, \"max\": 0.6896250629425049}}}\u001b[0m\n",
      "\u001b[34m#metrics {\"StartTime\": 1687416947.4771144, \"EndTime\": 1687416947.4771228, \"Dimensions\": {\"Algorithm\": \"Linear Learner\", \"Host\": \"algo-1\", \"Operation\": \"training\", \"epoch\": 6, \"model\": 27}, \"Metrics\": {\"train_binary_classification_cross_entropy_objective\": {\"sum\": 0.6894340991973877, \"count\": 1, \"min\": 0.6894340991973877, \"max\": 0.6894340991973877}}}\u001b[0m\n",
      "\u001b[34m#metrics {\"StartTime\": 1687416947.4771512, \"EndTime\": 1687416947.477159, \"Dimensions\": {\"Algorithm\": \"Linear Learner\", \"Host\": \"algo-1\", \"Operation\": \"training\", \"epoch\": 6, \"model\": 28}, \"Metrics\": {\"train_binary_classification_cross_entropy_objective\": {\"sum\": 0.6913247108459473, \"count\": 1, \"min\": 0.6913247108459473, \"max\": 0.6913247108459473}}}\u001b[0m\n",
      "\u001b[34m#metrics {\"StartTime\": 1687416947.4771962, \"EndTime\": 1687416947.4772103, \"Dimensions\": {\"Algorithm\": \"Linear Learner\", \"Host\": \"algo-1\", \"Operation\": \"training\", \"epoch\": 6, \"model\": 29}, \"Metrics\": {\"train_binary_classification_cross_entropy_objective\": {\"sum\": 0.6925508213043213, \"count\": 1, \"min\": 0.6925508213043213, \"max\": 0.6925508213043213}}}\u001b[0m\n",
      "\u001b[34m#metrics {\"StartTime\": 1687416947.4772606, \"EndTime\": 1687416947.4772708, \"Dimensions\": {\"Algorithm\": \"Linear Learner\", \"Host\": \"algo-1\", \"Operation\": \"training\", \"epoch\": 6, \"model\": 30}, \"Metrics\": {\"train_binary_classification_cross_entropy_objective\": {\"sum\": 0.6920553112030029, \"count\": 1, \"min\": 0.6920553112030029, \"max\": 0.6920553112030029}}}\u001b[0m\n",
      "\u001b[34m#metrics {\"StartTime\": 1687416947.477299, \"EndTime\": 1687416947.4773061, \"Dimensions\": {\"Algorithm\": \"Linear Learner\", \"Host\": \"algo-1\", \"Operation\": \"training\", \"epoch\": 6, \"model\": 31}, \"Metrics\": {\"train_binary_classification_cross_entropy_objective\": {\"sum\": 0.6933794116973877, \"count\": 1, \"min\": 0.6933794116973877, \"max\": 0.6933794116973877}}}\u001b[0m\n",
      "\u001b[34m[06/22/2023 06:55:47 INFO 139895614142272] #quality_metric: host=algo-1, epoch=6, train binary_classification_cross_entropy_objective <loss>=0.43684139251708987\u001b[0m\n",
      "\u001b[34m[06/22/2023 06:55:47 INFO 139895614142272] #early_stopping_criteria_metric: host=algo-1, epoch=6, criteria=binary_classification_cross_entropy_objective, value=0.33285157442092894\u001b[0m\n",
      "\u001b[34m[06/22/2023 06:55:47 INFO 139895614142272] Saving model for epoch: 6\u001b[0m\n",
      "\u001b[34m[06/22/2023 06:55:47 INFO 139895614142272] Saved checkpoint to \"/tmp/tmp0_r833sh/mx-mod-0000.params\"\u001b[0m\n",
      "\u001b[34m[06/22/2023 06:55:47 INFO 139895614142272] #progress_metric: host=algo-1, completed 46.666666666666664 % of epochs\u001b[0m\n",
      "\u001b[34m#metrics {\"StartTime\": 1687416947.1897025, \"EndTime\": 1687416947.4874263, \"Dimensions\": {\"Algorithm\": \"Linear Learner\", \"Host\": \"algo-1\", \"Operation\": \"training\", \"epoch\": 6, \"Meta\": \"training_data_iter\"}, \"Metrics\": {\"Total Records Seen\": {\"sum\": 6660.0, \"count\": 1, \"min\": 6660, \"max\": 6660}, \"Total Batches Seen\": {\"sum\": 73.0, \"count\": 1, \"min\": 73, \"max\": 73}, \"Max Records Seen Between Resets\": {\"sum\": 820.0, \"count\": 1, \"min\": 820, \"max\": 820}, \"Max Batches Seen Between Resets\": {\"sum\": 9.0, \"count\": 1, \"min\": 9, \"max\": 9}, \"Reset Count\": {\"sum\": 9.0, \"count\": 1, \"min\": 9, \"max\": 9}, \"Number of Records Since Last Reset\": {\"sum\": 820.0, \"count\": 1, \"min\": 820, \"max\": 820}, \"Number of Batches Since Last Reset\": {\"sum\": 9.0, \"count\": 1, \"min\": 9, \"max\": 9}}}\u001b[0m\n",
      "\u001b[34m[06/22/2023 06:55:47 INFO 139895614142272] #throughput_metric: host=algo-1, train throughput=2753.044772917564 records/second\u001b[0m\n",
      "\u001b[34m[2023-06-22 06:55:47.770] [tensorio] [info] epoch_stats={\"data_pipeline\": \"/opt/ml/input/data/train\", \"epoch\": 18, \"duration\": 282, \"num_examples\": 9, \"num_bytes\": 78720}\u001b[0m\n",
      "\u001b[34m#metrics {\"StartTime\": 1687416947.7704582, \"EndTime\": 1687416947.7705717, \"Dimensions\": {\"Algorithm\": \"Linear Learner\", \"Host\": \"algo-1\", \"Operation\": \"training\", \"epoch\": 7, \"model\": 0}, \"Metrics\": {\"train_binary_classification_cross_entropy_objective\": {\"sum\": 0.42290297508239744, \"count\": 1, \"min\": 0.42290297508239744, \"max\": 0.42290297508239744}}}\u001b[0m\n",
      "\u001b[34m#metrics {\"StartTime\": 1687416947.7706938, \"EndTime\": 1687416947.7707164, \"Dimensions\": {\"Algorithm\": \"Linear Learner\", \"Host\": \"algo-1\", \"Operation\": \"training\", \"epoch\": 7, \"model\": 1}, \"Metrics\": {\"train_binary_classification_cross_entropy_objective\": {\"sum\": 0.4308985471725464, \"count\": 1, \"min\": 0.4308985471725464, \"max\": 0.4308985471725464}}}\u001b[0m\n",
      "\u001b[34m#metrics {\"StartTime\": 1687416947.7707734, \"EndTime\": 1687416947.7707891, \"Dimensions\": {\"Algorithm\": \"Linear Learner\", \"Host\": \"algo-1\", \"Operation\": \"training\", \"epoch\": 7, \"model\": 2}, \"Metrics\": {\"train_binary_classification_cross_entropy_objective\": {\"sum\": 0.4340614700317383, \"count\": 1, \"min\": 0.4340614700317383, \"max\": 0.4340614700317383}}}\u001b[0m\n",
      "\u001b[34m#metrics {\"StartTime\": 1687416947.7708466, \"EndTime\": 1687416947.7708628, \"Dimensions\": {\"Algorithm\": \"Linear Learner\", \"Host\": \"algo-1\", \"Operation\": \"training\", \"epoch\": 7, \"model\": 3}, \"Metrics\": {\"train_binary_classification_cross_entropy_objective\": {\"sum\": 0.43980013847351074, \"count\": 1, \"min\": 0.43980013847351074, \"max\": 0.43980013847351074}}}\u001b[0m\n",
      "\u001b[34m#metrics {\"StartTime\": 1687416947.7709172, \"EndTime\": 1687416947.7709324, \"Dimensions\": {\"Algorithm\": \"Linear Learner\", \"Host\": \"algo-1\", \"Operation\": \"training\", \"epoch\": 7, \"model\": 4}, \"Metrics\": {\"train_binary_classification_cross_entropy_objective\": {\"sum\": 0.3325015497207642, \"count\": 1, \"min\": 0.3325015497207642, \"max\": 0.3325015497207642}}}\u001b[0m\n",
      "\u001b[34m#metrics {\"StartTime\": 1687416947.7709854, \"EndTime\": 1687416947.7710016, \"Dimensions\": {\"Algorithm\": \"Linear Learner\", \"Host\": \"algo-1\", \"Operation\": \"training\", \"epoch\": 7, \"model\": 5}, \"Metrics\": {\"train_binary_classification_cross_entropy_objective\": {\"sum\": 0.3328557515144348, \"count\": 1, \"min\": 0.3328557515144348, \"max\": 0.3328557515144348}}}\u001b[0m\n",
      "\u001b[34m#metrics {\"StartTime\": 1687416947.7710629, \"EndTime\": 1687416947.7710795, \"Dimensions\": {\"Algorithm\": \"Linear Learner\", \"Host\": \"algo-1\", \"Operation\": \"training\", \"epoch\": 7, \"model\": 6}, \"Metrics\": {\"train_binary_classification_cross_entropy_objective\": {\"sum\": 0.33238107442855835, \"count\": 1, \"min\": 0.33238107442855835, \"max\": 0.33238107442855835}}}\u001b[0m\n",
      "\u001b[34m#metrics {\"StartTime\": 1687416947.7711446, \"EndTime\": 1687416947.7711606, \"Dimensions\": {\"Algorithm\": \"Linear Learner\", \"Host\": \"algo-1\", \"Operation\": \"training\", \"epoch\": 7, \"model\": 7}, \"Metrics\": {\"train_binary_classification_cross_entropy_objective\": {\"sum\": 0.33267016887664796, \"count\": 1, \"min\": 0.33267016887664796, \"max\": 0.33267016887664796}}}\u001b[0m\n",
      "\u001b[34m#metrics {\"StartTime\": 1687416947.771209, \"EndTime\": 1687416947.7712219, \"Dimensions\": {\"Algorithm\": \"Linear Learner\", \"Host\": \"algo-1\", \"Operation\": \"training\", \"epoch\": 7, \"model\": 8}, \"Metrics\": {\"train_binary_classification_cross_entropy_objective\": {\"sum\": 0.44781983852386475, \"count\": 1, \"min\": 0.44781983852386475, \"max\": 0.44781983852386475}}}\u001b[0m\n",
      "\u001b[34m#metrics {\"StartTime\": 1687416947.7712686, \"EndTime\": 1687416947.771282, \"Dimensions\": {\"Algorithm\": \"Linear Learner\", \"Host\": \"algo-1\", \"Operation\": \"training\", \"epoch\": 7, \"model\": 9}, \"Metrics\": {\"train_binary_classification_cross_entropy_objective\": {\"sum\": 0.4340567111968994, \"count\": 1, \"min\": 0.4340567111968994, \"max\": 0.4340567111968994}}}\u001b[0m\n",
      "\u001b[34m#metrics {\"StartTime\": 1687416947.7713308, \"EndTime\": 1687416947.771347, \"Dimensions\": {\"Algorithm\": \"Linear Learner\", \"Host\": \"algo-1\", \"Operation\": \"training\", \"epoch\": 7, \"model\": 10}, \"Metrics\": {\"train_binary_classification_cross_entropy_objective\": {\"sum\": 0.43929481983184815, \"count\": 1, \"min\": 0.43929481983184815, \"max\": 0.43929481983184815}}}\u001b[0m\n",
      "\u001b[34m#metrics {\"StartTime\": 1687416947.7714036, \"EndTime\": 1687416947.7714205, \"Dimensions\": {\"Algorithm\": \"Linear Learner\", \"Host\": \"algo-1\", \"Operation\": \"training\", \"epoch\": 7, \"model\": 11}, \"Metrics\": {\"train_binary_classification_cross_entropy_objective\": {\"sum\": 0.44307276248931887, \"count\": 1, \"min\": 0.44307276248931887, \"max\": 0.44307276248931887}}}\u001b[0m\n",
      "\u001b[34m#metrics {\"StartTime\": 1687416947.7714708, \"EndTime\": 1687416947.7714853, \"Dimensions\": {\"Algorithm\": \"Linear Learner\", \"Host\": \"algo-1\", \"Operation\": \"training\", \"epoch\": 7, \"model\": 12}, \"Metrics\": {\"train_binary_classification_cross_entropy_objective\": {\"sum\": 0.3365513443946838, \"count\": 1, \"min\": 0.3365513443946838, \"max\": 0.3365513443946838}}}\u001b[0m\n",
      "\u001b[34m#metrics {\"StartTime\": 1687416947.7715452, \"EndTime\": 1687416947.7715611, \"Dimensions\": {\"Algorithm\": \"Linear Learner\", \"Host\": \"algo-1\", \"Operation\": \"training\", \"epoch\": 7, \"model\": 13}, \"Metrics\": {\"train_binary_classification_cross_entropy_objective\": {\"sum\": 0.33641278505325317, \"count\": 1, \"min\": 0.33641278505325317, \"max\": 0.33641278505325317}}}\u001b[0m\n",
      "\u001b[34m#metrics {\"StartTime\": 1687416947.771617, \"EndTime\": 1687416947.7716339, \"Dimensions\": {\"Algorithm\": \"Linear Learner\", \"Host\": \"algo-1\", \"Operation\": \"training\", \"epoch\": 7, \"model\": 14}, \"Metrics\": {\"train_binary_classification_cross_entropy_objective\": {\"sum\": 0.33655697107315063, \"count\": 1, \"min\": 0.33655697107315063, \"max\": 0.33655697107315063}}}\u001b[0m\n",
      "\u001b[34m#metrics {\"StartTime\": 1687416947.7716866, \"EndTime\": 1687416947.771703, \"Dimensions\": {\"Algorithm\": \"Linear Learner\", \"Host\": \"algo-1\", \"Operation\": \"training\", \"epoch\": 7, \"model\": 15}, \"Metrics\": {\"train_binary_classification_cross_entropy_objective\": {\"sum\": 0.33661837100982667, \"count\": 1, \"min\": 0.33661837100982667, \"max\": 0.33661837100982667}}}\u001b[0m\n",
      "\u001b[34m#metrics {\"StartTime\": 1687416947.7717602, \"EndTime\": 1687416947.771777, \"Dimensions\": {\"Algorithm\": \"Linear Learner\", \"Host\": \"algo-1\", \"Operation\": \"training\", \"epoch\": 7, \"model\": 16}, \"Metrics\": {\"train_binary_classification_cross_entropy_objective\": {\"sum\": 0.5202175378799438, \"count\": 1, \"min\": 0.5202175378799438, \"max\": 0.5202175378799438}}}\u001b[0m\n",
      "\u001b[34m#metrics {\"StartTime\": 1687416947.7718275, \"EndTime\": 1687416947.7718434, \"Dimensions\": {\"Algorithm\": \"Linear Learner\", \"Host\": \"algo-1\", \"Operation\": \"training\", \"epoch\": 7, \"model\": 17}, \"Metrics\": {\"train_binary_classification_cross_entropy_objective\": {\"sum\": 0.5210494947433472, \"count\": 1, \"min\": 0.5210494947433472, \"max\": 0.5210494947433472}}}\u001b[0m\n",
      "\u001b[34m#metrics {\"StartTime\": 1687416947.7718942, \"EndTime\": 1687416947.7719076, \"Dimensions\": {\"Algorithm\": \"Linear Learner\", \"Host\": \"algo-1\", \"Operation\": \"training\", \"epoch\": 7, \"model\": 18}, \"Metrics\": {\"train_binary_classification_cross_entropy_objective\": {\"sum\": 0.524308443069458, \"count\": 1, \"min\": 0.524308443069458, \"max\": 0.524308443069458}}}\u001b[0m\n",
      "\u001b[34m#metrics {\"StartTime\": 1687416947.7719545, \"EndTime\": 1687416947.771969, \"Dimensions\": {\"Algorithm\": \"Linear Learner\", \"Host\": \"algo-1\", \"Operation\": \"training\", \"epoch\": 7, \"model\": 19}, \"Metrics\": {\"train_binary_classification_cross_entropy_objective\": {\"sum\": 0.523821611404419, \"count\": 1, \"min\": 0.523821611404419, \"max\": 0.523821611404419}}}\u001b[0m\n",
      "\u001b[34m#metrics {\"StartTime\": 1687416947.7720234, \"EndTime\": 1687416947.7720385, \"Dimensions\": {\"Algorithm\": \"Linear Learner\", \"Host\": \"algo-1\", \"Operation\": \"training\", \"epoch\": 7, \"model\": 20}, \"Metrics\": {\"train_binary_classification_cross_entropy_objective\": {\"sum\": 0.5294429588317872, \"count\": 1, \"min\": 0.5294429588317872, \"max\": 0.5294429588317872}}}\u001b[0m\n",
      "\u001b[34m#metrics {\"StartTime\": 1687416947.7720854, \"EndTime\": 1687416947.7721012, \"Dimensions\": {\"Algorithm\": \"Linear Learner\", \"Host\": \"algo-1\", \"Operation\": \"training\", \"epoch\": 7, \"model\": 21}, \"Metrics\": {\"train_binary_classification_cross_entropy_objective\": {\"sum\": 0.5278915357589722, \"count\": 1, \"min\": 0.5278915357589722, \"max\": 0.5278915357589722}}}\u001b[0m\n",
      "\u001b[34m#metrics {\"StartTime\": 1687416947.7721508, \"EndTime\": 1687416947.772165, \"Dimensions\": {\"Algorithm\": \"Linear Learner\", \"Host\": \"algo-1\", \"Operation\": \"training\", \"epoch\": 7, \"model\": 22}, \"Metrics\": {\"train_binary_classification_cross_entropy_objective\": {\"sum\": 0.5279961156845093, \"count\": 1, \"min\": 0.5279961156845093, \"max\": 0.5279961156845093}}}\u001b[0m\n",
      "\u001b[34m#metrics {\"StartTime\": 1687416947.7722163, \"EndTime\": 1687416947.7722297, \"Dimensions\": {\"Algorithm\": \"Linear Learner\", \"Host\": \"algo-1\", \"Operation\": \"training\", \"epoch\": 7, \"model\": 23}, \"Metrics\": {\"train_binary_classification_cross_entropy_objective\": {\"sum\": 0.5273300790786744, \"count\": 1, \"min\": 0.5273300790786744, \"max\": 0.5273300790786744}}}\u001b[0m\n",
      "\u001b[34m#metrics {\"StartTime\": 1687416947.772276, \"EndTime\": 1687416947.7722905, \"Dimensions\": {\"Algorithm\": \"Linear Learner\", \"Host\": \"algo-1\", \"Operation\": \"training\", \"epoch\": 7, \"model\": 24}, \"Metrics\": {\"train_binary_classification_cross_entropy_objective\": {\"sum\": 0.6889359474182128, \"count\": 1, \"min\": 0.6889359474182128, \"max\": 0.6889359474182128}}}\u001b[0m\n",
      "\u001b[34m#metrics {\"StartTime\": 1687416947.7723446, \"EndTime\": 1687416947.7723594, \"Dimensions\": {\"Algorithm\": \"Linear Learner\", \"Host\": \"algo-1\", \"Operation\": \"training\", \"epoch\": 7, \"model\": 25}, \"Metrics\": {\"train_binary_classification_cross_entropy_objective\": {\"sum\": 0.6888406372070313, \"count\": 1, \"min\": 0.6888406372070313, \"max\": 0.6888406372070313}}}\u001b[0m\n",
      "\u001b[34m#metrics {\"StartTime\": 1687416947.7724078, \"EndTime\": 1687416947.7724233, \"Dimensions\": {\"Algorithm\": \"Linear Learner\", \"Host\": \"algo-1\", \"Operation\": \"training\", \"epoch\": 7, \"model\": 26}, \"Metrics\": {\"train_binary_classification_cross_entropy_objective\": {\"sum\": 0.689676570892334, \"count\": 1, \"min\": 0.689676570892334, \"max\": 0.689676570892334}}}\u001b[0m\n",
      "\u001b[34m#metrics {\"StartTime\": 1687416947.7724822, \"EndTime\": 1687416947.772498, \"Dimensions\": {\"Algorithm\": \"Linear Learner\", \"Host\": \"algo-1\", \"Operation\": \"training\", \"epoch\": 7, \"model\": 27}, \"Metrics\": {\"train_binary_classification_cross_entropy_objective\": {\"sum\": 0.6899337577819824, \"count\": 1, \"min\": 0.6899337577819824, \"max\": 0.6899337577819824}}}\u001b[0m\n",
      "\u001b[34m#metrics {\"StartTime\": 1687416947.7725527, \"EndTime\": 1687416947.7725682, \"Dimensions\": {\"Algorithm\": \"Linear Learner\", \"Host\": \"algo-1\", \"Operation\": \"training\", \"epoch\": 7, \"model\": 28}, \"Metrics\": {\"train_binary_classification_cross_entropy_objective\": {\"sum\": 0.6910688400268554, \"count\": 1, \"min\": 0.6910688400268554, \"max\": 0.6910688400268554}}}\u001b[0m\n",
      "\u001b[34m#metrics {\"StartTime\": 1687416947.7726169, \"EndTime\": 1687416947.7726314, \"Dimensions\": {\"Algorithm\": \"Linear Learner\", \"Host\": \"algo-1\", \"Operation\": \"training\", \"epoch\": 7, \"model\": 29}, \"Metrics\": {\"train_binary_classification_cross_entropy_objective\": {\"sum\": 0.6910999774932861, \"count\": 1, \"min\": 0.6910999774932861, \"max\": 0.6910999774932861}}}\u001b[0m\n",
      "\u001b[34m#metrics {\"StartTime\": 1687416947.772687, \"EndTime\": 1687416947.772702, \"Dimensions\": {\"Algorithm\": \"Linear Learner\", \"Host\": \"algo-1\", \"Operation\": \"training\", \"epoch\": 7, \"model\": 30}, \"Metrics\": {\"train_binary_classification_cross_entropy_objective\": {\"sum\": 0.6907883644104004, \"count\": 1, \"min\": 0.6907883644104004, \"max\": 0.6907883644104004}}}\u001b[0m\n",
      "\u001b[34m#metrics {\"StartTime\": 1687416947.7727509, \"EndTime\": 1687416947.7727656, \"Dimensions\": {\"Algorithm\": \"Linear Learner\", \"Host\": \"algo-1\", \"Operation\": \"training\", \"epoch\": 7, \"model\": 31}, \"Metrics\": {\"train_binary_classification_cross_entropy_objective\": {\"sum\": 0.6916573333740235, \"count\": 1, \"min\": 0.6916573333740235, \"max\": 0.6916573333740235}}}\u001b[0m\n",
      "\u001b[34m[06/22/2023 06:55:47 INFO 139895614142272] #quality_metric: host=algo-1, epoch=7, train binary_classification_cross_entropy_objective <loss>=0.42290297508239744\u001b[0m\n",
      "\u001b[34m[06/22/2023 06:55:47 INFO 139895614142272] #early_stopping_criteria_metric: host=algo-1, epoch=7, criteria=binary_classification_cross_entropy_objective, value=0.33238107442855835\u001b[0m\n",
      "\u001b[34m[06/22/2023 06:55:47 INFO 139895614142272] Saving model for epoch: 7\u001b[0m\n",
      "\u001b[34m[06/22/2023 06:55:47 INFO 139895614142272] Saved checkpoint to \"/tmp/tmph84njes5/mx-mod-0000.params\"\u001b[0m\n",
      "\u001b[34m[06/22/2023 06:55:47 INFO 139895614142272] #progress_metric: host=algo-1, completed 53.333333333333336 % of epochs\u001b[0m\n",
      "\u001b[34m#metrics {\"StartTime\": 1687416947.4876764, \"EndTime\": 1687416947.7851617, \"Dimensions\": {\"Algorithm\": \"Linear Learner\", \"Host\": \"algo-1\", \"Operation\": \"training\", \"epoch\": 7, \"Meta\": \"training_data_iter\"}, \"Metrics\": {\"Total Records Seen\": {\"sum\": 7480.0, \"count\": 1, \"min\": 7480, \"max\": 7480}, \"Total Batches Seen\": {\"sum\": 82.0, \"count\": 1, \"min\": 82, \"max\": 82}, \"Max Records Seen Between Resets\": {\"sum\": 820.0, \"count\": 1, \"min\": 820, \"max\": 820}, \"Max Batches Seen Between Resets\": {\"sum\": 9.0, \"count\": 1, \"min\": 9, \"max\": 9}, \"Reset Count\": {\"sum\": 10.0, \"count\": 1, \"min\": 10, \"max\": 10}, \"Number of Records Since Last Reset\": {\"sum\": 820.0, \"count\": 1, \"min\": 820, \"max\": 820}, \"Number of Batches Since Last Reset\": {\"sum\": 9.0, \"count\": 1, \"min\": 9, \"max\": 9}}}\u001b[0m\n",
      "\u001b[34m[06/22/2023 06:55:47 INFO 139895614142272] #throughput_metric: host=algo-1, train throughput=2754.608084589367 records/second\u001b[0m\n",
      "\u001b[34m[2023-06-22 06:55:48.132] [tensorio] [info] epoch_stats={\"data_pipeline\": \"/opt/ml/input/data/train\", \"epoch\": 20, \"duration\": 347, \"num_examples\": 9, \"num_bytes\": 78720}\u001b[0m\n",
      "\u001b[34m#metrics {\"StartTime\": 1687416948.1330202, \"EndTime\": 1687416948.1331272, \"Dimensions\": {\"Algorithm\": \"Linear Learner\", \"Host\": \"algo-1\", \"Operation\": \"training\", \"epoch\": 8, \"model\": 0}, \"Metrics\": {\"train_binary_classification_cross_entropy_objective\": {\"sum\": 0.4115153789520264, \"count\": 1, \"min\": 0.4115153789520264, \"max\": 0.4115153789520264}}}\u001b[0m\n",
      "\u001b[34m#metrics {\"StartTime\": 1687416948.1332426, \"EndTime\": 1687416948.133266, \"Dimensions\": {\"Algorithm\": \"Linear Learner\", \"Host\": \"algo-1\", \"Operation\": \"training\", \"epoch\": 8, \"model\": 1}, \"Metrics\": {\"train_binary_classification_cross_entropy_objective\": {\"sum\": 0.4182129430770874, \"count\": 1, \"min\": 0.4182129430770874, \"max\": 0.4182129430770874}}}\u001b[0m\n",
      "\u001b[34m#metrics {\"StartTime\": 1687416948.133327, \"EndTime\": 1687416948.1333456, \"Dimensions\": {\"Algorithm\": \"Linear Learner\", \"Host\": \"algo-1\", \"Operation\": \"training\", \"epoch\": 8, \"model\": 2}, \"Metrics\": {\"train_binary_classification_cross_entropy_objective\": {\"sum\": 0.4210211801528931, \"count\": 1, \"min\": 0.4210211801528931, \"max\": 0.4210211801528931}}}\u001b[0m\n",
      "\u001b[34m#metrics {\"StartTime\": 1687416948.133427, \"EndTime\": 1687416948.133445, \"Dimensions\": {\"Algorithm\": \"Linear Learner\", \"Host\": \"algo-1\", \"Operation\": \"training\", \"epoch\": 8, \"model\": 3}, \"Metrics\": {\"train_binary_classification_cross_entropy_objective\": {\"sum\": 0.426087007522583, \"count\": 1, \"min\": 0.426087007522583, \"max\": 0.426087007522583}}}\u001b[0m\n",
      "\u001b[34m#metrics {\"StartTime\": 1687416948.1334991, \"EndTime\": 1687416948.1335154, \"Dimensions\": {\"Algorithm\": \"Linear Learner\", \"Host\": \"algo-1\", \"Operation\": \"training\", \"epoch\": 8, \"model\": 4}, \"Metrics\": {\"train_binary_classification_cross_entropy_objective\": {\"sum\": 0.33237132072448733, \"count\": 1, \"min\": 0.33237132072448733, \"max\": 0.33237132072448733}}}\u001b[0m\n",
      "\u001b[34m#metrics {\"StartTime\": 1687416948.13358, \"EndTime\": 1687416948.1335976, \"Dimensions\": {\"Algorithm\": \"Linear Learner\", \"Host\": \"algo-1\", \"Operation\": \"training\", \"epoch\": 8, \"model\": 5}, \"Metrics\": {\"train_binary_classification_cross_entropy_objective\": {\"sum\": 0.33262253761291505, \"count\": 1, \"min\": 0.33262253761291505, \"max\": 0.33262253761291505}}}\u001b[0m\n",
      "\u001b[34m#metrics {\"StartTime\": 1687416948.1336482, \"EndTime\": 1687416948.1336648, \"Dimensions\": {\"Algorithm\": \"Linear Learner\", \"Host\": \"algo-1\", \"Operation\": \"training\", \"epoch\": 8, \"model\": 6}, \"Metrics\": {\"train_binary_classification_cross_entropy_objective\": {\"sum\": 0.3324149179458618, \"count\": 1, \"min\": 0.3324149179458618, \"max\": 0.3324149179458618}}}\u001b[0m\n",
      "\u001b[34m#metrics {\"StartTime\": 1687416948.1337101, \"EndTime\": 1687416948.1337245, \"Dimensions\": {\"Algorithm\": \"Linear Learner\", \"Host\": \"algo-1\", \"Operation\": \"training\", \"epoch\": 8, \"model\": 7}, \"Metrics\": {\"train_binary_classification_cross_entropy_objective\": {\"sum\": 0.33257739067077635, \"count\": 1, \"min\": 0.33257739067077635, \"max\": 0.33257739067077635}}}\u001b[0m\n",
      "\u001b[34m#metrics {\"StartTime\": 1687416948.1337748, \"EndTime\": 1687416948.133791, \"Dimensions\": {\"Algorithm\": \"Linear Learner\", \"Host\": \"algo-1\", \"Operation\": \"training\", \"epoch\": 8, \"model\": 8}, \"Metrics\": {\"train_binary_classification_cross_entropy_objective\": {\"sum\": 0.43368345260620117, \"count\": 1, \"min\": 0.43368345260620117, \"max\": 0.43368345260620117}}}\u001b[0m\n",
      "\u001b[34m#metrics {\"StartTime\": 1687416948.133843, \"EndTime\": 1687416948.133859, \"Dimensions\": {\"Algorithm\": \"Linear Learner\", \"Host\": \"algo-1\", \"Operation\": \"training\", \"epoch\": 8, \"model\": 9}, \"Metrics\": {\"train_binary_classification_cross_entropy_objective\": {\"sum\": 0.42047789573669436, \"count\": 1, \"min\": 0.42047789573669436, \"max\": 0.42047789573669436}}}\u001b[0m\n",
      "\u001b[34m#metrics {\"StartTime\": 1687416948.133924, \"EndTime\": 1687416948.1339412, \"Dimensions\": {\"Algorithm\": \"Linear Learner\", \"Host\": \"algo-1\", \"Operation\": \"training\", \"epoch\": 8, \"model\": 10}, \"Metrics\": {\"train_binary_classification_cross_entropy_objective\": {\"sum\": 0.42629734516143797, \"count\": 1, \"min\": 0.42629734516143797, \"max\": 0.42629734516143797}}}\u001b[0m\n",
      "\u001b[34m#metrics {\"StartTime\": 1687416948.1339993, \"EndTime\": 1687416948.1340163, \"Dimensions\": {\"Algorithm\": \"Linear Learner\", \"Host\": \"algo-1\", \"Operation\": \"training\", \"epoch\": 8, \"model\": 11}, \"Metrics\": {\"train_binary_classification_cross_entropy_objective\": {\"sum\": 0.4287224006652832, \"count\": 1, \"min\": 0.4287224006652832, \"max\": 0.4287224006652832}}}\u001b[0m\n",
      "\u001b[34m#metrics {\"StartTime\": 1687416948.1340628, \"EndTime\": 1687416948.134078, \"Dimensions\": {\"Algorithm\": \"Linear Learner\", \"Host\": \"algo-1\", \"Operation\": \"training\", \"epoch\": 8, \"model\": 12}, \"Metrics\": {\"train_binary_classification_cross_entropy_objective\": {\"sum\": 0.3347451972961426, \"count\": 1, \"min\": 0.3347451972961426, \"max\": 0.3347451972961426}}}\u001b[0m\n",
      "\u001b[34m#metrics {\"StartTime\": 1687416948.134138, \"EndTime\": 1687416948.1341565, \"Dimensions\": {\"Algorithm\": \"Linear Learner\", \"Host\": \"algo-1\", \"Operation\": \"training\", \"epoch\": 8, \"model\": 13}, \"Metrics\": {\"train_binary_classification_cross_entropy_objective\": {\"sum\": 0.3346190667152405, \"count\": 1, \"min\": 0.3346190667152405, \"max\": 0.3346190667152405}}}\u001b[0m\n",
      "\u001b[34m#metrics {\"StartTime\": 1687416948.1342008, \"EndTime\": 1687416948.1342158, \"Dimensions\": {\"Algorithm\": \"Linear Learner\", \"Host\": \"algo-1\", \"Operation\": \"training\", \"epoch\": 8, \"model\": 14}, \"Metrics\": {\"train_binary_classification_cross_entropy_objective\": {\"sum\": 0.33502076625823973, \"count\": 1, \"min\": 0.33502076625823973, \"max\": 0.33502076625823973}}}\u001b[0m\n",
      "\u001b[34m#metrics {\"StartTime\": 1687416948.134266, \"EndTime\": 1687416948.1342826, \"Dimensions\": {\"Algorithm\": \"Linear Learner\", \"Host\": \"algo-1\", \"Operation\": \"training\", \"epoch\": 8, \"model\": 15}, \"Metrics\": {\"train_binary_classification_cross_entropy_objective\": {\"sum\": 0.33479742527008055, \"count\": 1, \"min\": 0.33479742527008055, \"max\": 0.33479742527008055}}}\u001b[0m\n",
      "\u001b[34m#metrics {\"StartTime\": 1687416948.1343281, \"EndTime\": 1687416948.1343443, \"Dimensions\": {\"Algorithm\": \"Linear Learner\", \"Host\": \"algo-1\", \"Operation\": \"training\", \"epoch\": 8, \"model\": 16}, \"Metrics\": {\"train_binary_classification_cross_entropy_objective\": {\"sum\": 0.5216458463668823, \"count\": 1, \"min\": 0.5216458463668823, \"max\": 0.5216458463668823}}}\u001b[0m\n",
      "\u001b[34m#metrics {\"StartTime\": 1687416948.1343875, \"EndTime\": 1687416948.1344032, \"Dimensions\": {\"Algorithm\": \"Linear Learner\", \"Host\": \"algo-1\", \"Operation\": \"training\", \"epoch\": 8, \"model\": 17}, \"Metrics\": {\"train_binary_classification_cross_entropy_objective\": {\"sum\": 0.5227504062652588, \"count\": 1, \"min\": 0.5227504062652588, \"max\": 0.5227504062652588}}}\u001b[0m\n",
      "\u001b[34m#metrics {\"StartTime\": 1687416948.1344514, \"EndTime\": 1687416948.134468, \"Dimensions\": {\"Algorithm\": \"Linear Learner\", \"Host\": \"algo-1\", \"Operation\": \"training\", \"epoch\": 8, \"model\": 18}, \"Metrics\": {\"train_binary_classification_cross_entropy_objective\": {\"sum\": 0.5249162340164184, \"count\": 1, \"min\": 0.5249162340164184, \"max\": 0.5249162340164184}}}\u001b[0m\n",
      "\u001b[34m#metrics {\"StartTime\": 1687416948.134511, \"EndTime\": 1687416948.1345272, \"Dimensions\": {\"Algorithm\": \"Linear Learner\", \"Host\": \"algo-1\", \"Operation\": \"training\", \"epoch\": 8, \"model\": 19}, \"Metrics\": {\"train_binary_classification_cross_entropy_objective\": {\"sum\": 0.5243369197845459, \"count\": 1, \"min\": 0.5243369197845459, \"max\": 0.5243369197845459}}}\u001b[0m\n",
      "\u001b[34m#metrics {\"StartTime\": 1687416948.134571, \"EndTime\": 1687416948.1345863, \"Dimensions\": {\"Algorithm\": \"Linear Learner\", \"Host\": \"algo-1\", \"Operation\": \"training\", \"epoch\": 8, \"model\": 20}, \"Metrics\": {\"train_binary_classification_cross_entropy_objective\": {\"sum\": 0.5279947805404663, \"count\": 1, \"min\": 0.5279947805404663, \"max\": 0.5279947805404663}}}\u001b[0m\n",
      "\u001b[34m#metrics {\"StartTime\": 1687416948.1346338, \"EndTime\": 1687416948.1346505, \"Dimensions\": {\"Algorithm\": \"Linear Learner\", \"Host\": \"algo-1\", \"Operation\": \"training\", \"epoch\": 8, \"model\": 21}, \"Metrics\": {\"train_binary_classification_cross_entropy_objective\": {\"sum\": 0.5293881225585938, \"count\": 1, \"min\": 0.5293881225585938, \"max\": 0.5293881225585938}}}\u001b[0m\n",
      "\u001b[34m#metrics {\"StartTime\": 1687416948.134694, \"EndTime\": 1687416948.1347098, \"Dimensions\": {\"Algorithm\": \"Linear Learner\", \"Host\": \"algo-1\", \"Operation\": \"training\", \"epoch\": 8, \"model\": 22}, \"Metrics\": {\"train_binary_classification_cross_entropy_objective\": {\"sum\": 0.5282922458648681, \"count\": 1, \"min\": 0.5282922458648681, \"max\": 0.5282922458648681}}}\u001b[0m\n",
      "\u001b[34m#metrics {\"StartTime\": 1687416948.134767, \"EndTime\": 1687416948.1347833, \"Dimensions\": {\"Algorithm\": \"Linear Learner\", \"Host\": \"algo-1\", \"Operation\": \"training\", \"epoch\": 8, \"model\": 23}, \"Metrics\": {\"train_binary_classification_cross_entropy_objective\": {\"sum\": 0.5291201305389405, \"count\": 1, \"min\": 0.5291201305389405, \"max\": 0.5291201305389405}}}\u001b[0m\n",
      "\u001b[34m#metrics {\"StartTime\": 1687416948.1348329, \"EndTime\": 1687416948.1348495, \"Dimensions\": {\"Algorithm\": \"Linear Learner\", \"Host\": \"algo-1\", \"Operation\": \"training\", \"epoch\": 8, \"model\": 24}, \"Metrics\": {\"train_binary_classification_cross_entropy_objective\": {\"sum\": 0.689415283203125, \"count\": 1, \"min\": 0.689415283203125, \"max\": 0.689415283203125}}}\u001b[0m\n",
      "\u001b[34m#metrics {\"StartTime\": 1687416948.1348898, \"EndTime\": 1687416948.1349046, \"Dimensions\": {\"Algorithm\": \"Linear Learner\", \"Host\": \"algo-1\", \"Operation\": \"training\", \"epoch\": 8, \"model\": 25}, \"Metrics\": {\"train_binary_classification_cross_entropy_objective\": {\"sum\": 0.6895032596588134, \"count\": 1, \"min\": 0.6895032596588134, \"max\": 0.6895032596588134}}}\u001b[0m\n",
      "\u001b[34m#metrics {\"StartTime\": 1687416948.1349611, \"EndTime\": 1687416948.1349778, \"Dimensions\": {\"Algorithm\": \"Linear Learner\", \"Host\": \"algo-1\", \"Operation\": \"training\", \"epoch\": 8, \"model\": 26}, \"Metrics\": {\"train_binary_classification_cross_entropy_objective\": {\"sum\": 0.6897328186035157, \"count\": 1, \"min\": 0.6897328186035157, \"max\": 0.6897328186035157}}}\u001b[0m\n",
      "\u001b[34m#metrics {\"StartTime\": 1687416948.1350265, \"EndTime\": 1687416948.135043, \"Dimensions\": {\"Algorithm\": \"Linear Learner\", \"Host\": \"algo-1\", \"Operation\": \"training\", \"epoch\": 8, \"model\": 27}, \"Metrics\": {\"train_binary_classification_cross_entropy_objective\": {\"sum\": 0.6891935920715332, \"count\": 1, \"min\": 0.6891935920715332, \"max\": 0.6891935920715332}}}\u001b[0m\n",
      "\u001b[34m#metrics {\"StartTime\": 1687416948.1350965, \"EndTime\": 1687416948.135113, \"Dimensions\": {\"Algorithm\": \"Linear Learner\", \"Host\": \"algo-1\", \"Operation\": \"training\", \"epoch\": 8, \"model\": 28}, \"Metrics\": {\"train_binary_classification_cross_entropy_objective\": {\"sum\": 0.6919668102264405, \"count\": 1, \"min\": 0.6919668102264405, \"max\": 0.6919668102264405}}}\u001b[0m\n",
      "\u001b[34m#metrics {\"StartTime\": 1687416948.1351721, \"EndTime\": 1687416948.1351879, \"Dimensions\": {\"Algorithm\": \"Linear Learner\", \"Host\": \"algo-1\", \"Operation\": \"training\", \"epoch\": 8, \"model\": 29}, \"Metrics\": {\"train_binary_classification_cross_entropy_objective\": {\"sum\": 0.6914952754974365, \"count\": 1, \"min\": 0.6914952754974365, \"max\": 0.6914952754974365}}}\u001b[0m\n",
      "\u001b[34m#metrics {\"StartTime\": 1687416948.1352396, \"EndTime\": 1687416948.135255, \"Dimensions\": {\"Algorithm\": \"Linear Learner\", \"Host\": \"algo-1\", \"Operation\": \"training\", \"epoch\": 8, \"model\": 30}, \"Metrics\": {\"train_binary_classification_cross_entropy_objective\": {\"sum\": 0.691383171081543, \"count\": 1, \"min\": 0.691383171081543, \"max\": 0.691383171081543}}}\u001b[0m\n",
      "\u001b[34m#metrics {\"StartTime\": 1687416948.1353092, \"EndTime\": 1687416948.1353257, \"Dimensions\": {\"Algorithm\": \"Linear Learner\", \"Host\": \"algo-1\", \"Operation\": \"training\", \"epoch\": 8, \"model\": 31}, \"Metrics\": {\"train_binary_classification_cross_entropy_objective\": {\"sum\": 0.6917275714874268, \"count\": 1, \"min\": 0.6917275714874268, \"max\": 0.6917275714874268}}}\u001b[0m\n",
      "\u001b[34m[06/22/2023 06:55:48 INFO 139895614142272] #quality_metric: host=algo-1, epoch=8, train binary_classification_cross_entropy_objective <loss>=0.4115153789520264\u001b[0m\n",
      "\u001b[34m[06/22/2023 06:55:48 INFO 139895614142272] #early_stopping_criteria_metric: host=algo-1, epoch=8, criteria=binary_classification_cross_entropy_objective, value=0.33237132072448733\u001b[0m\n",
      "\u001b[34m[06/22/2023 06:55:48 INFO 139895614142272] Saving model for epoch: 8\u001b[0m\n",
      "\u001b[34m[06/22/2023 06:55:48 INFO 139895614142272] Saved checkpoint to \"/tmp/tmp88iy0ixn/mx-mod-0000.params\"\u001b[0m\n",
      "\u001b[34m[06/22/2023 06:55:48 INFO 139895614142272] Early stop condition met. Stopping training.\u001b[0m\n",
      "\u001b[34m[06/22/2023 06:55:48 INFO 139895614142272] #progress_metric: host=algo-1, completed 100 % epochs\u001b[0m\n",
      "\u001b[34m#metrics {\"StartTime\": 1687416947.7856371, \"EndTime\": 1687416948.1454763, \"Dimensions\": {\"Algorithm\": \"Linear Learner\", \"Host\": \"algo-1\", \"Operation\": \"training\", \"epoch\": 8, \"Meta\": \"training_data_iter\"}, \"Metrics\": {\"Total Records Seen\": {\"sum\": 8300.0, \"count\": 1, \"min\": 8300, \"max\": 8300}, \"Total Batches Seen\": {\"sum\": 91.0, \"count\": 1, \"min\": 91, \"max\": 91}, \"Max Records Seen Between Resets\": {\"sum\": 820.0, \"count\": 1, \"min\": 820, \"max\": 820}, \"Max Batches Seen Between Resets\": {\"sum\": 9.0, \"count\": 1, \"min\": 9, \"max\": 9}, \"Reset Count\": {\"sum\": 11.0, \"count\": 1, \"min\": 11, \"max\": 11}, \"Number of Records Since Last Reset\": {\"sum\": 820.0, \"count\": 1, \"min\": 820, \"max\": 820}, \"Number of Batches Since Last Reset\": {\"sum\": 9.0, \"count\": 1, \"min\": 9, \"max\": 9}}}\u001b[0m\n",
      "\u001b[34m[06/22/2023 06:55:48 INFO 139895614142272] #throughput_metric: host=algo-1, train throughput=2278.0681129479776 records/second\u001b[0m\n",
      "\u001b[34m[06/22/2023 06:55:48 WARNING 139895614142272] wait_for_all_workers will not sync workers since the kv store is not running distributed\u001b[0m\n",
      "\u001b[34m[06/22/2023 06:55:48 WARNING 139895614142272] wait_for_all_workers will not sync workers since the kv store is not running distributed\u001b[0m\n",
      "\u001b[34m[2023-06-22 06:55:48.146] [tensorio] [info] epoch_stats={\"data_pipeline\": \"/opt/ml/input/data/train\", \"epoch\": 22, \"duration\": 0, \"num_examples\": 1, \"num_bytes\": 9600}\u001b[0m\n",
      "\u001b[34m[2023-06-22 06:55:48.292] [tensorio] [info] epoch_stats={\"data_pipeline\": \"/opt/ml/input/data/train\", \"epoch\": 25, \"duration\": 142, \"num_examples\": 9, \"num_bytes\": 78720}\u001b[0m\n",
      "\u001b[34m[2023-06-22 06:55:48.334] [tensorio] [info] epoch_stats={\"data_pipeline\": \"/opt/ml/input/data/train\", \"epoch\": 27, \"duration\": 30, \"num_examples\": 9, \"num_bytes\": 78720}\u001b[0m\n",
      "\u001b[34m[06/22/2023 06:55:48 INFO 139895614142272] #train_score (algo-1) : ('binary_classification_cross_entropy_objective', 0.3334779902202327)\u001b[0m\n",
      "\u001b[34m[06/22/2023 06:55:48 INFO 139895614142272] #train_score (algo-1) : ('binary_classification_accuracy', 0.874390243902439)\u001b[0m\n",
      "\u001b[34m[06/22/2023 06:55:48 INFO 139895614142272] #train_score (algo-1) : ('binary_f_1.000', 0.8830874006810443)\u001b[0m\n",
      "\u001b[34m[06/22/2023 06:55:48 INFO 139895614142272] #train_score (algo-1) : ('precision', 0.8493449781659389)\u001b[0m\n",
      "\u001b[34m[06/22/2023 06:55:48 INFO 139895614142272] #train_score (algo-1) : ('recall', 0.9196217494089834)\u001b[0m\n",
      "\u001b[34m[06/22/2023 06:55:48 INFO 139895614142272] #train_score (algo-1) : ('roc_auc_score', 0.934014565506071)\u001b[0m\n",
      "\u001b[34m[06/22/2023 06:55:48 INFO 139895614142272] #train_score (algo-1) : ('binary_balanced_accuracy', 0.5)\u001b[0m\n",
      "\u001b[34m[06/22/2023 06:55:48 INFO 139895614142272] #train_score (algo-1) : ('binary_log_loss', 0.5933688273286796)\u001b[0m\n",
      "\u001b[34m[06/22/2023 06:55:48 INFO 139895614142272] #quality_metric: host=algo-1, train binary_classification_cross_entropy_objective <loss>=0.3334779902202327\u001b[0m\n",
      "\u001b[34m[06/22/2023 06:55:48 INFO 139895614142272] #quality_metric: host=algo-1, train binary_classification_accuracy <score>=0.874390243902439\u001b[0m\n",
      "\u001b[34m[06/22/2023 06:55:48 INFO 139895614142272] #quality_metric: host=algo-1, train binary_f_1.000 <score>=0.8830874006810443\u001b[0m\n",
      "\u001b[34m[06/22/2023 06:55:48 INFO 139895614142272] #quality_metric: host=algo-1, train precision <score>=0.8493449781659389\u001b[0m\n",
      "\u001b[34m[06/22/2023 06:55:48 INFO 139895614142272] #quality_metric: host=algo-1, train recall <score>=0.9196217494089834\u001b[0m\n",
      "\u001b[34m[06/22/2023 06:55:48 INFO 139895614142272] #quality_metric: host=algo-1, train roc_auc_score <score>=0.934014565506071\u001b[0m\n",
      "\u001b[34m[06/22/2023 06:55:48 INFO 139895614142272] #quality_metric: host=algo-1, train binary_balanced_accuracy <score>=0.5\u001b[0m\n",
      "\u001b[34m[06/22/2023 06:55:48 INFO 139895614142272] #quality_metric: host=algo-1, train binary_log_loss <score>=0.5933688273286796\u001b[0m\n",
      "\u001b[34m[06/22/2023 06:55:48 INFO 139895614142272] Best model found for hyperparameters: {\"optimizer\": \"adam\", \"learning_rate\": 0.1, \"wd\": 0.01, \"l1\": 0.0, \"lr_scheduler_step\": 10, \"lr_scheduler_factor\": 0.99, \"lr_scheduler_minimum_lr\": 1e-05}\u001b[0m\n",
      "\u001b[34m[06/22/2023 06:55:48 INFO 139895614142272] Saved checkpoint to \"/tmp/tmp7hem4_r9/mx-mod-0000.params\"\u001b[0m\n",
      "\u001b[34m[06/22/2023 06:55:48 INFO 139895614142272] Test data is not provided.\u001b[0m\n",
      "\u001b[34m#metrics {\"StartTime\": 1687416944.9313352, \"EndTime\": 1687416948.3482168, \"Dimensions\": {\"Algorithm\": \"Linear Learner\", \"Host\": \"algo-1\", \"Operation\": \"training\"}, \"Metrics\": {\"initialize.time\": {\"sum\": 173.25830459594727, \"count\": 1, \"min\": 173.25830459594727, \"max\": 173.25830459594727}, \"epochs\": {\"sum\": 15.0, \"count\": 1, \"min\": 15, \"max\": 15}, \"check_early_stopping.time\": {\"sum\": 7.437705993652344, \"count\": 9, \"min\": 0.20742416381835938, \"max\": 1.5883445739746094}, \"update.time\": {\"sum\": 2992.0456409454346, \"count\": 9, \"min\": 278.14388275146484, \"max\": 393.49365234375}, \"finalize.time\": {\"sum\": 196.36797904968262, \"count\": 1, \"min\": 196.36797904968262, \"max\": 196.36797904968262}, \"setuptime\": {\"sum\": 2.6390552520751953, \"count\": 1, \"min\": 2.6390552520751953, \"max\": 2.6390552520751953}, \"totaltime\": {\"sum\": 3544.764280319214, \"count\": 1, \"min\": 3544.764280319214, \"max\": 3544.764280319214}}}\u001b[0m\n",
      "\n",
      "2023-06-22 06:56:06 Completed - Training job completed\n",
      "Training seconds: 222\n",
      "Billable seconds: 222\n"
     ]
    }
   ],
   "source": [
    "linear.fit({'train': s3_train_data})"
   ]
  },
  {
   "cell_type": "code",
   "execution_count": 30,
   "id": "b6d07f4c-4b84-4966-b0a8-80bf09265a6f",
   "metadata": {
    "tags": []
   },
   "outputs": [
    {
     "name": "stderr",
     "output_type": "stream",
     "text": [
      "INFO:sagemaker:Creating model with name: linear-learner-2023-06-22-06-59-28-839\n",
      "INFO:sagemaker:Creating endpoint-config with name linear-endpoint1\n",
      "INFO:sagemaker:Creating endpoint with name linear-endpoint1\n"
     ]
    },
    {
     "name": "stdout",
     "output_type": "stream",
     "text": [
      "-------!"
     ]
    }
   ],
   "source": [
    "endpoint_name = 'linear-endpoint1'\n",
    "linear_predictor = linear.deploy(initial_instance_count=1,\n",
    "                                       instance_type='ml.m4.xlarge',\n",
    "                                       endpoint_name=endpoint_name)"
   ]
  },
  {
   "cell_type": "code",
   "execution_count": 44,
   "id": "37e94fb5-a4a1-404d-9577-681c0fcecb79",
   "metadata": {
    "tags": []
   },
   "outputs": [
    {
     "name": "stderr",
     "output_type": "stream",
     "text": [
      "WARNING:sagemaker.deprecations:The class RealTimePredictor has been renamed in sagemaker>=2.\n",
      "See: https://sagemaker.readthedocs.io/en/stable/v2.html for details.\n",
      "WARNING:sagemaker.deprecations:content_type is a no-op in sagemaker>=2.\n",
      "See: https://sagemaker.readthedocs.io/en/stable/v2.html for details.\n"
     ]
    }
   ],
   "source": [
    "from sagemaker.predictor import RealTimePredictor\n",
    "from sagemaker.serializers import CSVSerializer\n",
    "from sagemaker.deserializers import JSONDeserializer\n",
    "\n",
    "linear_predictor = RealTimePredictor(endpoint_name, sess, content_type='text/csv')\n",
    "\n",
    "linear_predictor.serializer = CSVSerializer()\n",
    "linear_predictor.deserializer = JSONDeserializer()\n"
   ]
  },
  {
   "cell_type": "code",
   "execution_count": 45,
   "id": "62560617-ca1f-46db-bff8-d93b2102fde9",
   "metadata": {
    "tags": []
   },
   "outputs": [],
   "source": [
    "test_vectors = pd.read_csv(\"s3://preprocessoroutputs/Xtest.csv\", header=None)"
   ]
  },
  {
   "cell_type": "code",
   "execution_count": 46,
   "id": "b39d29e1-4ae4-4489-94ba-60d97bb3d6c5",
   "metadata": {
    "tags": []
   },
   "outputs": [
    {
     "data": {
      "text/html": [
       "<div>\n",
       "<style scoped>\n",
       "    .dataframe tbody tr th:only-of-type {\n",
       "        vertical-align: middle;\n",
       "    }\n",
       "\n",
       "    .dataframe tbody tr th {\n",
       "        vertical-align: top;\n",
       "    }\n",
       "\n",
       "    .dataframe thead th {\n",
       "        text-align: right;\n",
       "    }\n",
       "</style>\n",
       "<table border=\"1\" class=\"dataframe\">\n",
       "  <thead>\n",
       "    <tr style=\"text-align: right;\">\n",
       "      <th></th>\n",
       "      <th>0</th>\n",
       "      <th>1</th>\n",
       "      <th>2</th>\n",
       "      <th>3</th>\n",
       "      <th>4</th>\n",
       "      <th>5</th>\n",
       "      <th>6</th>\n",
       "      <th>7</th>\n",
       "      <th>8</th>\n",
       "      <th>9</th>\n",
       "      <th>10</th>\n",
       "      <th>11</th>\n",
       "      <th>12</th>\n",
       "    </tr>\n",
       "  </thead>\n",
       "  <tbody>\n",
       "    <tr>\n",
       "      <th>0</th>\n",
       "      <td>0.834359</td>\n",
       "      <td>0</td>\n",
       "      <td>0</td>\n",
       "      <td>-0.434752</td>\n",
       "      <td>0.189498</td>\n",
       "      <td>0</td>\n",
       "      <td>1</td>\n",
       "      <td>0.702290</td>\n",
       "      <td>0</td>\n",
       "      <td>0.000000</td>\n",
       "      <td>2</td>\n",
       "      <td>0</td>\n",
       "      <td>2</td>\n",
       "    </tr>\n",
       "    <tr>\n",
       "      <th>1</th>\n",
       "      <td>-0.158157</td>\n",
       "      <td>0</td>\n",
       "      <td>2</td>\n",
       "      <td>-0.206287</td>\n",
       "      <td>0.205479</td>\n",
       "      <td>0</td>\n",
       "      <td>0</td>\n",
       "      <td>0.335878</td>\n",
       "      <td>0</td>\n",
       "      <td>0.000000</td>\n",
       "      <td>2</td>\n",
       "      <td>0</td>\n",
       "      <td>0</td>\n",
       "    </tr>\n",
       "    <tr>\n",
       "      <th>2</th>\n",
       "      <td>0.062402</td>\n",
       "      <td>1</td>\n",
       "      <td>0</td>\n",
       "      <td>1.621431</td>\n",
       "      <td>0.372146</td>\n",
       "      <td>0</td>\n",
       "      <td>0</td>\n",
       "      <td>0.564885</td>\n",
       "      <td>1</td>\n",
       "      <td>0.129032</td>\n",
       "      <td>1</td>\n",
       "      <td>1</td>\n",
       "      <td>3</td>\n",
       "    </tr>\n",
       "    <tr>\n",
       "      <th>3</th>\n",
       "      <td>-0.488996</td>\n",
       "      <td>0</td>\n",
       "      <td>1</td>\n",
       "      <td>-0.663216</td>\n",
       "      <td>0.269406</td>\n",
       "      <td>0</td>\n",
       "      <td>1</td>\n",
       "      <td>0.694656</td>\n",
       "      <td>0</td>\n",
       "      <td>0.177419</td>\n",
       "      <td>2</td>\n",
       "      <td>0</td>\n",
       "      <td>2</td>\n",
       "    </tr>\n",
       "    <tr>\n",
       "      <th>4</th>\n",
       "      <td>-0.709555</td>\n",
       "      <td>1</td>\n",
       "      <td>0</td>\n",
       "      <td>-0.092055</td>\n",
       "      <td>0.296804</td>\n",
       "      <td>1</td>\n",
       "      <td>0</td>\n",
       "      <td>0.603053</td>\n",
       "      <td>1</td>\n",
       "      <td>0.000000</td>\n",
       "      <td>2</td>\n",
       "      <td>2</td>\n",
       "      <td>3</td>\n",
       "    </tr>\n",
       "  </tbody>\n",
       "</table>\n",
       "</div>"
      ],
      "text/plain": [
       "         0   1   2         3         4   5   6         7   8         9   10  \\\n",
       "0  0.834359   0   0 -0.434752  0.189498   0   1  0.702290   0  0.000000   2   \n",
       "1 -0.158157   0   2 -0.206287  0.205479   0   0  0.335878   0  0.000000   2   \n",
       "2  0.062402   1   0  1.621431  0.372146   0   0  0.564885   1  0.129032   1   \n",
       "3 -0.488996   0   1 -0.663216  0.269406   0   1  0.694656   0  0.177419   2   \n",
       "4 -0.709555   1   0 -0.092055  0.296804   1   0  0.603053   1  0.000000   2   \n",
       "\n",
       "   11  12  \n",
       "0   0   2  \n",
       "1   0   0  \n",
       "2   1   3  \n",
       "3   0   2  \n",
       "4   2   3  "
      ]
     },
     "execution_count": 46,
     "metadata": {},
     "output_type": "execute_result"
    }
   ],
   "source": [
    "test_vectors.head()"
   ]
  },
  {
   "cell_type": "code",
   "execution_count": 47,
   "id": "09f11aed-1769-47d3-97ae-1fec04267cbd",
   "metadata": {
    "tags": []
   },
   "outputs": [
    {
     "data": {
      "text/plain": [
       "0     0.062402\n",
       "1     1.000000\n",
       "2     0.000000\n",
       "3     1.621431\n",
       "4     0.372146\n",
       "5     0.000000\n",
       "6     0.000000\n",
       "7     0.564885\n",
       "8     1.000000\n",
       "9     0.129032\n",
       "10    1.000000\n",
       "11    1.000000\n",
       "12    3.000000\n",
       "Name: 2, dtype: float64"
      ]
     },
     "execution_count": 47,
     "metadata": {},
     "output_type": "execute_result"
    }
   ],
   "source": [
    "test_vectors.loc[2]"
   ]
  },
  {
   "cell_type": "code",
   "execution_count": 48,
   "id": "5d222010-a8fa-4729-842d-1eba2246ecd9",
   "metadata": {
    "tags": []
   },
   "outputs": [
    {
     "name": "stdout",
     "output_type": "stream",
     "text": [
      "{'predictions': [{'score': 0.027960801497101784, 'predicted_label': 0}]}\n"
     ]
    }
   ],
   "source": [
    "result = linear_predictor.predict(test_vectors.loc[2])\n",
    "print(result)"
   ]
  },
  {
   "cell_type": "code",
   "execution_count": null,
   "id": "ca3d1f4e-f4c5-4349-87c2-3bd37c742edb",
   "metadata": {
    "tags": []
   },
   "outputs": [],
   "source": [
    "import logging\n",
    "\n",
    "logging.getLogger('sagemaker.deprecations').setLevel(logging.WARNING)\n"
   ]
  },
  {
   "cell_type": "code",
   "execution_count": 49,
   "id": "1917f589-dc40-4bf0-8c3d-b3dec7d179f4",
   "metadata": {
    "tags": []
   },
   "outputs": [
    {
     "data": {
      "text/plain": [
       "(205, 13)"
      ]
     },
     "execution_count": 49,
     "metadata": {},
     "output_type": "execute_result"
    }
   ],
   "source": [
    "test_vectors.shape"
   ]
  },
  {
   "cell_type": "code",
   "execution_count": 50,
   "id": "24bc8789-f848-48d9-9f4f-896bcfae8d0a",
   "metadata": {
    "tags": []
   },
   "outputs": [],
   "source": [
    "import numpy as np\n",
    "predictions = []\n",
    "import warnings\n",
    "\n",
    "# Filter the deprecation warning\n",
    "\n",
    "for array in range(205):\n",
    "    result = linear_predictor.predict(test_vectors.loc[array])\n",
    "    predictions += [r['predicted_label'] for r in result['predictions']]\n",
    "\n",
    "predictions = np.array(predictions)\n"
   ]
  },
  {
   "cell_type": "code",
   "execution_count": 51,
   "id": "d4fcc2cc-6d6a-4b51-bb12-da72959b40e1",
   "metadata": {
    "tags": []
   },
   "outputs": [
    {
     "data": {
      "text/plain": [
       "array([1, 1, 0, 1, 0, 1, 0, 0, 1, 0, 1, 0, 1, 1, 0, 1, 0, 1, 1, 0, 1, 0,\n",
       "       0, 0, 1, 1, 1, 1, 0, 1, 1, 1, 0, 1, 1, 1, 1, 0, 1, 1, 0, 0, 1, 0,\n",
       "       0, 0, 0, 0, 1, 0, 1, 0, 1, 0, 1, 1, 0, 0, 1, 1, 1, 0, 0, 0, 0, 0,\n",
       "       1, 1, 0, 1, 1, 0, 0, 1, 1, 1, 0, 1, 1, 1, 0, 0, 0, 0, 1, 0, 1, 0,\n",
       "       0, 1, 1, 0, 1, 1, 1, 1, 1, 0, 0, 0, 0, 0, 1, 1, 0, 1, 0, 1, 0, 1,\n",
       "       1, 1, 1, 0, 1, 1, 1, 1, 1, 0, 0, 1, 0, 0, 0, 0, 1, 1, 1, 1, 1, 0,\n",
       "       1, 0, 0, 1, 0, 1, 1, 1, 1, 1, 1, 0, 1, 1, 1, 1, 1, 0, 0, 0, 1, 1,\n",
       "       0, 0, 1, 1, 0, 0, 1, 1, 0, 0, 0, 0, 0, 0, 0, 1, 0, 1, 1, 0, 1, 1,\n",
       "       1, 0, 1, 1, 1, 0, 1, 1, 1, 1, 1, 1, 1, 1, 1, 1, 1, 1, 0, 0, 1, 0,\n",
       "       1, 1, 1, 1, 1, 0, 0])"
      ]
     },
     "execution_count": 51,
     "metadata": {},
     "output_type": "execute_result"
    }
   ],
   "source": [
    "predictions"
   ]
  },
  {
   "cell_type": "code",
   "execution_count": 52,
   "id": "8d1def14-1f3a-46d9-b881-71066754e61c",
   "metadata": {
    "tags": []
   },
   "outputs": [],
   "source": [
    "original = pd.read_csv(\"s3://preprocessoroutputs/ytest.csv\", header=None)"
   ]
  },
  {
   "cell_type": "code",
   "execution_count": null,
   "id": "5b0e69dd-792c-4d0e-b85c-92d9bb4396d1",
   "metadata": {},
   "outputs": [],
   "source": []
  },
  {
   "cell_type": "code",
   "execution_count": 53,
   "id": "d0cce5d2-9145-4272-bbc3-1ca2d36f13a8",
   "metadata": {
    "tags": []
   },
   "outputs": [],
   "source": [
    "original = np.array(original).reshape(-1)"
   ]
  },
  {
   "cell_type": "code",
   "execution_count": 54,
   "id": "2e16834f-22a0-4fad-9ef1-e0508b6cad1d",
   "metadata": {
    "tags": []
   },
   "outputs": [
    {
     "data": {
      "text/plain": [
       "array([1, 1, 0, 1, 0, 1, 0, 0, 1, 0, 1, 0, 1, 1, 0, 0, 0, 1, 1, 0, 1, 0,\n",
       "       0, 0, 1, 1, 1, 1, 0, 0, 0, 1, 0, 1, 1, 1, 1, 1, 1, 1, 0, 0, 1, 0,\n",
       "       0, 0, 0, 0, 0, 1, 1, 0, 0, 0, 1, 1, 0, 0, 0, 1, 1, 1, 0, 1, 0, 0,\n",
       "       1, 0, 0, 1, 0, 0, 0, 1, 1, 1, 0, 0, 0, 1, 0, 0, 0, 0, 1, 0, 1, 0,\n",
       "       0, 0, 0, 0, 1, 1, 1, 1, 0, 0, 0, 0, 1, 0, 0, 1, 0, 1, 0, 1, 0, 1,\n",
       "       0, 1, 1, 0, 1, 1, 0, 1, 1, 0, 1, 1, 0, 0, 1, 0, 1, 0, 0, 1, 1, 0,\n",
       "       1, 1, 0, 1, 0, 1, 1, 0, 1, 1, 1, 1, 1, 1, 1, 1, 0, 0, 0, 0, 1, 1,\n",
       "       0, 0, 0, 1, 0, 0, 1, 1, 0, 0, 1, 1, 0, 0, 1, 1, 0, 1, 1, 0, 1, 1,\n",
       "       1, 0, 0, 1, 1, 0, 1, 0, 1, 1, 1, 0, 1, 1, 1, 0, 0, 0, 0, 1, 0, 0,\n",
       "       1, 1, 1, 1, 1, 0, 0])"
      ]
     },
     "execution_count": 54,
     "metadata": {},
     "output_type": "execute_result"
    }
   ],
   "source": [
    "original"
   ]
  },
  {
   "cell_type": "code",
   "execution_count": 55,
   "id": "3b006dec-760b-4b9a-84d3-74e1015df781",
   "metadata": {
    "tags": []
   },
   "outputs": [
    {
     "data": {
      "text/plain": [
       "205"
      ]
     },
     "execution_count": 55,
     "metadata": {},
     "output_type": "execute_result"
    }
   ],
   "source": [
    "len(predictions)"
   ]
  },
  {
   "cell_type": "code",
   "execution_count": 56,
   "id": "8b74a075-db8e-49ab-b23c-ba8065531777",
   "metadata": {
    "tags": []
   },
   "outputs": [
    {
     "data": {
      "text/plain": [
       "80.0"
      ]
     },
     "execution_count": 56,
     "metadata": {},
     "output_type": "execute_result"
    }
   ],
   "source": [
    "from sklearn.metrics import accuracy_score, classification_report\n",
    "score = accuracy_score(original, predictions)\n",
    "score*100"
   ]
  },
  {
   "cell_type": "code",
   "execution_count": 57,
   "id": "b65d7a34-edfe-4622-bc82-4e96ac8af208",
   "metadata": {
    "tags": []
   },
   "outputs": [
    {
     "name": "stderr",
     "output_type": "stream",
     "text": [
      "WARNING:sagemaker.deprecations:The endpoint attribute has been renamed in sagemaker>=2.\n",
      "See: https://sagemaker.readthedocs.io/en/stable/v2.html for details.\n",
      "INFO:sagemaker:Deleting endpoint with name: linear-endpoint1\n"
     ]
    }
   ],
   "source": [
    "sagemaker.Session().delete_endpoint(linear_predictor.endpoint)"
   ]
  }
 ],
 "metadata": {
  "availableInstances": [
   {
    "_defaultOrder": 0,
    "_isFastLaunch": true,
    "category": "General purpose",
    "gpuNum": 0,
    "hideHardwareSpecs": false,
    "memoryGiB": 4,
    "name": "ml.t3.medium",
    "vcpuNum": 2
   },
   {
    "_defaultOrder": 1,
    "_isFastLaunch": false,
    "category": "General purpose",
    "gpuNum": 0,
    "hideHardwareSpecs": false,
    "memoryGiB": 8,
    "name": "ml.t3.large",
    "vcpuNum": 2
   },
   {
    "_defaultOrder": 2,
    "_isFastLaunch": false,
    "category": "General purpose",
    "gpuNum": 0,
    "hideHardwareSpecs": false,
    "memoryGiB": 16,
    "name": "ml.t3.xlarge",
    "vcpuNum": 4
   },
   {
    "_defaultOrder": 3,
    "_isFastLaunch": false,
    "category": "General purpose",
    "gpuNum": 0,
    "hideHardwareSpecs": false,
    "memoryGiB": 32,
    "name": "ml.t3.2xlarge",
    "vcpuNum": 8
   },
   {
    "_defaultOrder": 4,
    "_isFastLaunch": true,
    "category": "General purpose",
    "gpuNum": 0,
    "hideHardwareSpecs": false,
    "memoryGiB": 8,
    "name": "ml.m5.large",
    "vcpuNum": 2
   },
   {
    "_defaultOrder": 5,
    "_isFastLaunch": false,
    "category": "General purpose",
    "gpuNum": 0,
    "hideHardwareSpecs": false,
    "memoryGiB": 16,
    "name": "ml.m5.xlarge",
    "vcpuNum": 4
   },
   {
    "_defaultOrder": 6,
    "_isFastLaunch": false,
    "category": "General purpose",
    "gpuNum": 0,
    "hideHardwareSpecs": false,
    "memoryGiB": 32,
    "name": "ml.m5.2xlarge",
    "vcpuNum": 8
   },
   {
    "_defaultOrder": 7,
    "_isFastLaunch": false,
    "category": "General purpose",
    "gpuNum": 0,
    "hideHardwareSpecs": false,
    "memoryGiB": 64,
    "name": "ml.m5.4xlarge",
    "vcpuNum": 16
   },
   {
    "_defaultOrder": 8,
    "_isFastLaunch": false,
    "category": "General purpose",
    "gpuNum": 0,
    "hideHardwareSpecs": false,
    "memoryGiB": 128,
    "name": "ml.m5.8xlarge",
    "vcpuNum": 32
   },
   {
    "_defaultOrder": 9,
    "_isFastLaunch": false,
    "category": "General purpose",
    "gpuNum": 0,
    "hideHardwareSpecs": false,
    "memoryGiB": 192,
    "name": "ml.m5.12xlarge",
    "vcpuNum": 48
   },
   {
    "_defaultOrder": 10,
    "_isFastLaunch": false,
    "category": "General purpose",
    "gpuNum": 0,
    "hideHardwareSpecs": false,
    "memoryGiB": 256,
    "name": "ml.m5.16xlarge",
    "vcpuNum": 64
   },
   {
    "_defaultOrder": 11,
    "_isFastLaunch": false,
    "category": "General purpose",
    "gpuNum": 0,
    "hideHardwareSpecs": false,
    "memoryGiB": 384,
    "name": "ml.m5.24xlarge",
    "vcpuNum": 96
   },
   {
    "_defaultOrder": 12,
    "_isFastLaunch": false,
    "category": "General purpose",
    "gpuNum": 0,
    "hideHardwareSpecs": false,
    "memoryGiB": 8,
    "name": "ml.m5d.large",
    "vcpuNum": 2
   },
   {
    "_defaultOrder": 13,
    "_isFastLaunch": false,
    "category": "General purpose",
    "gpuNum": 0,
    "hideHardwareSpecs": false,
    "memoryGiB": 16,
    "name": "ml.m5d.xlarge",
    "vcpuNum": 4
   },
   {
    "_defaultOrder": 14,
    "_isFastLaunch": false,
    "category": "General purpose",
    "gpuNum": 0,
    "hideHardwareSpecs": false,
    "memoryGiB": 32,
    "name": "ml.m5d.2xlarge",
    "vcpuNum": 8
   },
   {
    "_defaultOrder": 15,
    "_isFastLaunch": false,
    "category": "General purpose",
    "gpuNum": 0,
    "hideHardwareSpecs": false,
    "memoryGiB": 64,
    "name": "ml.m5d.4xlarge",
    "vcpuNum": 16
   },
   {
    "_defaultOrder": 16,
    "_isFastLaunch": false,
    "category": "General purpose",
    "gpuNum": 0,
    "hideHardwareSpecs": false,
    "memoryGiB": 128,
    "name": "ml.m5d.8xlarge",
    "vcpuNum": 32
   },
   {
    "_defaultOrder": 17,
    "_isFastLaunch": false,
    "category": "General purpose",
    "gpuNum": 0,
    "hideHardwareSpecs": false,
    "memoryGiB": 192,
    "name": "ml.m5d.12xlarge",
    "vcpuNum": 48
   },
   {
    "_defaultOrder": 18,
    "_isFastLaunch": false,
    "category": "General purpose",
    "gpuNum": 0,
    "hideHardwareSpecs": false,
    "memoryGiB": 256,
    "name": "ml.m5d.16xlarge",
    "vcpuNum": 64
   },
   {
    "_defaultOrder": 19,
    "_isFastLaunch": false,
    "category": "General purpose",
    "gpuNum": 0,
    "hideHardwareSpecs": false,
    "memoryGiB": 384,
    "name": "ml.m5d.24xlarge",
    "vcpuNum": 96
   },
   {
    "_defaultOrder": 20,
    "_isFastLaunch": false,
    "category": "General purpose",
    "gpuNum": 0,
    "hideHardwareSpecs": true,
    "memoryGiB": 0,
    "name": "ml.geospatial.interactive",
    "supportedImageNames": [
     "sagemaker-geospatial-v1-0"
    ],
    "vcpuNum": 0
   },
   {
    "_defaultOrder": 21,
    "_isFastLaunch": true,
    "category": "Compute optimized",
    "gpuNum": 0,
    "hideHardwareSpecs": false,
    "memoryGiB": 4,
    "name": "ml.c5.large",
    "vcpuNum": 2
   },
   {
    "_defaultOrder": 22,
    "_isFastLaunch": false,
    "category": "Compute optimized",
    "gpuNum": 0,
    "hideHardwareSpecs": false,
    "memoryGiB": 8,
    "name": "ml.c5.xlarge",
    "vcpuNum": 4
   },
   {
    "_defaultOrder": 23,
    "_isFastLaunch": false,
    "category": "Compute optimized",
    "gpuNum": 0,
    "hideHardwareSpecs": false,
    "memoryGiB": 16,
    "name": "ml.c5.2xlarge",
    "vcpuNum": 8
   },
   {
    "_defaultOrder": 24,
    "_isFastLaunch": false,
    "category": "Compute optimized",
    "gpuNum": 0,
    "hideHardwareSpecs": false,
    "memoryGiB": 32,
    "name": "ml.c5.4xlarge",
    "vcpuNum": 16
   },
   {
    "_defaultOrder": 25,
    "_isFastLaunch": false,
    "category": "Compute optimized",
    "gpuNum": 0,
    "hideHardwareSpecs": false,
    "memoryGiB": 72,
    "name": "ml.c5.9xlarge",
    "vcpuNum": 36
   },
   {
    "_defaultOrder": 26,
    "_isFastLaunch": false,
    "category": "Compute optimized",
    "gpuNum": 0,
    "hideHardwareSpecs": false,
    "memoryGiB": 96,
    "name": "ml.c5.12xlarge",
    "vcpuNum": 48
   },
   {
    "_defaultOrder": 27,
    "_isFastLaunch": false,
    "category": "Compute optimized",
    "gpuNum": 0,
    "hideHardwareSpecs": false,
    "memoryGiB": 144,
    "name": "ml.c5.18xlarge",
    "vcpuNum": 72
   },
   {
    "_defaultOrder": 28,
    "_isFastLaunch": false,
    "category": "Compute optimized",
    "gpuNum": 0,
    "hideHardwareSpecs": false,
    "memoryGiB": 192,
    "name": "ml.c5.24xlarge",
    "vcpuNum": 96
   },
   {
    "_defaultOrder": 29,
    "_isFastLaunch": true,
    "category": "Accelerated computing",
    "gpuNum": 1,
    "hideHardwareSpecs": false,
    "memoryGiB": 16,
    "name": "ml.g4dn.xlarge",
    "vcpuNum": 4
   },
   {
    "_defaultOrder": 30,
    "_isFastLaunch": false,
    "category": "Accelerated computing",
    "gpuNum": 1,
    "hideHardwareSpecs": false,
    "memoryGiB": 32,
    "name": "ml.g4dn.2xlarge",
    "vcpuNum": 8
   },
   {
    "_defaultOrder": 31,
    "_isFastLaunch": false,
    "category": "Accelerated computing",
    "gpuNum": 1,
    "hideHardwareSpecs": false,
    "memoryGiB": 64,
    "name": "ml.g4dn.4xlarge",
    "vcpuNum": 16
   },
   {
    "_defaultOrder": 32,
    "_isFastLaunch": false,
    "category": "Accelerated computing",
    "gpuNum": 1,
    "hideHardwareSpecs": false,
    "memoryGiB": 128,
    "name": "ml.g4dn.8xlarge",
    "vcpuNum": 32
   },
   {
    "_defaultOrder": 33,
    "_isFastLaunch": false,
    "category": "Accelerated computing",
    "gpuNum": 4,
    "hideHardwareSpecs": false,
    "memoryGiB": 192,
    "name": "ml.g4dn.12xlarge",
    "vcpuNum": 48
   },
   {
    "_defaultOrder": 34,
    "_isFastLaunch": false,
    "category": "Accelerated computing",
    "gpuNum": 1,
    "hideHardwareSpecs": false,
    "memoryGiB": 256,
    "name": "ml.g4dn.16xlarge",
    "vcpuNum": 64
   },
   {
    "_defaultOrder": 35,
    "_isFastLaunch": false,
    "category": "Accelerated computing",
    "gpuNum": 1,
    "hideHardwareSpecs": false,
    "memoryGiB": 61,
    "name": "ml.p3.2xlarge",
    "vcpuNum": 8
   },
   {
    "_defaultOrder": 36,
    "_isFastLaunch": false,
    "category": "Accelerated computing",
    "gpuNum": 4,
    "hideHardwareSpecs": false,
    "memoryGiB": 244,
    "name": "ml.p3.8xlarge",
    "vcpuNum": 32
   },
   {
    "_defaultOrder": 37,
    "_isFastLaunch": false,
    "category": "Accelerated computing",
    "gpuNum": 8,
    "hideHardwareSpecs": false,
    "memoryGiB": 488,
    "name": "ml.p3.16xlarge",
    "vcpuNum": 64
   },
   {
    "_defaultOrder": 38,
    "_isFastLaunch": false,
    "category": "Accelerated computing",
    "gpuNum": 8,
    "hideHardwareSpecs": false,
    "memoryGiB": 768,
    "name": "ml.p3dn.24xlarge",
    "vcpuNum": 96
   },
   {
    "_defaultOrder": 39,
    "_isFastLaunch": false,
    "category": "Memory Optimized",
    "gpuNum": 0,
    "hideHardwareSpecs": false,
    "memoryGiB": 16,
    "name": "ml.r5.large",
    "vcpuNum": 2
   },
   {
    "_defaultOrder": 40,
    "_isFastLaunch": false,
    "category": "Memory Optimized",
    "gpuNum": 0,
    "hideHardwareSpecs": false,
    "memoryGiB": 32,
    "name": "ml.r5.xlarge",
    "vcpuNum": 4
   },
   {
    "_defaultOrder": 41,
    "_isFastLaunch": false,
    "category": "Memory Optimized",
    "gpuNum": 0,
    "hideHardwareSpecs": false,
    "memoryGiB": 64,
    "name": "ml.r5.2xlarge",
    "vcpuNum": 8
   },
   {
    "_defaultOrder": 42,
    "_isFastLaunch": false,
    "category": "Memory Optimized",
    "gpuNum": 0,
    "hideHardwareSpecs": false,
    "memoryGiB": 128,
    "name": "ml.r5.4xlarge",
    "vcpuNum": 16
   },
   {
    "_defaultOrder": 43,
    "_isFastLaunch": false,
    "category": "Memory Optimized",
    "gpuNum": 0,
    "hideHardwareSpecs": false,
    "memoryGiB": 256,
    "name": "ml.r5.8xlarge",
    "vcpuNum": 32
   },
   {
    "_defaultOrder": 44,
    "_isFastLaunch": false,
    "category": "Memory Optimized",
    "gpuNum": 0,
    "hideHardwareSpecs": false,
    "memoryGiB": 384,
    "name": "ml.r5.12xlarge",
    "vcpuNum": 48
   },
   {
    "_defaultOrder": 45,
    "_isFastLaunch": false,
    "category": "Memory Optimized",
    "gpuNum": 0,
    "hideHardwareSpecs": false,
    "memoryGiB": 512,
    "name": "ml.r5.16xlarge",
    "vcpuNum": 64
   },
   {
    "_defaultOrder": 46,
    "_isFastLaunch": false,
    "category": "Memory Optimized",
    "gpuNum": 0,
    "hideHardwareSpecs": false,
    "memoryGiB": 768,
    "name": "ml.r5.24xlarge",
    "vcpuNum": 96
   },
   {
    "_defaultOrder": 47,
    "_isFastLaunch": false,
    "category": "Accelerated computing",
    "gpuNum": 1,
    "hideHardwareSpecs": false,
    "memoryGiB": 16,
    "name": "ml.g5.xlarge",
    "vcpuNum": 4
   },
   {
    "_defaultOrder": 48,
    "_isFastLaunch": false,
    "category": "Accelerated computing",
    "gpuNum": 1,
    "hideHardwareSpecs": false,
    "memoryGiB": 32,
    "name": "ml.g5.2xlarge",
    "vcpuNum": 8
   },
   {
    "_defaultOrder": 49,
    "_isFastLaunch": false,
    "category": "Accelerated computing",
    "gpuNum": 1,
    "hideHardwareSpecs": false,
    "memoryGiB": 64,
    "name": "ml.g5.4xlarge",
    "vcpuNum": 16
   },
   {
    "_defaultOrder": 50,
    "_isFastLaunch": false,
    "category": "Accelerated computing",
    "gpuNum": 1,
    "hideHardwareSpecs": false,
    "memoryGiB": 128,
    "name": "ml.g5.8xlarge",
    "vcpuNum": 32
   },
   {
    "_defaultOrder": 51,
    "_isFastLaunch": false,
    "category": "Accelerated computing",
    "gpuNum": 1,
    "hideHardwareSpecs": false,
    "memoryGiB": 256,
    "name": "ml.g5.16xlarge",
    "vcpuNum": 64
   },
   {
    "_defaultOrder": 52,
    "_isFastLaunch": false,
    "category": "Accelerated computing",
    "gpuNum": 4,
    "hideHardwareSpecs": false,
    "memoryGiB": 192,
    "name": "ml.g5.12xlarge",
    "vcpuNum": 48
   },
   {
    "_defaultOrder": 53,
    "_isFastLaunch": false,
    "category": "Accelerated computing",
    "gpuNum": 4,
    "hideHardwareSpecs": false,
    "memoryGiB": 384,
    "name": "ml.g5.24xlarge",
    "vcpuNum": 96
   },
   {
    "_defaultOrder": 54,
    "_isFastLaunch": false,
    "category": "Accelerated computing",
    "gpuNum": 8,
    "hideHardwareSpecs": false,
    "memoryGiB": 768,
    "name": "ml.g5.48xlarge",
    "vcpuNum": 192
   },
   {
    "_defaultOrder": 55,
    "_isFastLaunch": false,
    "category": "Accelerated computing",
    "gpuNum": 8,
    "hideHardwareSpecs": false,
    "memoryGiB": 1152,
    "name": "ml.p4d.24xlarge",
    "vcpuNum": 96
   },
   {
    "_defaultOrder": 56,
    "_isFastLaunch": false,
    "category": "Accelerated computing",
    "gpuNum": 8,
    "hideHardwareSpecs": false,
    "memoryGiB": 1152,
    "name": "ml.p4de.24xlarge",
    "vcpuNum": 96
   }
  ],
  "instance_type": "ml.t3.medium",
  "kernelspec": {
   "display_name": "Python 3 (Data Science)",
   "language": "python",
   "name": "python3__SAGEMAKER_INTERNAL__arn:aws:sagemaker:ap-south-1:394103062818:image/datascience-1.0"
  },
  "language_info": {
   "codemirror_mode": {
    "name": "ipython",
    "version": 3
   },
   "file_extension": ".py",
   "mimetype": "text/x-python",
   "name": "python",
   "nbconvert_exporter": "python",
   "pygments_lexer": "ipython3",
   "version": "3.7.10"
  }
 },
 "nbformat": 4,
 "nbformat_minor": 5
}
